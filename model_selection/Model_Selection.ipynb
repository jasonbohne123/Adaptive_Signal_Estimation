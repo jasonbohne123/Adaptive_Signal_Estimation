{
 "cells": [
  {
   "cell_type": "markdown",
   "id": "29ee2416-dfe4-431d-b6de-f8a62e9215db",
   "metadata": {},
   "source": [
    "### Optimal CP Detection\n",
    "\n",
    "Implements Levy-Leduc Code to determine optimal number of changepoints across a candidate set specifically with\n",
    "- Dynamic Programming Recursion\n",
    "- Model Selection vis Generalized Cross Validation Score (El. of Stat Learning pg 325)\n",
    "- Continuity Correction using Linear Splines\n"
   ]
  },
  {
   "cell_type": "code",
   "execution_count": 1,
   "id": "e745da4a-4a44-45fe-ac81-8ebd2ae4b479",
   "metadata": {},
   "outputs": [],
   "source": [
    "import numpy as np\n",
    "from scipy.interpolate import LSQUnivariateSpline\n",
    "import matplotlib.pyplot as plt"
   ]
  },
  {
   "cell_type": "markdown",
   "id": "b0ae4f81",
   "metadata": {},
   "source": [
    "Map changepoint indices to interval partitions"
   ]
  },
  {
   "cell_type": "code",
   "execution_count": 2,
   "id": "64015042",
   "metadata": {},
   "outputs": [],
   "source": [
    "def map_intervals(Y,indices):\n",
    "    \"\"\" Maps the indices of the candidate changepoints to a dictionary of intervals\n",
    "    \"\"\"\n",
    "    intervals={}\n",
    "    for i in range(len(indices)-1):\n",
    "        intervals[i]=([indices[i],indices[i+1]])\n",
    "   \n",
    "    return intervals\n"
   ]
  },
  {
   "cell_type": "markdown",
   "id": "b3b28506",
   "metadata": {},
   "source": [
    "Fit polynomial order k on each interval (OLS)"
   ]
  },
  {
   "cell_type": "code",
   "execution_count": 3,
   "id": "14dbd824",
   "metadata": {},
   "outputs": [],
   "source": [
    "\n",
    "def best_fit_polynomial(Y,interval,order=1):\n",
    "    \"\"\" Fits a polynomial of order k to the data Y across a given interval\n",
    "    \"\"\"\n",
    "    # partitions x and y of interval \n",
    "    y=Y[interval[0]:interval[1]]\n",
    "    x_range=np.arange(interval[0],interval[1],1)\n",
    "\n",
    "    # fit polynomial of order k to data\n",
    "    poly_coef=np.polyfit(x_range,y,order)\n",
    "    polynomial=poly_coef.dot(np.vstack([x_range**i for i in range(order,-1,-1)]))\n",
    "    \n",
    "    # mean squared error of fit\n",
    "    mse=np.mean((y-polynomial)**2)\n",
    "\n",
    "    return mse"
   ]
  },
  {
   "cell_type": "markdown",
   "id": "887d10c9",
   "metadata": {},
   "source": [
    "Compute cost matrix for merged intervals"
   ]
  },
  {
   "cell_type": "code",
   "execution_count": 4,
   "id": "973237b5",
   "metadata": {},
   "outputs": [],
   "source": [
    "def compute_J(Y,indices,cp_mappings,order):\n",
    "    \"\"\" Evaluate cost matrix between each nested pair of changepoints\n",
    "    \"\"\"\n",
    "    \n",
    "    k=len(indices)-1\n",
    "    mapping_indices=np.arange(k)\n",
    "\n",
    "    # initialize cost matrix\n",
    "    cost_matrix=np.zeros((k,k))\n",
    "    \n",
    "    # evaluate cost matrix, looping over nested pairs of merged intervals\n",
    "    for i in range(len(mapping_indices)):\n",
    "        for j in range(i,len(mapping_indices)):\n",
    "          \n",
    "            interval=[cp_mappings[i][0],cp_mappings[j][1]]\n",
    "            cost_matrix[i,j]=best_fit_polynomial(Y,interval,order=order)\n",
    "\n",
    "    return cost_matrix"
   ]
  },
  {
   "cell_type": "markdown",
   "id": "eecc3336",
   "metadata": {},
   "source": [
    "Compute recursion matrix for optimal cost and location"
   ]
  },
  {
   "cell_type": "code",
   "execution_count": 5,
   "id": "23ff60c1",
   "metadata": {},
   "outputs": [],
   "source": [
    "def compute_V(cost_matrix,K_max,indices):\n",
    "    \"\"\" Computes the optimal cost and changepoint locations\n",
    "    \"\"\"\n",
    "   \n",
    "    k=len(indices)-1\n",
    "    \n",
    "    # initialize optimal cost and optimal location matrices\n",
    "    optimal_cost=np.zeros((K_max+1,k))\n",
    "    optimal_loc=np.zeros((K_max,k))\n",
    "    \n",
    "    \n",
    "    # no changepoints; best RSE is the sum of squared errors on interval\n",
    "    for i in range(k):\n",
    "        optimal_cost[0,i]=cost_matrix[0,i]\n",
    "  \n",
    "    # loop over number of possible changepoints calculating optimal cost and location of indices \n",
    "    # utilizes dynamic programming structure to build solution from subproblems solution \n",
    "    for k_i in range(1,K_max+1):\n",
    "        for j in range(k_i+1,k+1):\n",
    "      \n",
    "            optimal_cost[k_i,j-1]=np.min(optimal_cost[k_i-1,k_i-1:j-1]+cost_matrix[k_i:j,j-1])\n",
    "            ind=np.argmin(optimal_cost[k_i-1,k_i-1:j-1]+cost_matrix[k_i:j,j-1])\n",
    "            optimal_loc[k_i-1,j-1]=ind+k_i-1\n",
    " \n",
    "    return optimal_loc"
   ]
  },
  {
   "cell_type": "markdown",
   "id": "c5d73584",
   "metadata": {},
   "source": [
    "Determine optimal segmentation for each fixed changepoint"
   ]
  },
  {
   "cell_type": "code",
   "execution_count": 6,
   "id": "baa2840c",
   "metadata": {},
   "outputs": [],
   "source": [
    "def optimal_segmentation(optimal_loc,indices,K_max):\n",
    "    \"\"\" Computes the optimal segmentation based on recursive RSE\n",
    "    \"\"\"\n",
    "    \n",
    "    all_loc=optimal_loc.copy()\n",
    "    k=len(indices)-1\n",
    "\n",
    "    # dictionary keyed by potential cp, values are cps that are optimal for that k_i\n",
    "    total_loc={}\n",
    "\n",
    "    for k_i in range(1,K_max+1):\n",
    "        total_loc[k_i-1]=np.zeros(k_i)\n",
    "        total_loc[k_i-1][k_i-1]=all_loc[k_i-1,k-1]\n",
    "        for i in range(k_i-1,0,-1):\n",
    "            total_loc[k_i-1][i-1]=all_loc[i-1,int(total_loc[k_i-1][i])]\n",
    "\n",
    "    return total_loc"
   ]
  },
  {
   "cell_type": "markdown",
   "id": "62998437",
   "metadata": {},
   "source": [
    "Convert indices of optimal cp to original cp"
   ]
  },
  {
   "cell_type": "code",
   "execution_count": 7,
   "id": "87de82c7",
   "metadata": {},
   "outputs": [],
   "source": [
    "def convert_observed_cp(optimal_segment,indices):\n",
    "    \"\"\"Converts the optimal changepoints to the observed indices\n",
    "    \"\"\"\n",
    "    all_segments=optimal_segment.copy()\n",
    "    \n",
    "    # keys by number of points \n",
    "    for i in range(len(all_segments)):\n",
    "        indices_dict=dict(zip([i for i in range(0,len(indices))],indices))\n",
    "        \n",
    "        all_segments[i]=[indices_dict[int(i)+1] for i in all_segments[i]]\n",
    "    all_segments={i+1:all_segments[i] for i in range(len(all_segments))}\n",
    "    # include case where zero changepoints are optimal\n",
    "    all_segments[0]=[0]\n",
    "    return all_segments"
   ]
  },
  {
   "attachments": {},
   "cell_type": "markdown",
   "id": "d4ed9425",
   "metadata": {},
   "source": [
    "Management class for partition recursion"
   ]
  },
  {
   "cell_type": "code",
   "execution_count": 8,
   "id": "8c518e48-7e2a-4011-b90a-990095fb3ca6",
   "metadata": {},
   "outputs": [],
   "source": [
    "\n",
    "def partition_solver(Y,indices,K_max,k=1):\n",
    "    \"\"\" Management function to determine optimal changepoints per fixed size\n",
    "    \"\"\"\n",
    "\n",
    "    if K_max>len(indices):\n",
    "        print(\"K_max must be less than or equal to the number of candidate changepoints\")\n",
    "        K_max=len(indices)\n",
    "\n",
    "    indices=np.unique(np.concatenate([[0],indices,[len(Y)]]))\n",
    "    print(\"Indices are {}\".format(indices))\n",
    "\n",
    "    # map the indices to the intervals of the data\n",
    "    cp_mappings=map_intervals(Y,indices)\n",
    "    \n",
    "    # Initialize cost matrix\n",
    "    cost_matrix=compute_J(Y,indices,cp_mappings,k)\n",
    "\n",
    "    # Compute optimal cost and changepoint locations\n",
    "    optimal_loc=compute_V(cost_matrix,K_max,indices)\n",
    "    \n",
    "    # Compute optimal segmentation\n",
    "    optimal_segment=optimal_segmentation(optimal_loc,indices,K_max)\n",
    "\n",
    "    optimal_indices=convert_observed_cp(optimal_segment,indices)\n",
    "\n",
    "    return optimal_indices\n"
   ]
  },
  {
   "cell_type": "markdown",
   "id": "95da7fd9",
   "metadata": {},
   "source": [
    "### Test Data and Simulation\n",
    "\n",
    "Given true changepoints; generate brownian motion in between\n",
    "\n",
    "Populate candidate set with true and fake changepoints\n",
    "\n",
    "Evaluate performance "
   ]
  },
  {
   "cell_type": "code",
   "execution_count": 9,
   "id": "6f4d80a0-9db8-4442-9ad0-d1e00b758f47",
   "metadata": {},
   "outputs": [],
   "source": [
    "def test_dp():\n",
    "    \"\"\" Prep dataset to test dynamic programming recursion\n",
    "    \"\"\"\n",
    "    n=250\n",
    "    k=5\n",
    "    x=np.arange(0,n,1)\n",
    "    y=np.empty(n)\n",
    "\n",
    "    sample_variance=0.5\n",
    "    \n",
    "    n1,n2,n3,n4,n5=np.arange(0,n,n/k).astype(int)\n",
    "    \n",
    "    def generate_noise(samples,sample_variance):\n",
    "        return np.random.normal(scale=sample_variance,size=n)\n",
    "    \n",
    "    y[:n2]=0.1*x[:n2]+2\n",
    "    y[n2:n3]=-0.05*x[n2:n3]+9.5\n",
    "    y[n3:n4]=0.05*x[n3:n4]-0.5\n",
    "\n",
    "    y[n4:n5]=-0.05*x[n4:n5]+14.5\n",
    "    y[n5:]=0.25*x[n5:]-45.5\n",
    "\n",
    "    true_cp=np.array([n2,n3,n4,n5])\n",
    "    noisy_cp=np.array([35,n2,75,n3,125,130,135,141,n4,167,n5])\n",
    "    \n",
    "    return x,y+0.5*generate_noise(n,sample_variance),noisy_cp,true_cp"
   ]
  },
  {
   "cell_type": "markdown",
   "id": "e02f447d",
   "metadata": {},
   "source": [
    "### Test Cases\n",
    "\n",
    "1. Pass in K_max=n where n is number of changepoints. Optimal solution for k_i=K_max should be original CP set"
   ]
  },
  {
   "cell_type": "code",
   "execution_count": 10,
   "id": "932fa47d",
   "metadata": {},
   "outputs": [
    {
     "name": "stdout",
     "output_type": "stream",
     "text": [
      "Indices are [  0  35  50  75 100 125 130 135 141 150 167 200 250]\n"
     ]
    },
    {
     "data": {
      "text/plain": [
       "{1: [200],\n",
       " 2: [35, 200],\n",
       " 3: [50, 130, 200],\n",
       " 4: [50, 100, 150, 200],\n",
       " 5: [35, 50, 100, 150, 200],\n",
       " 6: [50, 100, 135, 141, 150, 200],\n",
       " 7: [35, 50, 100, 135, 141, 150, 200],\n",
       " 8: [35, 50, 75, 100, 135, 141, 150, 200],\n",
       " 9: [35, 50, 75, 100, 135, 141, 150, 167, 200],\n",
       " 10: [35, 50, 75, 100, 130, 135, 141, 150, 167, 200],\n",
       " 11: [35, 50, 75, 100, 125, 130, 135, 141, 150, 167, 200],\n",
       " 0: [0]}"
      ]
     },
     "execution_count": 10,
     "metadata": {},
     "output_type": "execute_result"
    }
   ],
   "source": [
    "x,y,noisy_cp,true_cp=test_dp()\n",
    "n=len(noisy_cp)\n",
    "\n",
    "optimal_indices=partition_solver(y,noisy_cp,K_max=n,k=1)\n",
    "optimal_indices"
   ]
  },
  {
   "cell_type": "code",
   "execution_count": 11,
   "id": "0fc5d184",
   "metadata": {},
   "outputs": [
    {
     "data": {
      "text/plain": [
       "<matplotlib.legend.Legend at 0x7f3d4e5fa5f0>"
      ]
     },
     "execution_count": 11,
     "metadata": {},
     "output_type": "execute_result"
    },
    {
     "data": {
      "image/png": "[encoded data removed]",
      "text/plain": [
       "<Figure size 720x576 with 1 Axes>"
      ]
     },
     "metadata": {
      "needs_background": "light"
     },
     "output_type": "display_data"
    }
   ],
   "source": [
    "fig,ax=plt.subplots(1,1,figsize=(10,8))\n",
    "ax.plot(x,y)\n",
    "ax.scatter(x[noisy_cp],y[noisy_cp],c='r',s=100,label='Original CPs')\n",
    "ax.scatter(x[optimal_indices[n]],y[optimal_indices[n]],c='g',s=100,label='Optimal CPs')\n",
    "ax.legend()"
   ]
  },
  {
   "cell_type": "markdown",
   "id": "3d1a8d4c",
   "metadata": {},
   "source": [
    "### Model Selection\n",
    "\n",
    "Performs model selection via minimization of GCV Score\n",
    "\n",
    "Returns mse and gcv of each fixed cp; sorted increasing order"
   ]
  },
  {
   "cell_type": "code",
   "execution_count": 12,
   "id": "52ab2137",
   "metadata": {},
   "outputs": [],
   "source": [
    "def generalized_cross_validation(Y,optimal_indices,order=1):\n",
    "    \"\"\" Determines optimal number of changepoints based on generalized cross validation \"\"\"\n",
    "\n",
    "    mse_dict={}\n",
    "    gcv_dict={}\n",
    "    \n",
    "    # confirm below params are optimal\n",
    "    c=3\n",
    "    r=order+2\n",
    "\n",
    "    for k_i, cps in optimal_indices.items():\n",
    "\n",
    "        # pad cps\n",
    "        cps=np.unique(np.concatenate([[0],cps,[len(Y)]]))\n",
    "\n",
    "        fixed_intervals=map_intervals(Y,cps)\n",
    "      \n",
    "        \n",
    "\n",
    "        K=len(cps)\n",
    "        M=r+c*K\n",
    "\n",
    "        fixed_mse=0\n",
    "        # compute the sum of squared errors of best fitted polynomial each interval\n",
    "        \n",
    "        for inter in list(fixed_intervals.values()):\n",
    "            mse=best_fit_polynomial(Y,inter)\n",
    "            fixed_mse+=mse\n",
    "        \n",
    "        mse_dict[k_i]=fixed_mse\n",
    "        gcv_dict[k_i]=fixed_mse/(1-(M/len(Y))**2)\n",
    "\n",
    "    sorted_mse=sorted(mse_dict.items(),key=lambda x: x[1])\n",
    "    sorted_gcv=sorted(gcv_dict.items(),key=lambda x: x[1])\n",
    "    return sorted_mse, sorted_gcv"
   ]
  },
  {
   "cell_type": "code",
   "execution_count": 13,
   "id": "ce5759c5",
   "metadata": {},
   "outputs": [
    {
     "data": {
      "text/plain": [
       "{1: [200],\n",
       " 2: [35, 200],\n",
       " 3: [50, 130, 200],\n",
       " 4: [50, 100, 150, 200],\n",
       " 5: [35, 50, 100, 150, 200],\n",
       " 6: [50, 100, 135, 141, 150, 200],\n",
       " 7: [35, 50, 100, 135, 141, 150, 200],\n",
       " 8: [35, 50, 75, 100, 135, 141, 150, 200],\n",
       " 9: [35, 50, 75, 100, 135, 141, 150, 167, 200],\n",
       " 10: [35, 50, 75, 100, 130, 135, 141, 150, 167, 200],\n",
       " 11: [35, 50, 75, 100, 125, 130, 135, 141, 150, 167, 200],\n",
       " 0: [0]}"
      ]
     },
     "execution_count": 13,
     "metadata": {},
     "output_type": "execute_result"
    }
   ],
   "source": [
    "optimal_indices"
   ]
  },
  {
   "cell_type": "code",
   "execution_count": 14,
   "id": "301c87e6",
   "metadata": {},
   "outputs": [
    {
     "data": {
      "text/plain": [
       "([(4, 0.28645401751741745),\n",
       "  (5, 0.31956652028632726),\n",
       "  (6, 0.3556478302517995),\n",
       "  (7, 0.38876033302070934),\n",
       "  (8, 0.4284571085859003),\n",
       "  (9, 0.46995729212859816),\n",
       "  (10, 0.5199857266116323),\n",
       "  (11, 0.566081239765222),\n",
       "  (3, 0.6309909749889253),\n",
       "  (2, 0.6864632043458002),\n",
       "  (1, 1.1114833206769537),\n",
       "  (0, 4.336004981409851)],\n",
       " [(4, 0.2884896001359769),\n",
       "  (5, 0.3225390400797018),\n",
       "  (6, 0.35984506306741787),\n",
       "  (7, 0.3944402729512067),\n",
       "  (8, 0.43605492968065607),\n",
       "  (9, 0.47990867848567714),\n",
       "  (10, 0.5329557374379216),\n",
       "  (11, 0.582522350588224),\n",
       "  (3, 0.6342790777278665),\n",
       "  (2, 0.6889434005879167),\n",
       "  (1, 1.114050092089127),\n",
       "  (0, 4.341631736139888)])"
      ]
     },
     "execution_count": 14,
     "metadata": {},
     "output_type": "execute_result"
    }
   ],
   "source": [
    "generalized_cross_validation(y,optimal_indices,order=1)"
   ]
  },
  {
   "cell_type": "markdown",
   "id": "5e976b8a",
   "metadata": {},
   "source": [
    "### Optimal Selected CP\n",
    "\n",
    "Selected model with minimized gcv score\n",
    "\n",
    "Model Estimates for optimal cp are exactly true cp from candidate set"
   ]
  },
  {
   "cell_type": "code",
   "execution_count": 15,
   "id": "04ab3f37",
   "metadata": {},
   "outputs": [
    {
     "data": {
      "text/plain": [
       "<matplotlib.collections.PathCollection at 0x7f3d4e399c00>"
      ]
     },
     "execution_count": 15,
     "metadata": {},
     "output_type": "execute_result"
    },
    {
     "data": {
      "image/png": "[encoded data removed]",
      "text/plain": [
       "<Figure size 720x576 with 1 Axes>"
      ]
     },
     "metadata": {
      "needs_background": "light"
     },
     "output_type": "display_data"
    }
   ],
   "source": [
    "fig,ax=plt.subplots(1,1,figsize=(10,8))\n",
    "ax.set_title(\"Optimally Recovered CP\")\n",
    "ax.plot(x,y)\n",
    "ax.scatter(x[true_cp],y[true_cp],c='r',s=250,label='True CPs')\n",
    "ax.scatter(x[noisy_cp],y[noisy_cp],c='g',s=100,label='Noisy CPs')\n",
    "ax.scatter(x[optimal_indices[4]],y[optimal_indices[4]],c='b',s=100,label='Optimally Selected CPs')"
   ]
  },
  {
   "cell_type": "markdown",
   "id": "1a35062a",
   "metadata": {},
   "source": [
    "### Fit Linear Spline with optimal changepoints as our explicit knots\n",
    "Interpretation is this is the best piecewise linear continuous estimator "
   ]
  },
  {
   "cell_type": "code",
   "execution_count": 16,
   "id": "a6f77cbc",
   "metadata": {},
   "outputs": [],
   "source": [
    "def fit_linear_spline(y,optimal_cp,order=1):\n",
    "    \"\"\" Fits a linear spline to the data using the optimal changepoints\n",
    "    \"\"\"\n",
    "    \n",
    "    x=np.arange(0,len(y),1)\n",
    "\n",
    "    spline=LSQUnivariateSpline(x,y,t=optimal_cp,k=order)\n",
    "\n",
    "    return spline(x)"
   ]
  },
  {
   "cell_type": "code",
   "execution_count": 17,
   "id": "c46d438e",
   "metadata": {},
   "outputs": [
    {
     "data": {
      "text/plain": [
       "<matplotlib.collections.PathCollection at 0x7f3d4e406d70>"
      ]
     },
     "execution_count": 17,
     "metadata": {},
     "output_type": "execute_result"
    },
    {
     "data": {
      "image/png": "[encoded data removed]",
      "text/plain": [
       "<Figure size 720x576 with 1 Axes>"
      ]
     },
     "metadata": {
      "needs_background": "light"
     },
     "output_type": "display_data"
    }
   ],
   "source": [
    "fig,ax=plt.subplots(1,1,figsize=(10,8))\n",
    "ax.set_title(\"Optimally Recovered CP and Linear Spline\")\n",
    "ax.plot(x,y)\n",
    "ax.plot(x,fit_linear_spline(y,optimal_indices[4],order=1),c='r',label='Linear Spline')\n",
    "ax.scatter(x[true_cp],y[true_cp],c='r',s=250,label='True CPs')\n",
    "ax.scatter(x[noisy_cp],y[noisy_cp],c='g',s=100,label='Noisy CPs')\n",
    "ax.scatter(x[optimal_indices[4]],y[optimal_indices[4]],c='b',s=100,label='Optimally Selected CPs')"
   ]
  },
  {
   "cell_type": "markdown",
   "id": "3a793082",
   "metadata": {},
   "source": [
    "### Results\n",
    "\n",
    "Changepoints within optimal model match true changepoints exactly"
   ]
  },
  {
   "cell_type": "code",
   "execution_count": 18,
   "id": "25dd57c3",
   "metadata": {},
   "outputs": [
    {
     "data": {
      "text/plain": [
       "array([ 50, 100, 150, 200])"
      ]
     },
     "execution_count": 18,
     "metadata": {},
     "output_type": "execute_result"
    }
   ],
   "source": [
    "true_cp"
   ]
  },
  {
   "cell_type": "code",
   "execution_count": 19,
   "id": "fa47cc01",
   "metadata": {},
   "outputs": [
    {
     "data": {
      "text/plain": [
       "[50, 100, 150, 200]"
      ]
     },
     "execution_count": 19,
     "metadata": {},
     "output_type": "execute_result"
    }
   ],
   "source": [
    "optimal_indices[4]"
   ]
  }
 ],
 "metadata": {
  "kernelspec": {
   "display_name": "Python 3.10.4 ('research')",
   "language": "python",
   "name": "python3"
  },
  "language_info": {
   "codemirror_mode": {
    "name": "ipython",
    "version": 3
   },
   "file_extension": ".py",
   "mimetype": "text/x-python",
   "name": "python",
   "nbconvert_exporter": "python",
   "pygments_lexer": "ipython3",
   "version": "3.10.4"
  },
  "vscode": {
   "interpreter": {
    "hash": "8fefc22b81b58a95d090389e6427ac7414ba2434182c3be0d4e0279b8ec28ded"
   }
  }
 },
 "nbformat": 4,
 "nbformat_minor": 5
}
