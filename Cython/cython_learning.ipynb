{
 "cells": [
  {
   "cell_type": "code",
   "execution_count": 7,
   "metadata": {},
   "outputs": [
    {
     "name": "stdout",
     "output_type": "stream",
     "text": [
      "The cython extension is already loaded. To reload it, use:\n",
      "  %reload_ext cython\n"
     ]
    }
   ],
   "source": [
    "%load_ext cython"
   ]
  },
  {
   "cell_type": "code",
   "execution_count": 8,
   "metadata": {},
   "outputs": [],
   "source": [
    "%%cython\n",
    "\n",
    "import cython\n",
    "cimport numpy as np\n",
    "\n",
    "# necessary for calling numpy API\n",
    "np.import_array()"
   ]
  },
  {
   "cell_type": "code",
   "execution_count": 10,
   "metadata": {},
   "outputs": [
    {
     "name": "stderr",
     "output_type": "stream",
     "text": [
      "\n",
      "Error compiling Cython file:\n",
      "------------------------------------------------------------\n",
      "...\n",
      "\n",
      "\n",
      "from trend_filtering.opt_params import get_hyperparams\n",
      "\n",
      "def adaptive_trend_filter(y,t=None,lambda=1.0,k=2,verbose=True):\n",
      "                                  ^\n",
      "------------------------------------------------------------\n",
      "\n",
      "/home/jbohn/.cache/ipython/cython/_cython_magic_fa513b71b07ed99791490393f83f50b5.pyx:5:35: Expected an identifier, found 'lambda'\n",
      "\n",
      "Error compiling Cython file:\n",
      "------------------------------------------------------------\n",
      "...\n",
      "    cdef float gamma,alpha,beta,mu,tol\n",
      "    cdef int max_iter,maxlsiter\n",
      "\n",
      "    # allow gil to be released for hyperparameter fetching \n",
      "    with gil:\n",
      "        opt_params = get_hyperparams(y,t,lambda,k,verbose)\n",
      "                                              ^\n",
      "------------------------------------------------------------\n",
      "\n",
      "/home/jbohn/.cache/ipython/cython/_cython_magic_fa513b71b07ed99791490393f83f50b5.pyx:13:47: Expected an identifier, found ','\n",
      "\n",
      "Error compiling Cython file:\n",
      "------------------------------------------------------------\n",
      "...\n",
      "    cdef float gamma,alpha,beta,mu,tol\n",
      "    cdef int max_iter,maxlsiter\n",
      "\n",
      "    # allow gil to be released for hyperparameter fetching \n",
      "    with gil:\n",
      "        opt_params = get_hyperparams(y,t,lambda,k,verbose)\n",
      "                                                        ^\n",
      "------------------------------------------------------------\n",
      "\n",
      "/home/jbohn/.cache/ipython/cython/_cython_magic_fa513b71b07ed99791490393f83f50b5.pyx:13:57: Expected ':', found ')'\n"
     ]
    }
   ],
   "source": [
    "%%cython\n",
    "\n",
    "\n",
    "from trend_filtering.opt_params import get_hyperparams\n",
    "\n",
    "def adaptive_trend_filter(y,t=None,lambda=1.0,k=2,verbose=True):\n",
    "\n",
    "    # define variable types \n",
    "    cdef float gamma,alpha,beta,mu,tol\n",
    "    cdef int max_iter,maxlsiter\n",
    "\n",
    "    # allow gil to be released for hyperparameter fetching \n",
    "    with gil:\n",
    "        opt_params = get_hyperparams(y,t,lambda,k,verbose)\n",
    "        gamma=opt_params[\"gamma\"]\n",
    "        alpha=opt_params[\"alpha\"]\n",
    "        beta=opt_params[\"beta\"]\n",
    "        mu=opt_params[\"mu\"]\n",
    "        max_iter=opt_params[\"max_iter\"]\n",
    "        maxlsiter=opt_params[\"maxlsiter\"]\n",
    "        tol=opt_params[\"tol\"]\n",
    "\n",
    "\n",
    "adaptive_trend_filter(y,t,lambda,k,verbose)"
   ]
  },
  {
   "cell_type": "code",
   "execution_count": null,
   "metadata": {},
   "outputs": [],
   "source": []
  }
 ],
 "metadata": {
  "kernelspec": {
   "display_name": "research",
   "language": "python",
   "name": "python3"
  },
  "language_info": {
   "codemirror_mode": {
    "name": "ipython",
    "version": 3
   },
   "file_extension": ".py",
   "mimetype": "text/x-python",
   "name": "python",
   "nbconvert_exporter": "python",
   "pygments_lexer": "ipython3",
   "version": "3.10.4"
  },
  "orig_nbformat": 4,
  "vscode": {
   "interpreter": {
    "hash": "8fefc22b81b58a95d090389e6427ac7414ba2434182c3be0d4e0279b8ec28ded"
   }
  }
 },
 "nbformat": 4,
 "nbformat_minor": 2
}
