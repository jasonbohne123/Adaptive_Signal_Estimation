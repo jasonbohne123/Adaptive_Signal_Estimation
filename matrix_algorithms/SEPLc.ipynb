{
 "cells": [
  {
   "cell_type": "markdown",
   "id": "169bf454-0a72-429a-ad15-e8275f7778c0",
   "metadata": {},
   "source": [
    "### SEPC Sparse Matrix Operations\n",
    "\n",
    "Separate Conda ENV as many dependecies"
   ]
  },
  {
   "cell_type": "code",
   "execution_count": 1,
   "id": "b944b626-1564-408d-accc-beb677b22edb",
   "metadata": {},
   "outputs": [],
   "source": [
    "import sys, slepc4py\n",
    "slepc4py.init(sys.argv)\n"
   ]
  },
  {
   "cell_type": "code",
   "execution_count": 29,
   "id": "46e803dd-c197-4e84-9c44-4e70e6a828f3",
   "metadata": {},
   "outputs": [],
   "source": [
    "from petsc4py import PETSc\n",
    "from slepc4py import SLEPc\n",
    "import numpy as np\n",
    "import scipy \n",
    "from scipy.sparse import dia_matrix, csr_matrix\n",
    "import matplotlib.pyplot as plt"
   ]
  },
  {
   "cell_type": "markdown",
   "id": "714bb7fd-7d59-4f6b-9043-332213f46af1",
   "metadata": {},
   "source": [
    "### Specifies command line interface "
   ]
  },
  {
   "cell_type": "code",
   "execution_count": 123,
   "id": "1f071c40-ef48-479d-a23e-bece7a8e3964",
   "metadata": {},
   "outputs": [],
   "source": [
    "opts = PETSc.Options()\n",
    "n = opts.getInt('n', 10)"
   ]
  },
  {
   "cell_type": "markdown",
   "id": "7b9a3f56-5f37-42ad-9c6e-0a6b8d3acbff",
   "metadata": {},
   "source": [
    "### Constructs 2nd Order Difference Matrix "
   ]
  },
  {
   "cell_type": "code",
   "execution_count": 124,
   "id": "15c504db-eee8-443e-84a9-a2e7f823bc17",
   "metadata": {},
   "outputs": [],
   "source": [
    "A = PETSc.Mat().create()\n",
    "A.setSizes([n-2, n])\n",
    "A.setFromOptions()\n",
    "A.setUp()\n",
    "\n",
    "rstart, rend = A.getOwnershipRange()\n",
    "\n",
    "\n",
    "# first row\n",
    "if rstart == 0:\n",
    "    A[0, :3] = [1, -2 ,1]\n",
    "    rstart += 1\n",
    "# last row\n",
    "if rend == n+1:\n",
    "    A[n, -3:] = [-2, 1]\n",
    "    rend -= 1\n",
    "# other rows\n",
    "for i in range(rstart+1, rend+1):\n",
    "    A[i-1, i-1:i+2] = [1, -2, 1]\n",
    "\n",
    "A.assemble()"
   ]
  },
  {
   "cell_type": "code",
   "execution_count": 125,
   "id": "3f5efa34-ce06-41ee-af8d-35bf29b09ede",
   "metadata": {},
   "outputs": [],
   "source": [
    "#A.view()"
   ]
  },
  {
   "cell_type": "code",
   "execution_count": 126,
   "id": "f47f4153-5258-464a-aa64-da0520c99292",
   "metadata": {},
   "outputs": [
    {
     "data": {
      "text/plain": [
       "(8, 10)"
      ]
     },
     "execution_count": 126,
     "metadata": {},
     "output_type": "execute_result"
    }
   ],
   "source": [
    "A.size\n"
   ]
  },
  {
   "cell_type": "code",
   "execution_count": 127,
   "id": "3ef17936-be00-45cc-9ddf-332875a72fca",
   "metadata": {},
   "outputs": [
    {
     "data": {
      "text/plain": [
       "<slepc4py.SLEPc.SVD at 0x7fe595758d60>"
      ]
     },
     "execution_count": 127,
     "metadata": {},
     "output_type": "execute_result"
    }
   ],
   "source": [
    "E = SLEPc.SVD(); E.create()"
   ]
  },
  {
   "cell_type": "code",
   "execution_count": 128,
   "id": "b5e35b72-2e92-44dd-aabc-19ed9543f70c",
   "metadata": {},
   "outputs": [],
   "source": [
    "E.setOperators(A)\n",
    "E.setDimensions(8) # set dimensions as size of system\n",
    "E.setProblemType(SLEPc.SVD.ProblemType.STANDARD)\n",
    "E.setType(\"lanczos\")\n",
    "E.setFromOptions()"
   ]
  },
  {
   "cell_type": "code",
   "execution_count": 129,
   "id": "58160963-87aa-471e-b991-81c4b07d8831",
   "metadata": {},
   "outputs": [],
   "source": [
    "E.solve()"
   ]
  },
  {
   "cell_type": "code",
   "execution_count": 130,
   "id": "c3dfcb1e-727f-48d5-b421-b188eb8a7fd9",
   "metadata": {},
   "outputs": [
    {
     "name": "stdout",
     "output_type": "stream",
     "text": [
      "\n",
      "******************************\n",
      "*** SLEPc Solution Results ***\n",
      "******************************\n",
      "\n",
      "Number of iterations of the method: 1\n",
      "Solution method: lanczos\n",
      "Number of requested eigenvalues: (8, 8, 8)\n",
      "Stopping condition: tol=1e-08, maxit=100\n"
     ]
    }
   ],
   "source": [
    "Print = PETSc.Sys.Print\n",
    "\n",
    "Print()\n",
    "Print(\"******************************\")\n",
    "Print(\"*** SLEPc Solution Results ***\")\n",
    "Print(\"******************************\")\n",
    "Print()\n",
    "\n",
    "its = E.getIterationNumber()\n",
    "Print(\"Number of iterations of the method: %d\" % its)\n",
    "\n",
    "eps_type = E.getType()\n",
    "Print(\"Solution method: %s\" % eps_type)\n",
    "\n",
    "nev, ncv, mpd = E.getDimensions()\n",
    "Print(f\"Number of requested eigenvalues: {nev,ncv,mpd}\")\n",
    "\n",
    "tol, maxit = E.getTolerances()\n",
    "Print(\"Stopping condition: tol=%.4g, maxit=%d\" % (tol, maxit))"
   ]
  },
  {
   "cell_type": "code",
   "execution_count": 131,
   "id": "185e9fd3-4f34-416d-b583-73933e6f4b61",
   "metadata": {},
   "outputs": [
    {
     "name": "stdout",
     "output_type": "stream",
     "text": [
      "Number of converged eigenpairs 8\n"
     ]
    }
   ],
   "source": [
    "nconv = E.getConverged()\n",
    "Print(\"Number of converged eigenpairs %d\" % nconv)"
   ]
  },
  {
   "cell_type": "code",
   "execution_count": 132,
   "id": "47b60a23-b40d-4452-bc76-62255d8c801e",
   "metadata": {},
   "outputs": [],
   "source": [
    "vals=np.array([E.getValue(i) for i in range (0,8)])\n"
   ]
  },
  {
   "cell_type": "code",
   "execution_count": 83,
   "id": "2104a145-83dd-4e99-8e05-c76efd87e2d5",
   "metadata": {},
   "outputs": [],
   "source": [
    "n=400\n",
    "u=[]\n",
    "v=[]\n",
    "\n",
    " \n",
    "for i in range(0,n-2):\n",
    "    # difficult memory allocation\n",
    "    u_ = PETSc.Vec().createSeq(n-2) \n",
    "    v_ = PETSc.Vec().createSeq(n) \n",
    "\n",
    "    E.getVectors(i,u_,v_) \n",
    "    u.append(u_.getArray())\n",
    "    v.append(v_.getArray())\n",
    " \n",
    "    \n",
    "u=np.array(u).T\n",
    "v=np.array(v).T"
   ]
  },
  {
   "cell_type": "code",
   "execution_count": 138,
   "id": "74ecf4b6-216b-48b9-88bc-cd41604a0b83",
   "metadata": {},
   "outputs": [
    {
     "data": {
      "text/plain": [
       "array([3.88683786, 3.56062717, 3.05953237, 2.44181126, 1.77844301,\n",
       "       1.14409788, 0.60736609, 0.22479323])"
      ]
     },
     "execution_count": 138,
     "metadata": {},
     "output_type": "execute_result"
    },
    {
     "data": {
      "image/png": "[encoded data removed]",
      "text/plain": [
       "<Figure size 640x480 with 1 Axes>"
      ]
     },
     "metadata": {},
     "output_type": "display_data"
    }
   ],
   "source": [
    "plt.title(\"Eigenvalue Computation via SEPC\")\n",
    "plt.plot(vals,marker='*')\n",
    "vals"
   ]
  },
  {
   "cell_type": "markdown",
   "id": "d8377066-d5e3-4917-82ad-bf8b70c3e6ea",
   "metadata": {},
   "source": [
    "### Computing the inverse"
   ]
  },
  {
   "cell_type": "code",
   "execution_count": 90,
   "id": "e07db619-dafe-4432-97dc-b2f38b20f6ab",
   "metadata": {},
   "outputs": [],
   "source": [
    "from petsc4py import PETSc\n",
    "from slepc4py import SLEPc\n",
    "import numpy as np\n",
    "\n",
    "def sparse_inversion (A,algorithm='lanczos'):\n",
    "    '''\n",
    "     Computes the inverse of sparse matrices via SVD through SLEPc and PETSc\n",
    "     \n",
    "     Default Algorithm is Lanczos Algorithm\n",
    "    \n",
    "    '''\n",
    "    \n",
    "    \n",
    "\n",
    "    \n",
    "    r,c=A.shape\n",
    "    \n",
    "    \n",
    "    A=csr_matrix(A)\n",
    "\n",
    "    p1=A.indptr\n",
    "    p2=A.indices\n",
    "    p3=A.data\n",
    "    A_p = PETSc.Mat().createAIJ(size=A.shape,csr=(p1,p2,p3))\n",
    "\n",
    "    \n",
    "    E.setOperators(A_p)\n",
    "    E.setDimensions(r) \n",
    "    E.setProblemType(SLEPc.SVD.ProblemType.STANDARD) # standard svd decomposition\n",
    "    E.setType(algorithm)\n",
    "    E.setFromOptions()\n",
    "    \n",
    "    E.solve()\n",
    "    \n",
    "    eigs=np.array([E.getValue(i) for i in range (0,r)])\n",
    "    \n",
    "    u=[]\n",
    "    v=[]\n",
    "\n",
    " \n",
    "    for i in range(0,r):\n",
    "        \n",
    "        # memory allocation \n",
    "        u_ = PETSc.Vec().createSeq(r) \n",
    "        v_ = PETSc.Vec().createSeq(c) \n",
    "\n",
    "        E.getVectors(i,u_,v_) \n",
    "        u.append(u_.getArray())\n",
    "        v.append(v_.getArray())\n",
    "\n",
    "\n",
    "    u=np.array(u).T\n",
    "    v=np.array(v).T\n",
    "    \n",
    "    s=np.diagflat((1/eigs)**2)\n",
    "    l=np.matmul(np.matmul(u,s),u.T)\n",
    "    \n",
    "    '''\n",
    "        Safeguard against unstable inverses \n",
    "    '''\n",
    "    \n",
    "    return l\n",
    "    "
   ]
  },
  {
   "cell_type": "code",
   "execution_count": 115,
   "id": "3e360b8b-f546-42c6-b17a-fc7eef1679aa",
   "metadata": {},
   "outputs": [],
   "source": [
    "coeff=[1,-2,1]\n",
    "n=400\n",
    "\n",
    "t=dia_matrix((np.vstack([i*np.ones(n) for i in coeff]),range(0,len(coeff))),shape=(n-2,n)).toarray()\n",
    "\n",
    "t_orig=np.matmul(t,t.T)\n",
    "\n",
    "\n",
    "inv=sparse_inversion(t)"
   ]
  },
  {
   "cell_type": "code",
   "execution_count": 116,
   "id": "dd5fb6bf-c9e1-4f85-888a-c62c2f6d17b5",
   "metadata": {},
   "outputs": [
    {
     "data": {
      "text/plain": [
       "array([[ 1.,  0., -0., ...,  0., -0.,  0.],\n",
       "       [ 0.,  1., -0., ...,  0., -0.,  0.],\n",
       "       [ 0.,  0.,  1., ...,  0., -0.,  0.],\n",
       "       ...,\n",
       "       [-0.,  0., -0., ...,  1.,  0., -0.],\n",
       "       [-0.,  0., -0., ...,  0.,  1., -0.],\n",
       "       [-0.,  0., -0., ...,  0.,  0.,  1.]])"
      ]
     },
     "execution_count": 116,
     "metadata": {},
     "output_type": "execute_result"
    }
   ],
   "source": [
    "np.round(np.matmul(inv,t_orig))"
   ]
  },
  {
   "cell_type": "code",
   "execution_count": null,
   "id": "03efcf3a-3326-41c8-9f7d-41a3c9e0e1ea",
   "metadata": {},
   "outputs": [],
   "source": []
  }
 ],
 "metadata": {
  "kernelspec": {
   "display_name": "Python [conda env:sepc]",
   "language": "python",
   "name": "conda-env-sepc-py"
  },
  "language_info": {
   "codemirror_mode": {
    "name": "ipython",
    "version": 3
   },
   "file_extension": ".py",
   "mimetype": "text/x-python",
   "name": "python",
   "nbconvert_exporter": "python",
   "pygments_lexer": "ipython3",
   "version": "3.10.6"
  }
 },
 "nbformat": 4,
 "nbformat_minor": 5
}
