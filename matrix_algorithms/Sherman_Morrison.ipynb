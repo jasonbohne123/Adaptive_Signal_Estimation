{
 "cells": [
  {
   "cell_type": "code",
   "execution_count": 4,
   "metadata": {},
   "outputs": [],
   "source": [
    "import time \n",
    "\n",
    "import numpy as np\n",
    "from matplotlib import pyplot as plt\n",
    "from difference_matrix import Difference_Matrix"
   ]
  },
  {
   "attachments": {},
   "cell_type": "markdown",
   "metadata": {},
   "source": [
    "### Styles of Recursion\n",
    "\n",
    "Tail and Head Recursion"
   ]
  },
  {
   "cell_type": "code",
   "execution_count": 5,
   "metadata": {},
   "outputs": [],
   "source": [
    "def sherman_morrison_recursion(a_ij,DDT_inv):\n",
    "    \"\"\"Compute the inverse of a matrix using the Sherman-Morrison formula\n",
    "    \n",
    "        Utilizes forward recrusion for computational efficiency\n",
    "    \"\"\"\n",
    "    start=time.time()\n",
    "    A_inv=DDT_inv\n",
    "    k=1\n",
    "    \n",
    "    # Loop over the columns of the matrix\n",
    "    while k<=len(a_ij):\n",
    "\n",
    "        # Create the vectors u and v which are scaled unit vectors\n",
    "        e_n=np.zeros(len(a_ij))\n",
    "        e_n[k-1]=1\n",
    "        u=e_n.reshape(-1,1)\n",
    "        v=e_n.reshape(1,-1)\n",
    "     \n",
    "        num=A_inv.dot(a_ij[k-1]*u.dot(v)).dot(A_inv)\n",
    "        den=1+a_ij[k-1]*v.dot(A_inv).dot(u)\n",
    "     \n",
    "        A_inv=A_inv -num/den\n",
    "   \n",
    "        k=k+1\n",
    "    end=time.time()\n",
    "    total_time=end-start\n",
    "    return A_inv,total_time"
   ]
  },
  {
   "cell_type": "code",
   "execution_count": 6,
   "metadata": {},
   "outputs": [],
   "source": [
    "def test_sherman_morrison(n):\n",
    "    diff=Difference_Matrix(n,2)\n",
    "\n",
    "    DDT=diff.DDT\n",
    "    DDT_inv=diff.DDT_inv\n",
    "\n",
    "    a_ij=np.random.rand(DDT.shape[0])\n",
    "\n",
    "    # compute the inverse of DDT+a_ij*I using the Sherman-Morrison formula\n",
    "    A_inv,total_time=sherman_morrison_recursion(a_ij,DDT_inv)\n",
    "\n",
    "    # check that the inverse is correct\n",
    "    computed_inv=A_inv.dot(DDT+np.diag(a_ij))\n",
    "\n",
    "    print(f\"Max error: {np.max(np.abs(computed_inv-np.eye(DDT.shape[0])))}\")\n",
    "    print(f\"Total time: {total_time}\")\n",
    "\n",
    "    return\n",
    "    \n",
    "\n",
    "\n"
   ]
  },
  {
   "attachments": {},
   "cell_type": "markdown",
   "metadata": {},
   "source": [
    "### 10 by 10 System"
   ]
  },
  {
   "cell_type": "code",
   "execution_count": 7,
   "metadata": {},
   "outputs": [
    {
     "name": "stdout",
     "output_type": "stream",
     "text": [
      "Max error: 5.329070518200751e-15\n",
      "Total time: 0.07870984077453613\n"
     ]
    }
   ],
   "source": [
    "test_sherman_morrison(10)"
   ]
  },
  {
   "cell_type": "code",
   "execution_count": null,
   "metadata": {},
   "outputs": [],
   "source": []
  },
  {
   "attachments": {},
   "cell_type": "markdown",
   "metadata": {},
   "source": [
    "### 100 by 100 System"
   ]
  },
  {
   "cell_type": "code",
   "execution_count": 8,
   "metadata": {},
   "outputs": [
    {
     "name": "stdout",
     "output_type": "stream",
     "text": [
      "Max error: 2.7139987548297007e-11\n",
      "Total time: 0.34604930877685547\n"
     ]
    }
   ],
   "source": [
    "test_sherman_morrison(100)"
   ]
  },
  {
   "attachments": {},
   "cell_type": "markdown",
   "metadata": {},
   "source": [
    "### 1000 x 1000 system; poor scaling"
   ]
  },
  {
   "cell_type": "code",
   "execution_count": 9,
   "metadata": {},
   "outputs": [],
   "source": [
    "test_sherman_morrison(1000)"
   ]
  },
  {
   "attachments": {},
   "cell_type": "markdown",
   "metadata": {},
   "source": [
    "### Improvement via Woodburry Matrix Identity (Blocked Sherman Morrison)"
   ]
  },
  {
   "cell_type": "code",
   "execution_count": 1,
   "metadata": {},
   "outputs": [],
   "source": [
    "def woodbury_matrix_inversion(a_ij,DDT_inv,step=1):\n",
    "    \"\"\"Compute the inverse of a matrix using the Woodbury formula\n",
    "    \n",
    "       k-blocks of the matrix are inverted at a time\n",
    "    \"\"\"\n",
    "    start=time.time()\n",
    "    A_inv=DDT_inv\n",
    "    k=1\n",
    "    \n",
    "    # Loop over the columns of the matrix\n",
    "    while k<=len(a_ij):\n",
    "\n",
    "\n",
    "        len_block=min(len(a_ij[k-1:k-1+step]),step)\n",
    "\n",
    "        # Create the vectors u and v which are scaled unit vectors\n",
    "        u=np.zeros((len(a_ij),len_block))\n",
    "        v=np.zeros((len_block,len(a_ij)))\n",
    "        c=np.zeros((len_block,len_block))\n",
    "\n",
    "     \n",
    "\n",
    "        for i in range(0,len_block):\n",
    "         \n",
    "            u[k+i-1,i]=1\n",
    "            v[i,k+i-1]=1\n",
    "            c[i,i]=a_ij[k+i-1]\n",
    "        \n",
    "        #  extract kth block of A_inv\n",
    "        truncated_mat=v.dot(A_inv).dot(u)\n",
    "\n",
    "        # compute the inverse of the kth block of A_inv\n",
    "        inv_truncated_mat=np.linalg.inv(truncated_mat)\n",
    "        \n",
    "        c_a_inv,tot_time=sherman_morrison_recursion(a_ij[k-1:k-1+step],inv_truncated_mat)\n",
    "     \n",
    "        A_inv=A_inv -A_inv.dot(u).dot(c_a_inv.dot(v).dot(A_inv))\n",
    "   \n",
    "        k=k+step\n",
    "    end=time.time()\n",
    "    total_time=end-start\n",
    "    return A_inv,total_time"
   ]
  },
  {
   "cell_type": "code",
   "execution_count": 2,
   "metadata": {},
   "outputs": [],
   "source": [
    "def test_woodbury_inversion(n):\n",
    "\n",
    "    diff=Difference_Matrix(n,2)\n",
    "\n",
    "    DDT=diff.DDT\n",
    "    DDT_inv=diff.DDT_inv\n",
    "\n",
    "    a_ij=np.random.rand(DDT.shape[0])\n",
    "\n",
    "    # compute the inverse of DDT+a_ij*I using the Woodbury formula\n",
    "    A_inv,total_time=woodbury_matrix_inversion(a_ij,DDT_inv)\n",
    "\n",
    "\n",
    "    # check that the inverse is correct\n",
    "    computed_inv=A_inv.dot(DDT+np.diag(a_ij))\n",
    "\n",
    "    print(f\"Max error: {np.max(np.abs(computed_inv-np.eye(DDT.shape[0])))}\")\n",
    "    print(f\"Total time: {total_time}\")\n",
    "\n",
    "    return"
   ]
  },
  {
   "cell_type": "code",
   "execution_count": 3,
   "metadata": {},
   "outputs": [
    {
     "ename": "NameError",
     "evalue": "name 'Difference_Matrix' is not defined",
     "output_type": "error",
     "traceback": [
      "\u001b[0;31m---------------------------------------------------------------------------\u001b[0m",
      "\u001b[0;31mNameError\u001b[0m                                 Traceback (most recent call last)",
      "\u001b[1;32m/home/jbohne/sbu/research/Adaptive_Signal_Estimation_Private/matrix_algorithms/Sherman_Morrison.ipynb Cell 15\u001b[0m in \u001b[0;36m<cell line: 1>\u001b[0;34m()\u001b[0m\n\u001b[0;32m----> <a href='vscode-notebook-cell://wsl%2Bubuntu-20.04/home/jbohne/sbu/research/Adaptive_Signal_Estimation_Private/matrix_algorithms/Sherman_Morrison.ipynb#X20sdnNjb2RlLXJlbW90ZQ%3D%3D?line=0'>1</a>\u001b[0m test_woodbury_inversion(\u001b[39m100\u001b[39;49m)\n",
      "\u001b[1;32m/home/jbohne/sbu/research/Adaptive_Signal_Estimation_Private/matrix_algorithms/Sherman_Morrison.ipynb Cell 15\u001b[0m in \u001b[0;36mtest_woodbury_inversion\u001b[0;34m(n)\u001b[0m\n\u001b[1;32m      <a href='vscode-notebook-cell://wsl%2Bubuntu-20.04/home/jbohne/sbu/research/Adaptive_Signal_Estimation_Private/matrix_algorithms/Sherman_Morrison.ipynb#X20sdnNjb2RlLXJlbW90ZQ%3D%3D?line=0'>1</a>\u001b[0m \u001b[39mdef\u001b[39;00m \u001b[39mtest_woodbury_inversion\u001b[39m(n):\n\u001b[0;32m----> <a href='vscode-notebook-cell://wsl%2Bubuntu-20.04/home/jbohne/sbu/research/Adaptive_Signal_Estimation_Private/matrix_algorithms/Sherman_Morrison.ipynb#X20sdnNjb2RlLXJlbW90ZQ%3D%3D?line=2'>3</a>\u001b[0m     diff\u001b[39m=\u001b[39mDifference_Matrix(n,\u001b[39m2\u001b[39m)\n\u001b[1;32m      <a href='vscode-notebook-cell://wsl%2Bubuntu-20.04/home/jbohne/sbu/research/Adaptive_Signal_Estimation_Private/matrix_algorithms/Sherman_Morrison.ipynb#X20sdnNjb2RlLXJlbW90ZQ%3D%3D?line=4'>5</a>\u001b[0m     DDT\u001b[39m=\u001b[39mdiff\u001b[39m.\u001b[39mDDT\n\u001b[1;32m      <a href='vscode-notebook-cell://wsl%2Bubuntu-20.04/home/jbohne/sbu/research/Adaptive_Signal_Estimation_Private/matrix_algorithms/Sherman_Morrison.ipynb#X20sdnNjb2RlLXJlbW90ZQ%3D%3D?line=5'>6</a>\u001b[0m     DDT_inv\u001b[39m=\u001b[39mdiff\u001b[39m.\u001b[39mDDT_inv\n",
      "\u001b[0;31mNameError\u001b[0m: name 'Difference_Matrix' is not defined"
     ]
    }
   ],
   "source": [
    "test_woodbury_inversion(100)"
   ]
  },
  {
   "cell_type": "code",
   "execution_count": null,
   "metadata": {},
   "outputs": [],
   "source": []
  }
 ],
 "metadata": {
  "kernelspec": {
   "display_name": "research",
   "language": "python",
   "name": "python3"
  },
  "language_info": {
   "codemirror_mode": {
    "name": "ipython",
    "version": 3
   },
   "file_extension": ".py",
   "mimetype": "text/x-python",
   "name": "python",
   "nbconvert_exporter": "python",
   "pygments_lexer": "ipython3",
   "version": "3.10.8"
  },
  "orig_nbformat": 4,
  "vscode": {
   "interpreter": {
    "hash": "26f42ea4bce81807e1b23992547f371b1e33d381b9f340aba543485328461627"
   }
  }
 },
 "nbformat": 4,
 "nbformat_minor": 2
}
