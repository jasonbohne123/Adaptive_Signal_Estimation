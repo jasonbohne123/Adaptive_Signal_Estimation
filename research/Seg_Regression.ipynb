{
 "cells": [
  {
   "attachments": {},
   "cell_type": "markdown",
   "metadata": {},
   "source": [
    "### An overview on Segmented / Partitioned Regression\n",
    "\n",
    "Often times given a dataset, we want to fit a model to the data. However, the data may not be homogenous. For example, the data may be partitioned into different groups. In this case, we may want to fit a different model to each group. This is called **segmented regression**.\n",
    "\n",
    "Under the assumption knots are known a priori, we can fit a different model to each segment. References for such are\n",
    "\n",
    "[1] Piecewise Regression using Cubic Splines (Poirier 1973)\n",
    "\n",
    "\n",
    "Under the assumption knots are unknown, we can fit a different model to each segment. References for such are \n",
    "\n",
    "[1] Computation and Analysis of Multiple Structural Models http://www.columbia.edu/~jb3064/papers/2003_Computation_and_analysis_of_multiple_structural_changes.pdf\n",
    "\n",
    "[2] Fitting Segmented Polynomial Regression Models whose join points have to be estimated (Gallant and Fuller 1973)\n"
   ]
  },
  {
   "cell_type": "code",
   "execution_count": 3,
   "metadata": {},
   "outputs": [
    {
     "ename": "ImportError",
     "evalue": "cannot import name 'Segmented_Regression' from 'segmented_regression' (/home/jbohne/sbu/research/Adaptive_Signal_Estimation_Private/research/../segmented_regression/segmented_regression.py)",
     "output_type": "error",
     "traceback": [
      "\u001b[0;31m---------------------------------------------------------------------------\u001b[0m",
      "\u001b[0;31mImportError\u001b[0m                               Traceback (most recent call last)",
      "Cell \u001b[0;32mIn[3], line 5\u001b[0m\n\u001b[1;32m      1\u001b[0m \u001b[39mimport\u001b[39;00m \u001b[39msys\u001b[39;00m\n\u001b[1;32m      3\u001b[0m sys\u001b[39m.\u001b[39mpath\u001b[39m.\u001b[39mappend(\u001b[39m\"\u001b[39m\u001b[39m../segmented_regression\u001b[39m\u001b[39m\"\u001b[39m)\n\u001b[0;32m----> 5\u001b[0m \u001b[39mfrom\u001b[39;00m \u001b[39msegmented_regression\u001b[39;00m \u001b[39mimport\u001b[39;00m Segmented_Regression\n",
      "\u001b[0;31mImportError\u001b[0m: cannot import name 'Segmented_Regression' from 'segmented_regression' (/home/jbohne/sbu/research/Adaptive_Signal_Estimation_Private/research/../segmented_regression/segmented_regression.py)"
     ]
    }
   ],
   "source": [
    "import sys\n",
    "\n",
    "sys.path.append(\"../segmented_regression\")\n",
    "\n",
    "from segmented_regression import Segmented_Regression"
   ]
  },
  {
   "cell_type": "code",
   "execution_count": null,
   "metadata": {},
   "outputs": [],
   "source": []
  }
 ],
 "metadata": {
  "kernelspec": {
   "display_name": "ase",
   "language": "python",
   "name": "python3"
  },
  "language_info": {
   "codemirror_mode": {
    "name": "ipython",
    "version": 3
   },
   "file_extension": ".py",
   "mimetype": "text/x-python",
   "name": "python",
   "nbconvert_exporter": "python",
   "pygments_lexer": "ipython3",
   "version": "3.10.8"
  },
  "orig_nbformat": 4
 },
 "nbformat": 4,
 "nbformat_minor": 2
}
