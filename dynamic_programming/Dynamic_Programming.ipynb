{
 "cells": [
  {
   "cell_type": "markdown",
   "id": "29ee2416-dfe4-431d-b6de-f8a62e9215db",
   "metadata": {},
   "source": [
    "### Dynamic Programming Code for Optimal CP Detection\n",
    "\n",
    "Implements Levy-Leduc Code to determine optimal number of changepoints across a candidate set \n"
   ]
  },
  {
   "cell_type": "code",
   "execution_count": 829,
   "id": "e745da4a-4a44-45fe-ac81-8ebd2ae4b479",
   "metadata": {},
   "outputs": [],
   "source": [
    "import numpy as np\n",
    "import matplotlib.pyplot as plt"
   ]
  },
  {
   "cell_type": "code",
   "execution_count": 830,
   "id": "64015042",
   "metadata": {},
   "outputs": [],
   "source": [
    "def map_intervals(Y,indices):\n",
    "    \"\"\" Maps the indices of the candidate changepoints to the intervals of the data\n",
    "    \"\"\"\n",
    "    partitioned_indices=np.unique(np.concatenate([[0],indices,[len(Y)]]))\n",
    "    \n",
    "    intervals={}\n",
    "    for i in range(len(partitioned_indices)-1):\n",
    "        intervals[i]=([partitioned_indices[i],partitioned_indices[i+1]])\n",
    "   \n",
    "    return intervals\n"
   ]
  },
  {
   "cell_type": "code",
   "execution_count": 881,
   "id": "8c518e48-7e2a-4011-b90a-990095fb3ca6",
   "metadata": {},
   "outputs": [],
   "source": [
    "# TO:DO: Consider constraining continuity of the polynomial instead of mse \n",
    "\n",
    "def best_fit_polynomial(Y,interval,k=1):\n",
    "    \"\"\" Fits a polynomial of order k to the data Y across a given interval\n",
    "    \"\"\"\n",
    "   \n",
    "    \n",
    "    y=Y[interval[0]:interval[1]]\n",
    "\n",
    "    x_range=np.arange(interval[0],interval[1],1)\n",
    "\n",
    "    poly_coef=np.polyfit(x_range,y,k)\n",
    "    polynomial=poly_coef.dot(np.vstack([x_range**i for i in range(k,-1,-1)]))\n",
    "    \n",
    "    # mean or sum of squared errors\n",
    "    mse=np.mean((y-polynomial)**2)\n",
    "    \n",
    "    \n",
    "    # for i in range(len(intervals)):\n",
    "    #     x=intervals[i]\n",
    "        \n",
    "    #     y=Y[x[0]:x[1]]\n",
    "    #     observed.append(y)\n",
    "\n",
    "    #     x_range=np.arange(x[0],x[1],1)\n",
    "        \n",
    "    #     poly_coef=np.polyfit(x_range,y,k)\n",
    "    #     poly_estimation=poly_coef.dot(np.vstack([x_range**i for i in range(k,-1,-1)]))\n",
    "        \n",
    "    #     polynomials.append(poly_estimation)\n",
    "\n",
    "    # polynomials=np.concatenate(polynomials)\n",
    "    # observed=np.concatenate(observed)\n",
    "\n",
    "\n",
    "    \n",
    "    return mse\n",
    "\n",
    "def compute_J(Y,indices,k):\n",
    "    \"\"\" Evaluate cost matrix between each nested pair of changepoints\n",
    "    \"\"\"\n",
    "    cp_mappings=map_intervals(Y,indices)\n",
    "    mapping_indices=np.arange(len(cp_mappings))\n",
    "    cost_matrix=np.zeros((len(cp_mappings),len(cp_mappings)))\n",
    "    \n",
    "\n",
    "\n",
    "    for i in range(len(mapping_indices)):\n",
    "        for j in range(i,len(mapping_indices)):\n",
    "\n",
    "            ###\n",
    "                # Look into best polynomial or range \n",
    "            ###\n",
    "            #intervals=[cp_mappings[k] for k in range(i,j+1)]\n",
    "          \n",
    "            interval=[cp_mappings[i][0],cp_mappings[j][1]]\n",
    "            cost_matrix[i,j]=best_fit_polynomial(Y,interval,k=k)\n",
    "          \n",
    "\n",
    "    return cost_matrix\n",
    "\n",
    "def compute_V(cost_matrix,K_max,indices):\n",
    "    \"\"\" Computes the optimal cost and changepoint locations\n",
    "    \"\"\"\n",
    "   \n",
    "    k=len(indices)+1\n",
    "    \n",
    "    optimal_cost=np.zeros((K_max+1,k))\n",
    "    optimal_loc=np.zeros((K_max+1,k))\n",
    "    \n",
    "    \n",
    "    # no changepoints; best RSE is the sum of squared errors\n",
    "    for i in range(k):\n",
    "        optimal_cost[0,i]=cost_matrix[0,i]\n",
    "\n",
    "    #############\n",
    "    # Interesting slicing as converted from matlab \n",
    "\n",
    "    #############\n",
    "    for k_i in range(1,K_max+1):\n",
    "        for j in range(k_i+1,k):\n",
    " \n",
    "            optimal_cost[k_i,j]=np.min(optimal_cost[k_i-1,k_i-1:j-1]+cost_matrix[k_i:j,j])\n",
    "            ind=np.argmin(optimal_cost[k_i-1,k_i-1:j-1]+cost_matrix[k_i:j,j])\n",
    "            optimal_loc[k_i-1,j]=ind+k_i-1\n",
    "    \n",
    "    return optimal_loc\n",
    "\n",
    "def optimal_segmentation(optimal_loc,indices,K_max):\n",
    "    \"\"\" Computes the optimal segmentation based on recursive RSE\n",
    "    \"\"\"\n",
    "    \n",
    "    all_loc=optimal_loc.copy()\n",
    "    \n",
    "    k=len(indices)+1\n",
    "    total_loc={}\n",
    "\n",
    "    for k_i in range(1,K_max+1):\n",
    " \n",
    "        total_loc[k_i-1]=np.zeros(k_i)\n",
    "        total_loc[k_i-1][k_i-1]=all_loc[k_i-1,k-1]\n",
    "        for i in range(k_i-1,0,-1):\n",
    "            print(total_loc[k_i-1][i])\n",
    "            total_loc[k_i-1][i-1]=all_loc[i-1,int(total_loc[k_i-1][i])]\n",
    "\n",
    "    return total_loc\n",
    "    \n",
    "\n",
    "def convert_observed_cp(optimal_segment,indices):\n",
    "    all_segments=optimal_segment.copy()\n",
    "    \n",
    "    for i in range(len(all_segments)):\n",
    "        not_zero=np.where(all_segments[i]!=0)[0]\n",
    "        all_segments[i]=indices[not_zero]\n",
    "\n",
    "    return all_segments\n",
    "\n",
    "def generalized_cross_validation(optimal_segment,optimal_cost):\n",
    "    \"\"\" Determines optimal number of changepoints based on generalized cross validation \"\"\"\n",
    "\n",
    "    N=None\n",
    "    M=None\n",
    "\n",
    "    mse=None\n",
    "\n",
    "    return None\n",
    "\n",
    "\n",
    "def dp_solver(Y,indices,K_max,k=1):\n",
    "    \"\"\" Determines optimal partition of Y into K_max piecewise order polynomials\n",
    "    \"\"\"\n",
    "\n",
    "    if K_max>len(indices):\n",
    "        print(\"K_max must be less than or equal to the number of candidate changepoints\")\n",
    "        K_max=len(indices)\n",
    "\n",
    "    # Initialize cost matrix\n",
    "    cost_matrix=compute_J(Y,indices,k)\n",
    "\n",
    "    # Compute optimal cost and changepoint locations\n",
    "    optimal_loc=compute_V(cost_matrix,K_max,indices)\n",
    "  \n",
    "    # Compute optimal segmentation\n",
    "    optimal_segment=optimal_segmentation(optimal_loc,indices,K_max)\n",
    "\n",
    "    optimal_indices=convert_observed_cp(optimal_segment,indices)\n",
    "\n",
    "\n",
    "    return optimal_segment,optimal_indices\n",
    "\n",
    "\n",
    "    \n",
    "    \n",
    "    \n",
    "    \n",
    "    "
   ]
  },
  {
   "cell_type": "code",
   "execution_count": 882,
   "id": "6f4d80a0-9db8-4442-9ad0-d1e00b758f47",
   "metadata": {},
   "outputs": [],
   "source": [
    "def test_dp():\n",
    "    \"\"\" Prep dataset to test dynamic programming recursion\n",
    "    \"\"\"\n",
    "    n=250\n",
    "    k=5\n",
    "    x=np.arange(0,n,1)\n",
    "    y=np.empty(n)\n",
    "\n",
    "    sample_variance=0.5\n",
    "    \n",
    "    n1,n2,n3,n4,n5=np.arange(0,n,n/k).astype(int)\n",
    "    \n",
    "    def generate_noise(samples,sample_variance):\n",
    "        return np.random.normal(scale=sample_variance,size=n)\n",
    "    \n",
    "    y[:n2]=0.1*x[:n2]+2\n",
    "    y[n2:n3]=-0.05*x[n2:n3]+9.5\n",
    "    y[n3:n4]=0.05*x[n3:n4]-0.5\n",
    "\n",
    "    y[n4:n5]=-0.05*x[n4:n5]+14.5\n",
    "    y[n5:]=0.25*x[n5:]-45.5\n",
    "\n",
    "    true_change_points=np.array([10,35,n2,75,n3,125,130,135,141,n4,167,n5])\n",
    "    \n",
    "    return x,y+generate_noise(n,sample_variance),true_change_points"
   ]
  },
  {
   "cell_type": "code",
   "execution_count": 883,
   "id": "ac83000b-beba-42cf-bc4f-75ce78de596b",
   "metadata": {},
   "outputs": [
    {
     "data": {
      "text/plain": [
       "array([ 10,  35,  50,  75, 100, 125, 130, 135, 141, 150, 167, 200])"
      ]
     },
     "execution_count": 883,
     "metadata": {},
     "output_type": "execute_result"
    }
   ],
   "source": [
    "x,y,true_changepoints=test_dp()\n",
    "true_changepoints"
   ]
  },
  {
   "cell_type": "code",
   "execution_count": 884,
   "id": "cf1c0a8f",
   "metadata": {},
   "outputs": [
    {
     "data": {
      "text/plain": [
       "{0: [0, 10],\n",
       " 1: [10, 35],\n",
       " 2: [35, 50],\n",
       " 3: [50, 75],\n",
       " 4: [75, 100],\n",
       " 5: [100, 125],\n",
       " 6: [125, 130],\n",
       " 7: [130, 135],\n",
       " 8: [135, 141],\n",
       " 9: [141, 150],\n",
       " 10: [150, 167],\n",
       " 11: [167, 200],\n",
       " 12: [200, 250]}"
      ]
     },
     "execution_count": 884,
     "metadata": {},
     "output_type": "execute_result"
    }
   ],
   "source": [
    "index_mappings=map_intervals(y,true_changepoints)\n",
    "index_mappings"
   ]
  },
  {
   "cell_type": "code",
   "execution_count": 886,
   "id": "1d559068-73fa-4733-860b-5369533e05df",
   "metadata": {},
   "outputs": [
    {
     "name": "stdout",
     "output_type": "stream",
     "text": [
      "Mean Squared Error: 4.4547250015918465\n"
     ]
    }
   ],
   "source": [
    "cost_matrix=compute_J(y,true_changepoints,k=1)\n",
    "print(f\"Mean Squared Error: {cost_matrix[0,-1]}\")"
   ]
  },
  {
   "cell_type": "code",
   "execution_count": 887,
   "id": "932fa47d",
   "metadata": {},
   "outputs": [
    {
     "name": "stdout",
     "output_type": "stream",
     "text": [
      "10.0\n",
      "10.0\n",
      "4.0\n",
      "10.0\n",
      "4.0\n",
      "1.0\n"
     ]
    },
    {
     "data": {
      "text/plain": [
       "({0: array([10.]),\n",
       "  1: array([ 2., 10.]),\n",
       "  2: array([ 2.,  4., 10.]),\n",
       "  3: array([ 0.,  1.,  4., 10.])},\n",
       " {0: array([10]),\n",
       "  1: array([10, 35]),\n",
       "  2: array([10, 35, 50]),\n",
       "  3: array([35, 50, 75])})"
      ]
     },
     "execution_count": 887,
     "metadata": {},
     "output_type": "execute_result"
    }
   ],
   "source": [
    "n=len(true_changepoints)\n",
    "\n",
    "optimal_segment=dp_solver(y,true_changepoints,K_max=4,k=1)\n",
    "optimal_segment"
   ]
  },
  {
   "cell_type": "code",
   "execution_count": null,
   "id": "0fc5d184",
   "metadata": {},
   "outputs": [],
   "source": []
  },
  {
   "cell_type": "code",
   "execution_count": null,
   "id": "b5a6728a",
   "metadata": {},
   "outputs": [],
   "source": []
  }
 ],
 "metadata": {
  "kernelspec": {
   "display_name": "Python 3.10.4 ('research')",
   "language": "python",
   "name": "python3"
  },
  "language_info": {
   "codemirror_mode": {
    "name": "ipython",
    "version": 3
   },
   "file_extension": ".py",
   "mimetype": "text/x-python",
   "name": "python",
   "nbconvert_exporter": "python",
   "pygments_lexer": "ipython3",
   "version": "3.10.4"
  },
  "vscode": {
   "interpreter": {
    "hash": "8fefc22b81b58a95d090389e6427ac7414ba2434182c3be0d4e0279b8ec28ded"
   }
  }
 },
 "nbformat": 4,
 "nbformat_minor": 5
}
