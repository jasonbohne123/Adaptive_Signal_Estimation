{
 "cells": [
  {
   "cell_type": "code",
   "execution_count": 1,
   "metadata": {},
   "outputs": [],
   "source": [
    "import sys\n",
    "\n",
    "sys.path.append(\"../\")\n",
    "sys.path.append(\"../../\")\n",
    "\n",
    "from difference_matrix import Difference_Matrix\n",
    "\n",
    "import numpy as np\n",
    "\n",
    "from prior_models import normal_prior"
   ]
  },
  {
   "attachments": {},
   "cell_type": "markdown",
   "metadata": {},
   "source": [
    "### General Performance tests for matrix inversion algorithms\n",
    "\n",
    "Let's create a second order difference matrix"
   ]
  },
  {
   "cell_type": "code",
   "execution_count": 2,
   "metadata": {},
   "outputs": [],
   "source": [
    "D=Difference_Matrix(n=100,k=1)"
   ]
  },
  {
   "cell_type": "code",
   "execution_count": 3,
   "metadata": {},
   "outputs": [
    {
     "data": {
      "text/plain": [
       "array([[ 1., -2.,  1., ...,  0.,  0.,  0.],\n",
       "       [ 0.,  1., -2., ...,  0.,  0.,  0.],\n",
       "       [ 0.,  0.,  1., ...,  0.,  0.,  0.],\n",
       "       ...,\n",
       "       [ 0.,  0.,  0., ...,  1.,  0.,  0.],\n",
       "       [ 0.,  0.,  0., ..., -2.,  1.,  0.],\n",
       "       [ 0.,  0.,  0., ...,  1., -2.,  1.]])"
      ]
     },
     "execution_count": 3,
     "metadata": {},
     "output_type": "execute_result"
    }
   ],
   "source": [
    "D.D"
   ]
  },
  {
   "cell_type": "code",
   "execution_count": 4,
   "metadata": {},
   "outputs": [
    {
     "data": {
      "text/plain": [
       "array([[-1.,  1.,  0., ...,  0.,  0.,  0.],\n",
       "       [ 0., -1.,  1., ...,  0.,  0.,  0.],\n",
       "       [ 0.,  0., -1., ...,  0.,  0.,  0.],\n",
       "       ...,\n",
       "       [ 0.,  0.,  0., ...,  1.,  0.,  0.],\n",
       "       [ 0.,  0.,  0., ..., -1.,  1.,  0.],\n",
       "       [ 0.,  0.,  0., ...,  0., -1.,  1.]])"
      ]
     },
     "execution_count": 4,
     "metadata": {},
     "output_type": "execute_result"
    }
   ],
   "source": [
    "D.compute_k_difference(0)"
   ]
  },
  {
   "cell_type": "code",
   "execution_count": 5,
   "metadata": {},
   "outputs": [
    {
     "data": {
      "text/plain": [
       "(98, 100)"
      ]
     },
     "execution_count": 5,
     "metadata": {},
     "output_type": "execute_result"
    }
   ],
   "source": [
    "D.D.shape"
   ]
  },
  {
   "cell_type": "code",
   "execution_count": 6,
   "metadata": {},
   "outputs": [
    {
     "data": {
      "text/plain": [
       "7.275957614183426e-12"
      ]
     },
     "execution_count": 6,
     "metadata": {},
     "output_type": "execute_result"
    }
   ],
   "source": [
    "(D.DDT.dot(D.DDT_inv)-np.eye(100-2)).max()"
   ]
  },
  {
   "attachments": {},
   "cell_type": "markdown",
   "metadata": {},
   "source": [
    "### Confirm DDT inverse computed correctly via LAPACK"
   ]
  },
  {
   "cell_type": "code",
   "execution_count": 7,
   "metadata": {},
   "outputs": [],
   "source": [
    "assert(np.allclose(D.DDT.dot(D.DDT_inv),np.eye(100-2),rtol=10e-8,atol=10e-8))"
   ]
  },
  {
   "cell_type": "code",
   "execution_count": 8,
   "metadata": {},
   "outputs": [],
   "source": [
    "D=Difference_Matrix(100,2)"
   ]
  },
  {
   "cell_type": "code",
   "execution_count": 9,
   "metadata": {},
   "outputs": [],
   "source": [
    "assert(np.allclose(D.DDT.dot(D.DDT_inv),np.eye(100-3),rtol=10e-4,atol=10e-4))"
   ]
  },
  {
   "attachments": {},
   "cell_type": "markdown",
   "metadata": {},
   "source": [
    "### Large computations of Difference Matrix\n"
   ]
  },
  {
   "cell_type": "code",
   "execution_count": 10,
   "metadata": {},
   "outputs": [],
   "source": [
    "D=Difference_Matrix(1000,1)"
   ]
  },
  {
   "cell_type": "code",
   "execution_count": 11,
   "metadata": {},
   "outputs": [],
   "source": [
    "assert(np.allclose(D.DDT.dot(D.DDT_inv),np.eye(1000-2),rtol=1e-2,atol=1e-2))"
   ]
  },
  {
   "cell_type": "code",
   "execution_count": 12,
   "metadata": {},
   "outputs": [],
   "source": [
    "D=Difference_Matrix(1000,1)\n"
   ]
  },
  {
   "cell_type": "code",
   "execution_count": 13,
   "metadata": {},
   "outputs": [],
   "source": [
    "assert(np.allclose(D.DDT.dot(D.DDT_inv),np.eye(1000-2),rtol=1e-2,atol=1e-2))"
   ]
  },
  {
   "attachments": {},
   "cell_type": "markdown",
   "metadata": {},
   "source": [
    "### High order difference matrix"
   ]
  },
  {
   "cell_type": "code",
   "execution_count": 14,
   "metadata": {},
   "outputs": [
    {
     "data": {
      "text/plain": [
       "array([[ 1., -4.,  6., ...,  0.,  0.,  0.],\n",
       "       [ 0.,  1., -4., ...,  0.,  0.,  0.],\n",
       "       [ 0.,  0.,  1., ...,  0.,  0.,  0.],\n",
       "       ...,\n",
       "       [ 0.,  0.,  0., ...,  1.,  0.,  0.],\n",
       "       [ 0.,  0.,  0., ..., -4.,  1.,  0.],\n",
       "       [ 0.,  0.,  0., ...,  6., -4.,  1.]])"
      ]
     },
     "execution_count": 14,
     "metadata": {},
     "output_type": "execute_result"
    }
   ],
   "source": [
    "D=Difference_Matrix(100,3)\n",
    "D.D"
   ]
  },
  {
   "cell_type": "code",
   "execution_count": 15,
   "metadata": {},
   "outputs": [
    {
     "data": {
      "text/plain": [
       "3.46451997756958e-07"
      ]
     },
     "execution_count": 15,
     "metadata": {},
     "output_type": "execute_result"
    }
   ],
   "source": [
    "((D.DDT.dot(D.DDT_inv))-np.eye(100-4)).max()\n"
   ]
  },
  {
   "attachments": {},
   "cell_type": "markdown",
   "metadata": {},
   "source": [
    "### Confirm Difference Matrix Recursion works"
   ]
  },
  {
   "cell_type": "code",
   "execution_count": 16,
   "metadata": {},
   "outputs": [
    {
     "data": {
      "text/plain": [
       "array([[  1., -22., 231., ...,   0.,   0.,   0.],\n",
       "       [  0.,   1., -22., ...,   0.,   0.,   0.],\n",
       "       [  0.,   0.,   1., ...,   0.,   0.,   0.],\n",
       "       ...,\n",
       "       [  0.,   0.,   0., ...,   1.,   0.,   0.],\n",
       "       [  0.,   0.,   0., ..., -22.,   1.,   0.],\n",
       "       [  0.,   0.,   0., ..., 231., -22.,   1.]])"
      ]
     },
     "execution_count": 16,
     "metadata": {},
     "output_type": "execute_result"
    }
   ],
   "source": [
    "D=Difference_Matrix(2500,1)\n",
    "d_21=D.compute_k_difference(21)\n",
    "d_21"
   ]
  },
  {
   "cell_type": "code",
   "execution_count": 17,
   "metadata": {},
   "outputs": [
    {
     "ename": "AssertionError",
     "evalue": "",
     "output_type": "error",
     "traceback": [
      "\u001b[0;31m---------------------------------------------------------------------------\u001b[0m",
      "\u001b[0;31mAssertionError\u001b[0m                            Traceback (most recent call last)",
      "Cell \u001b[0;32mIn[17], line 1\u001b[0m\n\u001b[0;32m----> 1\u001b[0m D\u001b[39m=\u001b[39mDifference_Matrix(\u001b[39m2500\u001b[39;49m,\u001b[39m21\u001b[39;49m)\n",
      "File \u001b[0;32m~/sbu/research/Adaptive_Signal_Estimation_Private/matrix_algorithms/research/../difference_matrix.py:63\u001b[0m, in \u001b[0;36mDifference_Matrix.__init__\u001b[0;34m(self, n, k, t, prior)\u001b[0m\n\u001b[1;32m     60\u001b[0m \u001b[39mself\u001b[39m\u001b[39m.\u001b[39mDDT_inv \u001b[39m=\u001b[39m \u001b[39mself\u001b[39m\u001b[39m.\u001b[39mLU_decomposition(\u001b[39mself\u001b[39m\u001b[39m.\u001b[39mDDT_to_invert)\n\u001b[1;32m     62\u001b[0m \u001b[39m# absolute tolerance for testing higher due to scaling\u001b[39;00m\n\u001b[0;32m---> 63\u001b[0m \u001b[39massert\u001b[39;00m np\u001b[39m.\u001b[39mallclose(\u001b[39mself\u001b[39m\u001b[39m.\u001b[39mDDT\u001b[39m.\u001b[39mdot(\u001b[39mself\u001b[39m\u001b[39m.\u001b[39mDDT_inv), np\u001b[39m.\u001b[39meye(\u001b[39mself\u001b[39m\u001b[39m.\u001b[39mDDT\u001b[39m.\u001b[39mshape[\u001b[39m0\u001b[39m]), atol\u001b[39m=\u001b[39m\u001b[39m1e-6\u001b[39m)\n",
      "\u001b[0;31mAssertionError\u001b[0m: "
     ]
    }
   ],
   "source": [
    "D=Difference_Matrix(2500,21)\n"
   ]
  },
  {
   "cell_type": "code",
   "execution_count": null,
   "metadata": {},
   "outputs": [],
   "source": [
    "assert (np.allclose(d_21,D.D))"
   ]
  },
  {
   "attachments": {},
   "cell_type": "markdown",
   "metadata": {},
   "source": [
    "### Time Difference Matrix Computation"
   ]
  },
  {
   "cell_type": "code",
   "execution_count": 18,
   "metadata": {},
   "outputs": [],
   "source": [
    "D=Difference_Matrix(100,1)\n",
    "\n",
    "T=Difference_Matrix(100,k=1,t=np.linspace(0,1,100))"
   ]
  },
  {
   "cell_type": "code",
   "execution_count": 19,
   "metadata": {},
   "outputs": [],
   "source": [
    "assert(np.allclose(T.DDT.dot(T.DDT_inv),np.eye(100-2),rtol=1e-8,atol=1e-8))"
   ]
  },
  {
   "cell_type": "code",
   "execution_count": 20,
   "metadata": {},
   "outputs": [],
   "source": [
    "D=Difference_Matrix(100,1)\n",
    "\n",
    "T=Difference_Matrix(100,k=1,t=np.linspace(0,1,100))"
   ]
  },
  {
   "cell_type": "code",
   "execution_count": 21,
   "metadata": {},
   "outputs": [],
   "source": [
    "assert(np.allclose(T.DDT.dot(T.DDT_inv),np.eye(100-2),rtol=1e-8,atol=1e-8))"
   ]
  },
  {
   "cell_type": "code",
   "execution_count": null,
   "metadata": {},
   "outputs": [],
   "source": []
  },
  {
   "attachments": {},
   "cell_type": "markdown",
   "metadata": {},
   "source": [
    "### Edge Cases"
   ]
  },
  {
   "cell_type": "code",
   "execution_count": 22,
   "metadata": {},
   "outputs": [],
   "source": [
    "D=Difference_Matrix(100,0)\n",
    "\n",
    "assert(np.allclose(D.DDT.dot(D.DDT_inv),np.eye(100-1),rtol=1e-8,atol=1e-8))"
   ]
  },
  {
   "cell_type": "code",
   "execution_count": 23,
   "metadata": {},
   "outputs": [],
   "source": [
    "T=Difference_Matrix(100,k=0,t=np.linspace(0,1,100))"
   ]
  },
  {
   "cell_type": "code",
   "execution_count": 24,
   "metadata": {},
   "outputs": [
    {
     "data": {
      "text/plain": [
       "array([[-1.,  1.,  0., ...,  0.,  0.,  0.],\n",
       "       [ 0., -1.,  1., ...,  0.,  0.,  0.],\n",
       "       [ 0.,  0., -1., ...,  0.,  0.,  0.],\n",
       "       ...,\n",
       "       [ 0.,  0.,  0., ...,  1.,  0.,  0.],\n",
       "       [ 0.,  0.,  0., ..., -1.,  1.,  0.],\n",
       "       [ 0.,  0.,  0., ...,  0., -1.,  1.]])"
      ]
     },
     "execution_count": 24,
     "metadata": {},
     "output_type": "execute_result"
    }
   ],
   "source": [
    "D=Difference_Matrix(100,0)\n",
    "D.D"
   ]
  },
  {
   "cell_type": "code",
   "execution_count": 25,
   "metadata": {},
   "outputs": [
    {
     "data": {
      "text/plain": [
       "array([[-1.,  1.,  0., ...,  0.,  0.,  0.],\n",
       "       [ 0., -1.,  1., ...,  0.,  0.,  0.],\n",
       "       [ 0.,  0., -1., ...,  0.,  0.,  0.],\n",
       "       ...,\n",
       "       [ 0.,  0.,  0., ...,  1.,  0.,  0.],\n",
       "       [ 0.,  0.,  0., ..., -1.,  1.,  0.],\n",
       "       [ 0.,  0.,  0., ...,  0., -1.,  1.]])"
      ]
     },
     "execution_count": 25,
     "metadata": {},
     "output_type": "execute_result"
    }
   ],
   "source": [
    "truncated_D=Difference_Matrix(99,0)\n",
    "truncated_D.D\n"
   ]
  },
  {
   "cell_type": "code",
   "execution_count": 26,
   "metadata": {},
   "outputs": [
    {
     "data": {
      "text/plain": [
       "array([[ 1., -2.,  1., ...,  0.,  0.,  0.],\n",
       "       [ 0.,  1., -2., ...,  0.,  0.,  0.],\n",
       "       [ 0.,  0.,  1., ...,  0.,  0.,  0.],\n",
       "       ...,\n",
       "       [ 0.,  0.,  0., ...,  1.,  0.,  0.],\n",
       "       [ 0.,  0.,  0., ..., -2.,  1.,  0.],\n",
       "       [ 0.,  0.,  0., ...,  1., -2.,  1.]])"
      ]
     },
     "execution_count": 26,
     "metadata": {},
     "output_type": "execute_result"
    }
   ],
   "source": [
    "truncated_D.D.dot(D.D)"
   ]
  },
  {
   "cell_type": "code",
   "execution_count": null,
   "metadata": {},
   "outputs": [],
   "source": []
  },
  {
   "attachments": {},
   "cell_type": "markdown",
   "metadata": {},
   "source": [
    "### Testing the performance of Prior Weighted Matrices"
   ]
  },
  {
   "cell_type": "code",
   "execution_count": 27,
   "metadata": {},
   "outputs": [
    {
     "data": {
      "text/plain": [
       "array([ 0.1487318 ,  1.38450854,  1.45913282,  0.58447002,  1.56399693,\n",
       "        1.78621766, -0.05913513,  0.19650203,  1.18206805,  1.54463676,\n",
       "        2.33844479,  1.30580755, -0.05640482,  0.11668889,  1.65045638,\n",
       "        2.59446365,  1.75743233,  1.74926773,  0.75243046, -0.98392387,\n",
       "        0.05507908,  0.74926586,  0.40344766,  1.11170571,  1.00126487,\n",
       "        0.84523799,  2.00845137,  1.63451627,  2.40210836,  1.05117117,\n",
       "        1.00463434, -0.04555228,  0.53070182,  2.04722233,  0.91115794,\n",
       "        1.88982296,  1.92539998,  2.29243643,  1.19362446,  0.73590867,\n",
       "        1.23420413,  2.6212728 ,  2.75587389, -0.17951225,  0.84882177,\n",
       "        0.46141464,  1.70904239,  1.51411197,  0.00613605,  1.6072603 ,\n",
       "        1.73554605,  1.99425808,  2.07122609,  1.30290706,  1.91720738,\n",
       "       -0.35331123,  0.25381397,  1.73557109,  2.01106739,  0.95852398,\n",
       "        1.75726124, -0.03087014,  1.06920767,  1.9305044 , -0.26446251,\n",
       "       -0.15922336,  1.9223364 ,  0.27971275,  0.14555489,  1.58418023,\n",
       "       -0.51867606,  1.17539914,  2.16320348,  1.15694743,  2.10104208,\n",
       "        0.95608452,  0.78263588,  1.77299082,  0.03726134, -0.7502209 ,\n",
       "        0.77285168,  0.1579405 , -1.28704258,  0.74454499,  0.84968883,\n",
       "        2.75305848, -0.55487322,  0.57658519,  0.75643784,  1.25499947,\n",
       "        0.96334181,  0.99445228,  3.26571808, -0.03354271,  0.86108902,\n",
       "        1.76474335,  1.23314422,  1.8459881 ,  1.68301712,  3.94903919])"
      ]
     },
     "execution_count": 27,
     "metadata": {},
     "output_type": "execute_result"
    }
   ],
   "source": [
    "prior=normal_prior.Normal_Prior(100,1,1)\n",
    "prior.prior"
   ]
  },
  {
   "cell_type": "code",
   "execution_count": 28,
   "metadata": {},
   "outputs": [
    {
     "ename": "AssertionError",
     "evalue": "",
     "output_type": "error",
     "traceback": [
      "\u001b[0;31m---------------------------------------------------------------------------\u001b[0m",
      "\u001b[0;31mAssertionError\u001b[0m                            Traceback (most recent call last)",
      "Cell \u001b[0;32mIn[28], line 1\u001b[0m\n\u001b[0;32m----> 1\u001b[0m P\u001b[39m=\u001b[39mDifference_Matrix(\u001b[39m100\u001b[39;49m,\u001b[39m1\u001b[39;49m,prior\u001b[39m=\u001b[39;49mprior\u001b[39m.\u001b[39;49mprior)\n\u001b[1;32m      2\u001b[0m P\u001b[39m.\u001b[39mD\n",
      "File \u001b[0;32m~/sbu/research/Adaptive_Signal_Estimation_Private/matrix_algorithms/research/../difference_matrix.py:63\u001b[0m, in \u001b[0;36mDifference_Matrix.__init__\u001b[0;34m(self, n, k, t, prior)\u001b[0m\n\u001b[1;32m     60\u001b[0m \u001b[39mself\u001b[39m\u001b[39m.\u001b[39mDDT_inv \u001b[39m=\u001b[39m \u001b[39mself\u001b[39m\u001b[39m.\u001b[39mLU_decomposition(\u001b[39mself\u001b[39m\u001b[39m.\u001b[39mDDT_to_invert)\n\u001b[1;32m     62\u001b[0m \u001b[39m# absolute tolerance for testing higher due to scaling\u001b[39;00m\n\u001b[0;32m---> 63\u001b[0m \u001b[39massert\u001b[39;00m np\u001b[39m.\u001b[39mallclose(\u001b[39mself\u001b[39m\u001b[39m.\u001b[39mDDT\u001b[39m.\u001b[39mdot(\u001b[39mself\u001b[39m\u001b[39m.\u001b[39mDDT_inv), np\u001b[39m.\u001b[39meye(\u001b[39mself\u001b[39m\u001b[39m.\u001b[39mDDT\u001b[39m.\u001b[39mshape[\u001b[39m0\u001b[39m]), atol\u001b[39m=\u001b[39m\u001b[39m1e-6\u001b[39m)\n",
      "\u001b[0;31mAssertionError\u001b[0m: "
     ]
    }
   ],
   "source": [
    "P=Difference_Matrix(100,1,prior=prior.prior)\n",
    "P.D"
   ]
  },
  {
   "cell_type": "code",
   "execution_count": null,
   "metadata": {},
   "outputs": [],
   "source": [
    "assert(np.allclose(P.DDT.dot(P.DDT_inv),np.eye(100-2),rtol=1e-8,atol=1e-8))"
   ]
  },
  {
   "cell_type": "code",
   "execution_count": null,
   "metadata": {},
   "outputs": [
    {
     "data": {
      "text/plain": [
       "3.7345163993405706e-10"
      ]
     },
     "execution_count": 34,
     "metadata": {},
     "output_type": "execute_result"
    }
   ],
   "source": [
    "(P.DDT.dot(P.DDT_inv)-np.eye(100-2)).max()"
   ]
  },
  {
   "cell_type": "code",
   "execution_count": null,
   "metadata": {},
   "outputs": [],
   "source": []
  }
 ],
 "metadata": {
  "kernelspec": {
   "display_name": "ase",
   "language": "python",
   "name": "python3"
  },
  "language_info": {
   "codemirror_mode": {
    "name": "ipython",
    "version": 3
   },
   "file_extension": ".py",
   "mimetype": "text/x-python",
   "name": "python",
   "nbconvert_exporter": "python",
   "pygments_lexer": "ipython3",
   "version": "3.10.8"
  },
  "orig_nbformat": 4,
  "vscode": {
   "interpreter": {
    "hash": "f880ac9d36dd8462f8cf8081c09c888c51fa7a43daa2149ff4d41fe709a61fa7"
   }
  }
 },
 "nbformat": 4,
 "nbformat_minor": 2
}
