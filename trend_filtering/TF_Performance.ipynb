{
 "cells": [
  {
   "cell_type": "code",
   "execution_count": 1,
   "metadata": {},
   "outputs": [],
   "source": [
    "import sys\n",
    "import numpy as np\n",
    "import time\n",
    "import pandas as pd\n",
    "import matplotlib.pyplot as plt\n",
    "\n",
    "\n",
    "\n",
    "path='/home/jbohne/sbu/'\n",
    "sys.path.append(f'{path}taq_db/TAQ-Query-Scripts/data')\n",
    "sys.path.append(f'{path}research/Adaptive_Signal_Estimation_Private')\n",
    "\n",
    "from trend_filtering.adaptive_tf import adaptive_tf\n",
    "from trend_filtering.test_adaptive_tf import test_adaptive_tf\n",
    "from profiling.profiler import profile"
   ]
  },
  {
   "cell_type": "code",
   "execution_count": 2,
   "metadata": {},
   "outputs": [],
   "source": [
    "trades=pd.read_csv(f'{path}taq_db/TAQ-Query-Scripts/data/AAPL_trades.csv',index_col=0).dropna()\n",
    "\n",
    "price=trades['Trade_Price'].values"
   ]
  },
  {
   "attachments": {},
   "cell_type": "markdown",
   "metadata": {},
   "source": [
    "### Overview of Estimation"
   ]
  },
  {
   "cell_type": "code",
   "execution_count": 3,
   "metadata": {},
   "outputs": [
    {
     "name": "stdout",
     "output_type": "stream",
     "text": [
      "solved\n",
      "pobj1: 6713226.6070587775, pobj2: 1.025588783582571, dobj: 1.0255879704727884, gap: 8.131097826158395e-07\n",
      "solved\n",
      "pobj1: 540.2268825234457, pobj2: 25.801914881168234, dobj: 25.80191392945619, gap: 9.517120425073244e-07\n",
      "solved\n",
      "pobj1: 371.8392637575362, pobj2: 36.291055940937085, dobj: 36.29105528240609, gap: 6.585309932916061e-07\n"
     ]
    }
   ],
   "source": [
    "test_adaptive_tf(price,1000,include_cv=True,lambda_p=1.0,plot=True,verbose=True)\n",
    "\n"
   ]
  },
  {
   "attachments": {},
   "cell_type": "markdown",
   "metadata": {},
   "source": [
    "### Performance of Sherman-Morrison -Woodbury Formula vs Naive Matrix Inversion"
   ]
  },
  {
   "attachments": {},
   "cell_type": "markdown",
   "metadata": {},
   "source": [
    "Naive Matrix Inversion"
   ]
  },
  {
   "cell_type": "code",
   "execution_count": null,
   "metadata": {},
   "outputs": [
    {
     "name": "stdout",
     "output_type": "stream",
     "text": [
      "Profiling: test_adaptive_tf\n"
     ]
    },
    {
     "ename": "",
     "evalue": "",
     "output_type": "error",
     "traceback": [
      "\u001b[1;31mCanceled future for execute_request message before replies were done"
     ]
    },
    {
     "ename": "",
     "evalue": "",
     "output_type": "error",
     "traceback": [
      "\u001b[1;31mThe Kernel crashed while executing code in the the current cell or a previous cell. Please review the code in the cell(s) to identify a possible cause of the failure. Click <a href='https://aka.ms/vscodeJupyterKernelCrash'>here</a> for more info. View Jupyter <a href='command:jupyter.viewOutput'>log</a> for further details."
     ]
    }
   ],
   "source": [
    "profile(test_adaptive_tf)(price,1000,include_cv=False,lambda_p=1.0,plot=False,verbose=False)"
   ]
  },
  {
   "attachments": {},
   "cell_type": "markdown",
   "metadata": {},
   "source": [
    "Sherman-Morrison -Woodbury Formula"
   ]
  },
  {
   "cell_type": "code",
   "execution_count": null,
   "metadata": {},
   "outputs": [],
   "source": [
    "profile(test_adaptive_tf)(price,1000,include_cv=False,lambda_p=1.0,plot=False,verbose=False)"
   ]
  },
  {
   "cell_type": "code",
   "execution_count": null,
   "metadata": {},
   "outputs": [],
   "source": []
  },
  {
   "attachments": {},
   "cell_type": "markdown",
   "metadata": {},
   "source": [
    "### Numba Compilation"
   ]
  },
  {
   "cell_type": "code",
   "execution_count": 3,
   "metadata": {},
   "outputs": [
    {
     "name": "stdout",
     "output_type": "stream",
     "text": [
      "Profiling: test_adaptive_tf\n",
      "\n",
      "*** PROFILER RESULTS ***\n",
      "inner (/home/jbohne/sbu/research/Adaptive_Signal_Estimation_Private/profiling/profiler.py:10)\n",
      "function called 1 times\n",
      "\n",
      "         2685580 function calls (2524902 primitive calls) in 3.972 seconds\n",
      "\n",
      "   Ordered by: cumulative time, internal time, call count\n",
      "   List reduced from 3463 to 40 due to restriction <40>\n",
      "\n",
      "   ncalls  tottime  percall  cumtime  percall filename:lineno(function)\n",
      "        1    0.000    0.000    3.976    3.976 profiler.py:10(inner)\n",
      "        1    0.000    0.000    3.976    3.976 test_adaptive_tf.py:10(test_adaptive_tf)\n",
      "        1    0.000    0.000    3.936    3.936 adaptive_tf.py:9(adaptive_tf)\n",
      "        2    0.000    0.000    3.935    1.967 dispatcher.py:388(_compile_for_args)\n",
      "     47/2    0.001    0.000    3.900    1.950 dispatcher.py:915(compile)\n",
      "     11/2    0.000    0.000    3.433    1.716 dispatcher.py:124(compile)\n",
      "     11/2    0.000    0.000    3.433    1.716 dispatcher.py:131(_compile_cached)\n",
      "     11/2    0.000    0.000    3.433    1.716 dispatcher.py:146(_compile_core)\n",
      "     11/2    0.000    0.000    3.432    1.716 compiler.py:690(compile_extra)\n",
      "     19/2    0.000    0.000    3.429    1.714 compiler.py:446(compile_extra)\n",
      "     19/2    0.000    0.000    3.427    1.713 compiler.py:515(_compile_bytecode)\n",
      "     19/2    0.001    0.000    3.427    1.713 compiler.py:469(_compile_core)\n",
      "     19/2    0.003    0.000    3.425    1.712 compiler_machinery.py:342(run)\n",
      "   466/41    0.003    0.000    3.424    0.084 compiler_lock.py:32(_acquire_compile_lock)\n",
      "   466/41    0.030    0.000    3.422    0.083 compiler_machinery.py:268(_runPass)\n",
      " 1397/122    0.004    0.000    3.372    0.028 compiler_machinery.py:272(check)\n",
      "     18/3    0.002    0.000    3.100    1.033 typed_passes.py:363(run_pass)\n",
      "     19/4    0.001    0.000    2.639    0.660 typed_passes.py:98(run_pass)\n",
      "     19/4    0.001    0.000    2.638    0.660 typed_passes.py:61(type_inference_stage)\n",
      "     18/3    0.000    0.000    2.638    0.879 lowering.py:163(lower)\n",
      "     19/4    0.000    0.000    2.628    0.657 typeinfer.py:1067(propagate)\n",
      "     39/9    0.004    0.000    2.627    0.292 typeinfer.py:142(propagate)\n",
      "  193/121    0.004    0.000    2.589    0.021 typeinfer.py:580(resolve)\n",
      "  211/124    0.011    0.000    2.586    0.021 functions.py:281(get_call_type)\n",
      "  183/111    0.001    0.000    2.579    0.023 typeinfer.py:1517(resolve_call)\n",
      "  247/111    0.001    0.000    2.578    0.023 context.py:189(resolve_function_type)\n",
      "  247/111    0.002    0.000    2.578    0.023 context.py:233(_resolve_user_function_type)\n",
      "     18/3    0.000    0.000    2.576    0.859 lowering.py:214(lower_normal_function)\n",
      "     18/3    0.001    0.000    2.561    0.854 lowering.py:231(lower_function_body)\n",
      "     43/3    0.004    0.000    2.561    0.854 lowering.py:255(lower_block)\n",
      "   599/50    0.007    0.000    2.559    0.051 lowering.py:433(lower_inst)\n",
      "   269/25    0.002    0.000    2.544    0.102 lowering.py:616(lower_assign)\n",
      " 1213/573    0.005    0.000    2.538    0.004 templates.py:349(apply)\n",
      "   141/12    0.002    0.000    2.534    0.211 lowering.py:1136(lower_expr)\n",
      "   111/53    0.002    0.000    2.521    0.048 typeinfer.py:570(__call__)\n",
      "  280/136    0.002    0.000    2.500    0.018 templates.py:607(generic)\n",
      "  280/136    0.003    0.000    2.489    0.018 templates.py:698(_get_impl)\n",
      "     17/7    0.000    0.000    2.474    0.353 base.py:847(compile_subroutine)\n",
      "      8/4    0.001    0.000    2.474    0.618 base.py:809(_compile_subroutine_no_cache)\n",
      "    45/18    0.000    0.000    2.464    0.137 functions.py:534(get_call_type)\n",
      "\n",
      "\n"
     ]
    },
    {
     "ename": "TypingError",
     "evalue": "Failed in nopython mode pipeline (step: nopython frontend)\nNo implementation of function Function(<built-in function abs>) found for signature:\n \n >>> abs(array(float64, 2d, C))\n \nThere are 6 candidate implementations:\n  - Of which 2 did not match due to:\n  Type Restricted Function in function 'abs': File: unknown: Line unknown.\n    With argument(s): '(array(float64, 2d, C))':\n   No match for registered cases:\n    * (int8,) -> int8\n    * (int16,) -> int16\n    * (int32,) -> int32\n    * (int64,) -> int64\n    * (uint8,) -> uint8\n    * (uint16,) -> uint16\n    * (uint32,) -> uint32\n    * (uint64,) -> uint64\n    * (float32,) -> float32\n    * (float64,) -> float64\n    * (complex64,) -> float32\n    * (complex128,) -> float64\n  - Of which 4 did not match due to:\n  Overload of function 'abs': File: <numerous>: Line N/A.\n    With argument(s): '(array(float64, 2d, C))':\n   No match.\n\nDuring: resolving callee type: Function(<built-in function abs>)\nDuring: typing of call at /home/jbohne/sbu/research/Adaptive_Signal_Estimation_Private/trend_filtering/adaptive_tf.py (101)\n\n\nFile \"adaptive_tf.py\", line 101:\ndef compute_objective(DDT_inv, Dy, DTz, DDTz, z, w, mu1, mu2, lambda_p):\n    <source elided>\n    pobj1 = 0.5 * np.dot(w.T, (np.dot(DDT_inv, w))) + np.sum(np.dot(lambda_p.T, (mu1 + mu2)))\n    pobj2 = 0.5 * np.dot(DTz.transpose(), DTz) + np.sum(np.dot(lambda_p.T, abs(Dy - DDTz)))\n    ^\n",
     "output_type": "error",
     "traceback": [
      "\u001b[0;31m---------------------------------------------------------------------------\u001b[0m",
      "\u001b[0;31mTypingError\u001b[0m                               Traceback (most recent call last)",
      "\u001b[1;32m/home/jbohne/sbu/research/Adaptive_Signal_Estimation_Private/trend_filtering/TF_Performance.ipynb Cell 12\u001b[0m in \u001b[0;36m<cell line: 1>\u001b[0;34m()\u001b[0m\n\u001b[0;32m----> <a href='vscode-notebook-cell://wsl%2Bubuntu-20.04/home/jbohne/sbu/research/Adaptive_Signal_Estimation_Private/trend_filtering/TF_Performance.ipynb#Y434sdnNjb2RlLXJlbW90ZQ%3D%3D?line=0'>1</a>\u001b[0m profile(test_adaptive_tf)(price,\u001b[39m1000\u001b[39;49m,include_cv\u001b[39m=\u001b[39;49m\u001b[39mFalse\u001b[39;49;00m,lambda_p\u001b[39m=\u001b[39;49m\u001b[39m1.0\u001b[39;49m,plot\u001b[39m=\u001b[39;49m\u001b[39mFalse\u001b[39;49;00m,verbose\u001b[39m=\u001b[39;49m\u001b[39mFalse\u001b[39;49;00m)\n",
      "File \u001b[0;32m~/sbu/research/Adaptive_Signal_Estimation_Private/profiling/profiler.py:20\u001b[0m, in \u001b[0;36mprofile.<locals>.outer\u001b[0;34m(*args, **kwargs)\u001b[0m\n\u001b[1;32m     17\u001b[0m \u001b[39mprint\u001b[39m(\u001b[39m\"\u001b[39m\u001b[39mProfiling: \u001b[39m\u001b[39m{}\u001b[39;00m\u001b[39m\"\u001b[39m\u001b[39m.\u001b[39mformat(fnc\u001b[39m.\u001b[39m\u001b[39m__name__\u001b[39m))\n\u001b[1;32m     19\u001b[0m \u001b[39m# returns the time of execution\u001b[39;00m\n\u001b[0;32m---> 20\u001b[0m \u001b[39mreturn\u001b[39;00m \u001b[39mprint\u001b[39m(inner(\u001b[39m*\u001b[39;49margs, \u001b[39m*\u001b[39;49m\u001b[39m*\u001b[39;49mkwargs))\n",
      "File \u001b[0;32m~/anaconda3/envs/ase/lib/python3.10/site-packages/profilehooks.py:259\u001b[0m, in \u001b[0;36mprofile.<locals>.new_fn\u001b[0;34m(*args, **kw)\u001b[0m\n\u001b[1;32m    257\u001b[0m \u001b[39m@functools\u001b[39m\u001b[39m.\u001b[39mwraps(fn)\n\u001b[1;32m    258\u001b[0m \u001b[39mdef\u001b[39;00m \u001b[39mnew_fn\u001b[39m(\u001b[39m*\u001b[39margs, \u001b[39m*\u001b[39m\u001b[39m*\u001b[39mkw):\n\u001b[0;32m--> 259\u001b[0m     \u001b[39mreturn\u001b[39;00m fp(\u001b[39m*\u001b[39;49margs, \u001b[39m*\u001b[39;49m\u001b[39m*\u001b[39;49mkw)\n",
      "File \u001b[0;32m~/anaconda3/envs/ase/lib/python3.10/site-packages/profilehooks.py:363\u001b[0m, in \u001b[0;36mFuncProfile.__call__\u001b[0;34m(self, *args, **kw)\u001b[0m\n\u001b[1;32m    361\u001b[0m \u001b[39mtry\u001b[39;00m:\n\u001b[1;32m    362\u001b[0m     FuncProfile\u001b[39m.\u001b[39min_profiler \u001b[39m=\u001b[39m \u001b[39mTrue\u001b[39;00m\n\u001b[0;32m--> 363\u001b[0m     \u001b[39mreturn\u001b[39;00m profiler\u001b[39m.\u001b[39;49mruncall(\u001b[39mself\u001b[39;49m\u001b[39m.\u001b[39;49mfn, \u001b[39m*\u001b[39;49margs, \u001b[39m*\u001b[39;49m\u001b[39m*\u001b[39;49mkw)\n\u001b[1;32m    364\u001b[0m \u001b[39mfinally\u001b[39;00m:\n\u001b[1;32m    365\u001b[0m     FuncProfile\u001b[39m.\u001b[39min_profiler \u001b[39m=\u001b[39m \u001b[39mFalse\u001b[39;00m\n",
      "File \u001b[0;32m~/anaconda3/envs/ase/lib/python3.10/cProfile.py:109\u001b[0m, in \u001b[0;36mProfile.runcall\u001b[0;34m(self, func, *args, **kw)\u001b[0m\n\u001b[1;32m    107\u001b[0m \u001b[39mself\u001b[39m\u001b[39m.\u001b[39menable()\n\u001b[1;32m    108\u001b[0m \u001b[39mtry\u001b[39;00m:\n\u001b[0;32m--> 109\u001b[0m     \u001b[39mreturn\u001b[39;00m func(\u001b[39m*\u001b[39;49margs, \u001b[39m*\u001b[39;49m\u001b[39m*\u001b[39;49mkw)\n\u001b[1;32m    110\u001b[0m \u001b[39mfinally\u001b[39;00m:\n\u001b[1;32m    111\u001b[0m     \u001b[39mself\u001b[39m\u001b[39m.\u001b[39mdisable()\n",
      "File \u001b[0;32m~/sbu/research/Adaptive_Signal_Estimation_Private/profiling/profiler.py:14\u001b[0m, in \u001b[0;36mprofile.<locals>.outer.<locals>.inner\u001b[0;34m(*args, **kwargs)\u001b[0m\n\u001b[1;32m     12\u001b[0m \u001b[39m\"\"\"The inner function\"\"\"\u001b[39;00m\n\u001b[1;32m     13\u001b[0m \u001b[39m# run the function\u001b[39;00m\n\u001b[0;32m---> 14\u001b[0m fnc(\u001b[39m*\u001b[39;49margs, \u001b[39m*\u001b[39;49m\u001b[39m*\u001b[39;49mkwargs)\n\u001b[1;32m     15\u001b[0m \u001b[39mreturn\u001b[39;00m \u001b[39mTrue\u001b[39;00m\n",
      "File \u001b[0;32m~/sbu/research/Adaptive_Signal_Estimation_Private/trend_filtering/test_adaptive_tf.py:44\u001b[0m, in \u001b[0;36mtest_adaptive_tf\u001b[0;34m(x, n, k, include_cv, lambda_p, plot, verbose)\u001b[0m\n\u001b[1;32m     41\u001b[0m         lambda_p \u001b[39m=\u001b[39m optimal_lambda\n\u001b[1;32m     43\u001b[0m \u001b[39m# reconstruct signal\u001b[39;00m\n\u001b[0;32m---> 44\u001b[0m results \u001b[39m=\u001b[39m adaptive_tf(x\u001b[39m.\u001b[39;49mreshape(\u001b[39m-\u001b[39;49m\u001b[39m1\u001b[39;49m, \u001b[39m1\u001b[39;49m), D_\u001b[39m=\u001b[39;49mD, lambda_p\u001b[39m=\u001b[39;49mnp\u001b[39m.\u001b[39;49marray([lambda_p]), verbose\u001b[39m=\u001b[39;49m verbose)\n\u001b[1;32m     46\u001b[0m \u001b[39m# extract solution information\u001b[39;00m\n\u001b[1;32m     47\u001b[0m results[\u001b[39m\"\u001b[39m\u001b[39mgap\u001b[39m\u001b[39m\"\u001b[39m]\n",
      "File \u001b[0;32m~/sbu/research/Adaptive_Signal_Estimation_Private/trend_filtering/adaptive_tf.py:48\u001b[0m, in \u001b[0;36madaptive_tf\u001b[0;34m(y, D_, lambda_p, k, verbose)\u001b[0m\n\u001b[1;32m     45\u001b[0m DTz, DDTz, w \u001b[39m=\u001b[39m prep_matrices(D, Dy, z, mu1, mu2)\n\u001b[1;32m     47\u001b[0m \u001b[39m# compute objectives\u001b[39;00m\n\u001b[0;32m---> 48\u001b[0m pobj1, pobj2, dobj, gap \u001b[39m=\u001b[39m compute_objective(DDT_inv, Dy, DTz, DDTz, z, w, mu1, mu2, lambda_p)\n\u001b[1;32m     50\u001b[0m \u001b[39mif\u001b[39;00m verbose:\n\u001b[1;32m     51\u001b[0m     \u001b[39mif\u001b[39;00m iters \u001b[39m%\u001b[39m \u001b[39m5\u001b[39m \u001b[39m==\u001b[39m \u001b[39m0\u001b[39m:\n",
      "File \u001b[0;32m~/anaconda3/envs/ase/lib/python3.10/site-packages/numba/core/dispatcher.py:468\u001b[0m, in \u001b[0;36m_DispatcherBase._compile_for_args\u001b[0;34m(self, *args, **kws)\u001b[0m\n\u001b[1;32m    464\u001b[0m         msg \u001b[39m=\u001b[39m (\u001b[39mf\u001b[39m\u001b[39m\"\u001b[39m\u001b[39m{\u001b[39;00m\u001b[39mstr\u001b[39m(e)\u001b[39m.\u001b[39mrstrip()\u001b[39m}\u001b[39;00m\u001b[39m \u001b[39m\u001b[39m\\n\u001b[39;00m\u001b[39m\\n\u001b[39;00m\u001b[39mThis error may have been caused \u001b[39m\u001b[39m\"\u001b[39m\n\u001b[1;32m    465\u001b[0m                \u001b[39mf\u001b[39m\u001b[39m\"\u001b[39m\u001b[39mby the following argument(s):\u001b[39m\u001b[39m\\n\u001b[39;00m\u001b[39m{\u001b[39;00margs_str\u001b[39m}\u001b[39;00m\u001b[39m\\n\u001b[39;00m\u001b[39m\"\u001b[39m)\n\u001b[1;32m    466\u001b[0m         e\u001b[39m.\u001b[39mpatch_message(msg)\n\u001b[0;32m--> 468\u001b[0m     error_rewrite(e, \u001b[39m'\u001b[39;49m\u001b[39mtyping\u001b[39;49m\u001b[39m'\u001b[39;49m)\n\u001b[1;32m    469\u001b[0m \u001b[39mexcept\u001b[39;00m errors\u001b[39m.\u001b[39mUnsupportedError \u001b[39mas\u001b[39;00m e:\n\u001b[1;32m    470\u001b[0m     \u001b[39m# Something unsupported is present in the user code, add help info\u001b[39;00m\n\u001b[1;32m    471\u001b[0m     error_rewrite(e, \u001b[39m'\u001b[39m\u001b[39munsupported_error\u001b[39m\u001b[39m'\u001b[39m)\n",
      "File \u001b[0;32m~/anaconda3/envs/ase/lib/python3.10/site-packages/numba/core/dispatcher.py:409\u001b[0m, in \u001b[0;36m_DispatcherBase._compile_for_args.<locals>.error_rewrite\u001b[0;34m(e, issue_type)\u001b[0m\n\u001b[1;32m    407\u001b[0m     \u001b[39mraise\u001b[39;00m e\n\u001b[1;32m    408\u001b[0m \u001b[39melse\u001b[39;00m:\n\u001b[0;32m--> 409\u001b[0m     \u001b[39mraise\u001b[39;00m e\u001b[39m.\u001b[39mwith_traceback(\u001b[39mNone\u001b[39;00m)\n",
      "\u001b[0;31mTypingError\u001b[0m: Failed in nopython mode pipeline (step: nopython frontend)\nNo implementation of function Function(<built-in function abs>) found for signature:\n \n >>> abs(array(float64, 2d, C))\n \nThere are 6 candidate implementations:\n  - Of which 2 did not match due to:\n  Type Restricted Function in function 'abs': File: unknown: Line unknown.\n    With argument(s): '(array(float64, 2d, C))':\n   No match for registered cases:\n    * (int8,) -> int8\n    * (int16,) -> int16\n    * (int32,) -> int32\n    * (int64,) -> int64\n    * (uint8,) -> uint8\n    * (uint16,) -> uint16\n    * (uint32,) -> uint32\n    * (uint64,) -> uint64\n    * (float32,) -> float32\n    * (float64,) -> float64\n    * (complex64,) -> float32\n    * (complex128,) -> float64\n  - Of which 4 did not match due to:\n  Overload of function 'abs': File: <numerous>: Line N/A.\n    With argument(s): '(array(float64, 2d, C))':\n   No match.\n\nDuring: resolving callee type: Function(<built-in function abs>)\nDuring: typing of call at /home/jbohne/sbu/research/Adaptive_Signal_Estimation_Private/trend_filtering/adaptive_tf.py (101)\n\n\nFile \"adaptive_tf.py\", line 101:\ndef compute_objective(DDT_inv, Dy, DTz, DDTz, z, w, mu1, mu2, lambda_p):\n    <source elided>\n    pobj1 = 0.5 * np.dot(w.T, (np.dot(DDT_inv, w))) + np.sum(np.dot(lambda_p.T, (mu1 + mu2)))\n    pobj2 = 0.5 * np.dot(DTz.transpose(), DTz) + np.sum(np.dot(lambda_p.T, abs(Dy - DDTz)))\n    ^\n"
     ]
    }
   ],
   "source": [
    "profile(test_adaptive_tf)(price,1000,include_cv=False,lambda_p=1.0,plot=False,verbose=False)"
   ]
  },
  {
   "cell_type": "code",
   "execution_count": null,
   "metadata": {},
   "outputs": [],
   "source": []
  }
 ],
 "metadata": {
  "kernelspec": {
   "display_name": "ase",
   "language": "python",
   "name": "python3"
  },
  "language_info": {
   "codemirror_mode": {
    "name": "ipython",
    "version": 3
   },
   "file_extension": ".py",
   "mimetype": "text/x-python",
   "name": "python",
   "nbconvert_exporter": "python",
   "pygments_lexer": "ipython3",
   "version": "3.10.4"
  },
  "orig_nbformat": 4,
  "vscode": {
   "interpreter": {
    "hash": "f880ac9d36dd8462f8cf8081c09c888c51fa7a43daa2149ff4d41fe709a61fa7"
   }
  }
 },
 "nbformat": 4,
 "nbformat_minor": 2
}
