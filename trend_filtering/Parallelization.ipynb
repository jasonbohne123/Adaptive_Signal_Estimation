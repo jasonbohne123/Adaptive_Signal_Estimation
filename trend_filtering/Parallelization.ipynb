{
 "cells": [
  {
   "cell_type": "code",
   "execution_count": 4,
   "metadata": {},
   "outputs": [],
   "source": [
    "%load_ext cython\n",
    "\n",
    "import multiprocessing \n",
    "import numpy as np\n",
    "import threading\n",
    "import queue"
   ]
  },
  {
   "attachments": {},
   "cell_type": "markdown",
   "metadata": {},
   "source": [
    "### Tutorial on using Cython to lift Python GIL"
   ]
  },
  {
   "cell_type": "code",
   "execution_count": 5,
   "metadata": {},
   "outputs": [
    {
     "name": "stdout",
     "output_type": "stream",
     "text": [
      "We have 8 cores to work on!\n"
     ]
    }
   ],
   "source": [
    "input_range = range(int(1e6), int(2e6), int(5e4))\n",
    "ncpus = multiprocessing.cpu_count()\n",
    "print(\"We have {} cores to work on!\".format(ncpus))"
   ]
  },
  {
   "attachments": {},
   "cell_type": "markdown",
   "metadata": {},
   "source": [
    "### Single Thread"
   ]
  },
  {
   "cell_type": "code",
   "execution_count": 6,
   "metadata": {},
   "outputs": [],
   "source": [
    "%%cython\n",
    "\n",
    "from libc.math cimport ceil, sqrt\n",
    "\n",
    "\n",
    "cdef inline int _is_prime(int n) nogil:\n",
    "   \"\"\"return a boolean, is the input integer a prime?\"\"\"\n",
    "   if n == 2:\n",
    "       return True\n",
    "   cdef int max_i = <int>ceil(sqrt(n))\n",
    "   cdef int i = 2\n",
    "   while i <= max_i:\n",
    "      if n % i == 0:\n",
    "          return False\n",
    "      i += 1\n",
    "   return True\n",
    "\n",
    "\n",
    "cdef unsigned long _sum_primes(int n) nogil:\n",
    "   \"\"\"return sum of all primes less than n \"\"\"\n",
    "   cdef unsigned long i = 0\n",
    "   cdef int x\n",
    "   for x in range(2, n):\n",
    "       if _is_prime(x):\n",
    "           i += x\n",
    "   return i\n",
    "\n",
    "\n",
    "def sum_primes(int n):\n",
    "    with nogil:\n",
    "        result = _sum_primes(n)\n",
    "    return result"
   ]
  },
  {
   "cell_type": "code",
   "execution_count": 7,
   "metadata": {},
   "outputs": [
    {
     "name": "stdout",
     "output_type": "stream",
     "text": [
      "37550402023 41276629127 45125753695 49161463647 53433406131 57759511224 62287995772 66955471633 71881256647 76875349479 82074443256 87423357964 92878592188 98576757977 104450958704 110431974857 116581137847 122913801665 129451433482 136136977177 \n",
      "CPU times: user 18.1 s, sys: 0 ns, total: 18.1 s\n",
      "Wall time: 18 s\n"
     ]
    }
   ],
   "source": [
    "%%time\n",
    "\n",
    "for i in input_range:\n",
    "    print(sum_primes(i), end=' ', flush=True)\n",
    "print()"
   ]
  },
  {
   "attachments": {},
   "cell_type": "markdown",
   "metadata": {},
   "source": [
    "### Multiprocessing Threading"
   ]
  },
  {
   "cell_type": "code",
   "execution_count": 8,
   "metadata": {},
   "outputs": [
    {
     "name": "stdout",
     "output_type": "stream",
     "text": [
      "37550402023 49161463647 41276629127 62287995772 66955471633 53433406131 45125753695 57759511224 71881256647 76875349479 82074443256 92878592188 87423357964 98576757977 110431974857 104450958704 116581137847 122913801665 129451433482 136136977177 \n",
      "CPU times: user 21.4 s, sys: 519 ms, total: 21.9 s\n",
      "Wall time: 3.42 s\n"
     ]
    }
   ],
   "source": [
    "%%time\n",
    "\n",
    "### We need to define a worker function that fetches jobs from the queue.\n",
    "def worker(q):\n",
    "    while True:\n",
    "        try:\n",
    "            x = q.get(block=False)\n",
    "            print(sum_primes(x), end=' ', flush=True)\n",
    "        except queue.Empty:\n",
    "            break\n",
    "\n",
    "### Create the queue, and fill it with input values\n",
    "work_queue = queue.Queue()\n",
    "for i in input_range:\n",
    "    work_queue.put(i)\n",
    "\n",
    "### Start a number of threads\n",
    "threads = [\n",
    "    threading.Thread(target=worker, args=(work_queue,))\n",
    "    for i in range(ncpus)]\n",
    "\n",
    "for t in threads:\n",
    "    t.start()\n",
    "\n",
    "### Wait until all of them are done\n",
    "for t in threads:\n",
    "    t.join()\n",
    "\n",
    "print()"
   ]
  },
  {
   "cell_type": "code",
   "execution_count": null,
   "metadata": {},
   "outputs": [],
   "source": []
  }
 ],
 "metadata": {
  "kernelspec": {
   "display_name": "research",
   "language": "python",
   "name": "python3"
  },
  "language_info": {
   "codemirror_mode": {
    "name": "ipython",
    "version": 3
   },
   "file_extension": ".py",
   "mimetype": "text/x-python",
   "name": "python",
   "nbconvert_exporter": "python",
   "pygments_lexer": "ipython3",
   "version": "3.10.4"
  },
  "orig_nbformat": 4,
  "vscode": {
   "interpreter": {
    "hash": "8fefc22b81b58a95d090389e6427ac7414ba2434182c3be0d4e0279b8ec28ded"
   }
  }
 },
 "nbformat": 4,
 "nbformat_minor": 2
}
