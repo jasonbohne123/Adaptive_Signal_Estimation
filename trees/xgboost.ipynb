{
 "cells": [
  {
   "attachments": {},
   "cell_type": "markdown",
   "metadata": {},
   "source": [
    "### XGBoost Tutorial\n",
    "\n",
    "Overview on XGBoost; High-dimensional regression and classification tree models\n",
    "\n",
    "Reasons for implementation\n",
    "- Popular across multiple languages\n",
    "- Allows for distrubution with both Apache Spark and Pyspark\n",
    "- Support for model inference across a variety of data types (arrays, dataframes)"
   ]
  },
  {
   "cell_type": "code",
   "execution_count": 3,
   "metadata": {},
   "outputs": [],
   "source": [
    "import xgboost as xgb\n",
    "import numpy as np"
   ]
  },
  {
   "attachments": {},
   "cell_type": "markdown",
   "metadata": {},
   "source": [
    "### Splitting Data\n",
    "\n",
    "Given our set of observations, let's generate train-test splits using hold-one-out cross validation. One can use the train_test_split function in scikit learn to do this\n",
    "\n"
   ]
  },
  {
   "cell_type": "code",
   "execution_count": 15,
   "metadata": {},
   "outputs": [],
   "source": [
    "data = np.random.rand(5, 10)  # 5 entities, each contains 10 features\n",
    "label = np.random.randint(2, size=5)  # binary target\n"
   ]
  },
  {
   "attachments": {},
   "cell_type": "markdown",
   "metadata": {},
   "source": [
    "We need to create an instance of DMatrix for each train-test split. These are xgboost specific data structures; optimized for the task at hand"
   ]
  },
  {
   "cell_type": "code",
   "execution_count": 16,
   "metadata": {},
   "outputs": [
    {
     "data": {
      "text/plain": [
       "array([[0.58657991, 0.97340186, 0.93695665, 0.97691941, 0.3813552 ,\n",
       "        0.50743974, 0.01923684, 0.90915972, 0.31314981, 0.15220012],\n",
       "       [0.82123728, 0.56737682, 0.22780624, 0.25442026, 0.78274567,\n",
       "        0.95728998, 0.2111922 , 0.72963301, 0.41991918, 0.03647519],\n",
       "       [0.1842962 , 0.59769828, 0.44458653, 0.18929396, 0.66289231,\n",
       "        0.13171584, 0.77672309, 0.09915626, 0.28685745, 0.00788661],\n",
       "       [0.70599517, 0.57488143, 0.48895658, 0.85148548, 0.59987275,\n",
       "        0.00605123, 0.00315136, 0.97137361, 0.74814688, 0.17964655],\n",
       "       [0.62426445, 0.38974657, 0.17148219, 0.05661995, 0.41809456,\n",
       "        0.11163994, 0.57360987, 0.795376  , 0.85068888, 0.2905236 ]])"
      ]
     },
     "execution_count": 16,
     "metadata": {},
     "output_type": "execute_result"
    }
   ],
   "source": [
    "dtrain = xgb.DMatrix(data, label=label)\n",
    "\n",
    "data"
   ]
  },
  {
   "cell_type": "code",
   "execution_count": null,
   "metadata": {},
   "outputs": [],
   "source": [
    "targets=np.random.rand(5, 10) # features in evaluation set \n",
    "label=np.random.randint(2, size=5) # targets in evaluation set \n",
    "\n",
    "dtest=xgb.DMatrix(data, label=label)"
   ]
  },
  {
   "attachments": {},
   "cell_type": "markdown",
   "metadata": {},
   "source": [
    "### Specifying Parameters\n",
    "\n"
   ]
  },
  {
   "cell_type": "code",
   "execution_count": 13,
   "metadata": {},
   "outputs": [],
   "source": [
    "param = {'max_depth': 2, 'eta': 1, 'objective': 'binary:logistic'}\n",
    "param['nthread'] = 4\n",
    "param['eval_metric'] = 'auc'\n",
    "\n",
    "evallist = [(dtrain, 'train'), (dtest, 'eval')]"
   ]
  },
  {
   "cell_type": "code",
   "execution_count": 14,
   "metadata": {},
   "outputs": [
    {
     "name": "stdout",
     "output_type": "stream",
     "text": [
      "[16:56:47] WARNING: /home/conda/feedstock_root/build_artifacts/xgboost-split_1679034925404/work/src/metric/auc.cc:328: Dataset is empty, or contains only positive or negative samples.\n",
      "[0]\ttrain-auc:0.50000\teval-auc:nan\n",
      "[16:56:47] WARNING: /home/conda/feedstock_root/build_artifacts/xgboost-split_1679034925404/work/src/metric/auc.cc:328: Dataset is empty, or contains only positive or negative samples.\n",
      "[1]\ttrain-auc:0.50000\teval-auc:nan\n",
      "[16:56:47] WARNING: /home/conda/feedstock_root/build_artifacts/xgboost-split_1679034925404/work/src/metric/auc.cc:328: Dataset is empty, or contains only positive or negative samples.\n",
      "[2]\ttrain-auc:0.50000\teval-auc:nan\n",
      "[16:56:47] WARNING: /home/conda/feedstock_root/build_artifacts/xgboost-split_1679034925404/work/src/metric/auc.cc:328: Dataset is empty, or contains only positive or negative samples.\n",
      "[3]\ttrain-auc:0.50000\teval-auc:nan\n",
      "[16:56:47] WARNING: /home/conda/feedstock_root/build_artifacts/xgboost-split_1679034925404/work/src/metric/auc.cc:328: Dataset is empty, or contains only positive or negative samples.\n",
      "[4]\ttrain-auc:0.50000\teval-auc:nan\n",
      "[16:56:47] WARNING: /home/conda/feedstock_root/build_artifacts/xgboost-split_1679034925404/work/src/metric/auc.cc:328: Dataset is empty, or contains only positive or negative samples.\n",
      "[5]\ttrain-auc:0.50000\teval-auc:nan\n",
      "[16:56:48] WARNING: /home/conda/feedstock_root/build_artifacts/xgboost-split_1679034925404/work/src/metric/auc.cc:328: Dataset is empty, or contains only positive or negative samples.\n",
      "[6]\ttrain-auc:0.50000\teval-auc:nan\n",
      "[16:56:48] WARNING: /home/conda/feedstock_root/build_artifacts/xgboost-split_1679034925404/work/src/metric/auc.cc:328: Dataset is empty, or contains only positive or negative samples.\n",
      "[7]\ttrain-auc:0.50000\teval-auc:nan\n",
      "[16:56:48] WARNING: /home/conda/feedstock_root/build_artifacts/xgboost-split_1679034925404/work/src/metric/auc.cc:328: Dataset is empty, or contains only positive or negative samples.\n",
      "[8]\ttrain-auc:0.50000\teval-auc:nan\n",
      "[16:56:48] WARNING: /home/conda/feedstock_root/build_artifacts/xgboost-split_1679034925404/work/src/metric/auc.cc:328: Dataset is empty, or contains only positive or negative samples.\n",
      "[9]\ttrain-auc:0.50000\teval-auc:nan\n"
     ]
    }
   ],
   "source": [
    "num_round = 10\n",
    "bst = xgb.train(param, dtrain, num_round, evallist)"
   ]
  },
  {
   "cell_type": "code",
   "execution_count": null,
   "metadata": {},
   "outputs": [],
   "source": []
  }
 ],
 "metadata": {
  "kernelspec": {
   "display_name": "ase",
   "language": "python",
   "name": "python3"
  },
  "language_info": {
   "codemirror_mode": {
    "name": "ipython",
    "version": 3
   },
   "file_extension": ".py",
   "mimetype": "text/x-python",
   "name": "python",
   "nbconvert_exporter": "python",
   "pygments_lexer": "ipython3",
   "version": "3.11.0"
  },
  "orig_nbformat": 4
 },
 "nbformat": 4,
 "nbformat_minor": 2
}
