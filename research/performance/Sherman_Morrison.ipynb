{
 "cells": [
  {
   "cell_type": "code",
   "execution_count": 2,
   "metadata": {},
   "outputs": [],
   "source": [
    "import time \n",
    "\n",
    "import numpy as np\n",
    "from numba import njit\n",
    "from matplotlib import pyplot as plt\n",
    "import sys\n",
    "sys.path.append(\"../\")\n",
    "from difference_matrix import Difference_Matrix"
   ]
  },
  {
   "attachments": {},
   "cell_type": "markdown",
   "metadata": {},
   "source": [
    "### Styles of Recursion\n",
    "\n",
    "Tail and Head Recursion"
   ]
  },
  {
   "cell_type": "code",
   "execution_count": 2,
   "metadata": {},
   "outputs": [],
   "source": [
    "@njit(nogil=True,fastmath=True,cache=True)\n",
    "def sherman_morrison_recursion(a_ij,DDT_inv):\n",
    "    \"\"\"Compute the inverse of a matrix using the Sherman-Morrison formula\n",
    "    \n",
    "        Utilizes forward recrusion for computational efficiency\n",
    "    \"\"\"\n",
    "    \n",
    "    A_inv=DDT_inv\n",
    "    k=1\n",
    "    \n",
    "    # Loop over the columns of the matrix\n",
    "    while k<=len(a_ij):\n",
    "\n",
    "        # Create the vectors u and v which are scaled unit vectors\n",
    "        e_n=np.zeros(len(a_ij))\n",
    "        e_n[k-1]=1\n",
    "        u=e_n.reshape(-1,1)\n",
    "        v=e_n.reshape(1,-1)\n",
    "       \n",
    "        num=np.dot(np.dot(A_inv,np.dot(a_ij[k-1]*u,v)),A_inv)\n",
    "        den=1+np.dot(np.dot(a_ij[k-1]*v,A_inv),u)\n",
    "     \n",
    "        A_inv=A_inv -num/den\n",
    "   \n",
    "        k=k+1\n",
    "  \n",
    "\n",
    "    return A_inv"
   ]
  },
  {
   "cell_type": "code",
   "execution_count": 3,
   "metadata": {},
   "outputs": [
    {
     "data": {
      "text/plain": [
       "  C_CONTIGUOUS : True\n",
       "  F_CONTIGUOUS : True\n",
       "  OWNDATA : True\n",
       "  WRITEABLE : True\n",
       "  ALIGNED : True\n",
       "  WRITEBACKIFCOPY : False"
      ]
     },
     "execution_count": 3,
     "metadata": {},
     "output_type": "execute_result"
    }
   ],
   "source": [
    "e_n=np.zeros(10)\n",
    "e_n.flags"
   ]
  },
  {
   "cell_type": "code",
   "execution_count": 4,
   "metadata": {},
   "outputs": [],
   "source": [
    "def test_sherman_morrison(n):\n",
    "    diff=Difference_Matrix(n,2)\n",
    "\n",
    "    DDT=diff.DDT\n",
    "    DDT_inv=diff.DDT_inv\n",
    "\n",
    "    a_ij=np.random.rand(DDT.shape[0])\n",
    "\n",
    "    # compute the inverse of DDT+a_ij*I using the Sherman-Morrison formula\n",
    "    start_time=time.time()\n",
    "    A_inv=sherman_morrison_recursion(a_ij,DDT_inv)\n",
    "    total_time=time.time()-start_time\n",
    "    \n",
    "\n",
    "    # check that the inverse is correct\n",
    "    computed_inv=np.dot(A_inv,DDT+np.diag(a_ij))\n",
    "\n",
    "    print(f\"Max error: {np.max(np.abs(computed_inv-np.eye(DDT.shape[0])))}\")\n",
    "    print(f\"Total time: {total_time}\")\n",
    "\n",
    "    return\n",
    "    \n",
    "\n",
    "\n"
   ]
  },
  {
   "attachments": {},
   "cell_type": "markdown",
   "metadata": {},
   "source": [
    "### 10 by 10 System"
   ]
  },
  {
   "cell_type": "code",
   "execution_count": 5,
   "metadata": {},
   "outputs": [
    {
     "name": "stdout",
     "output_type": "stream",
     "text": [
      "Max error: 4.0158848468863084e-15\n",
      "Total time: 2.486875534057617\n"
     ]
    }
   ],
   "source": [
    "test_sherman_morrison(10)"
   ]
  },
  {
   "cell_type": "code",
   "execution_count": null,
   "metadata": {},
   "outputs": [],
   "source": []
  },
  {
   "attachments": {},
   "cell_type": "markdown",
   "metadata": {},
   "source": [
    "### 100 by 100 System"
   ]
  },
  {
   "cell_type": "code",
   "execution_count": 6,
   "metadata": {},
   "outputs": [
    {
     "name": "stdout",
     "output_type": "stream",
     "text": [
      "Max error: 3.017628122179604e-11\n",
      "Total time: 0.009695291519165039\n"
     ]
    }
   ],
   "source": [
    "test_sherman_morrison(100)"
   ]
  },
  {
   "attachments": {},
   "cell_type": "markdown",
   "metadata": {},
   "source": [
    "### 1000 x 1000 system; poor scaling"
   ]
  },
  {
   "cell_type": "code",
   "execution_count": 7,
   "metadata": {},
   "outputs": [
    {
     "name": "stdout",
     "output_type": "stream",
     "text": [
      "Max error: 8.966299447593245e-08\n",
      "Total time: 62.68518400192261\n"
     ]
    }
   ],
   "source": [
    "test_sherman_morrison(1000)"
   ]
  },
  {
   "attachments": {},
   "cell_type": "markdown",
   "metadata": {},
   "source": [
    "### Improvement via Woodburry Matrix Identity (Blocked Sherman Morrison)"
   ]
  },
  {
   "cell_type": "code",
   "execution_count": 16,
   "metadata": {},
   "outputs": [],
   "source": [
    "\n",
    "def woodbury_matrix_inversion(a_ij,DDT_inv,step=20):\n",
    "    \"\"\"Compute the inverse of a matrix using the Woodbury formula\n",
    "    \n",
    "       k-blocks of the matrix are inverted at a time\n",
    "    \"\"\"\n",
    "   \n",
    "    A_inv=DDT_inv\n",
    "    k=1\n",
    "    \n",
    "    # Loop over the columns of the matrix\n",
    "    while k<=len(a_ij):\n",
    "\n",
    "\n",
    "        len_block=min(len(a_ij[k-1:k-1+step]),step)\n",
    "\n",
    "        # Create the vectors u and v which are scaled unit vectors\n",
    "        u=np.zeros((len(a_ij),len_block))\n",
    "        v=np.zeros((len_block,len(a_ij)))\n",
    "        c=np.zeros((len_block,len_block))\n",
    "\n",
    "     \n",
    "\n",
    "        for i in range(0,len_block):\n",
    "         \n",
    "            u[k+i-1,i]=1\n",
    "            v[i,k+i-1]=1\n",
    "            c[i,i]=a_ij[k+i-1]\n",
    "        \n",
    "        #  extract kth block of A_inv\n",
    "        truncated_mat=v.dot(A_inv).dot(u)\n",
    "\n",
    "        # compute the inverse of the kth block of A_inv\n",
    "        inv_truncated_mat=np.linalg.inv(truncated_mat)\n",
    "\n",
    "        # check that the inverse using numpy is correct\n",
    "        #assert np.max(np.abs(truncated_mat.dot(inv_truncated_mat)-np.eye(len_block)))<1e-10\n",
    "        \n",
    "        c_a_inv=sherman_morrison_recursion(1/a_ij[k-1:k-1+step],inv_truncated_mat)\n",
    "\n",
    "   \n",
    "     \n",
    "        A_inv=A_inv -A_inv.dot(u).dot(c_a_inv.dot(v).dot(A_inv))\n",
    "   \n",
    "        k=k+step\n",
    "    return A_inv"
   ]
  },
  {
   "cell_type": "code",
   "execution_count": 17,
   "metadata": {},
   "outputs": [],
   "source": [
    "def test_woodbury_inversion(n,step=None):\n",
    "\n",
    "    diff=Difference_Matrix(n,2)\n",
    "\n",
    "    DDT=diff.DDT\n",
    "    DDT_inv=diff.DDT_inv\n",
    "\n",
    "    a_ij=np.random.rand(DDT.shape[0])\n",
    "\n",
    "    start_time=time.time()\n",
    "    if step is None:\n",
    "        # compute the inverse of DDT+a_ij*I using the Woodbury formula\n",
    "        A_inv=woodbury_matrix_inversion(a_ij,DDT_inv)\n",
    "    else:\n",
    "        # compute the inverse of DDT+a_ij*I using the Woodbury formula\n",
    "        A_inv=woodbury_matrix_inversion(a_ij,DDT_inv,step=step)\n",
    "    total_time=time.time()-start_time\n",
    "\n",
    "    # check that the inverse is correct\n",
    "    computed_inv=A_inv.dot(DDT+np.diag(a_ij))\n",
    "\n",
    "    print(f\"Max error: {np.max(np.abs(computed_inv-np.eye(DDT.shape[0])))}\")\n",
    "    print(f\"Total time: {total_time}\")\n",
    "\n",
    "    return"
   ]
  },
  {
   "cell_type": "code",
   "execution_count": 24,
   "metadata": {},
   "outputs": [
    {
     "name": "stdout",
     "output_type": "stream",
     "text": [
      "Max error: 3.534012004535493e-08\n",
      "Total time: 0.07909440994262695\n"
     ]
    }
   ],
   "source": [
    "test_woodbury_inversion(500,step=20)"
   ]
  },
  {
   "cell_type": "code",
   "execution_count": 12,
   "metadata": {},
   "outputs": [
    {
     "name": "stdout",
     "output_type": "stream",
     "text": [
      "Max error: 8.123289785843627e-08\n",
      "Total time: 0.36255598068237305\n"
     ]
    }
   ],
   "source": [
    "test_woodbury_inversion(1000)"
   ]
  },
  {
   "cell_type": "code",
   "execution_count": 66,
   "metadata": {},
   "outputs": [
    {
     "name": "stdout",
     "output_type": "stream",
     "text": [
      "Max error: 1.5419815433619612e-06\n",
      "Total time: 15.629467010498047\n"
     ]
    }
   ],
   "source": [
    "test_woodbury_inversion(2500)\n"
   ]
  },
  {
   "cell_type": "code",
   "execution_count": 44,
   "metadata": {},
   "outputs": [
    {
     "name": "stdout",
     "output_type": "stream",
     "text": [
      "Max error: 2.6600141148404054e-05\n",
      "Total time: 123.6377604007721\n"
     ]
    }
   ],
   "source": [
    "test_woodbury_inversion(5000)"
   ]
  },
  {
   "cell_type": "code",
   "execution_count": null,
   "metadata": {},
   "outputs": [],
   "source": []
  }
 ],
 "metadata": {
  "kernelspec": {
   "display_name": "ase",
   "language": "python",
   "name": "python3"
  },
  "language_info": {
   "codemirror_mode": {
    "name": "ipython",
    "version": 3
   },
   "file_extension": ".py",
   "mimetype": "text/x-python",
   "name": "python",
   "nbconvert_exporter": "python",
   "pygments_lexer": "ipython3",
   "version": "3.10.8"
  },
  "orig_nbformat": 4,
  "vscode": {
   "interpreter": {
    "hash": "f880ac9d36dd8462f8cf8081c09c888c51fa7a43daa2149ff4d41fe709a61fa7"
   }
  }
 },
 "nbformat": 4,
 "nbformat_minor": 2
}
