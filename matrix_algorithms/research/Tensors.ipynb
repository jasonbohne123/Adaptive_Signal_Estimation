{
 "cells": [
  {
   "attachments": {},
   "cell_type": "markdown",
   "metadata": {},
   "source": [
    "### Exploring Tensors\n",
    "\n",
    "Commonly, one will work with arrays of larger dimension than 2. In these cases we are working with tensors. Performing operations, such as multiplication and transposing require much more care. Here is an overview on some common operations"
   ]
  },
  {
   "cell_type": "markdown",
   "metadata": {},
   "source": []
  },
  {
   "cell_type": "code",
   "execution_count": 1,
   "metadata": {},
   "outputs": [],
   "source": [
    "import numpy as np"
   ]
  },
  {
   "cell_type": "code",
   "execution_count": 3,
   "metadata": {},
   "outputs": [
    {
     "name": "stdout",
     "output_type": "stream",
     "text": [
      "Shape of a: (10, 20, 30, 40, 50)\n"
     ]
    }
   ],
   "source": [
    "a=np.zeros((10,20,30,40,50))\n",
    "print(f\"Shape of a: {a.shape}\")\n"
   ]
  },
  {
   "attachments": {},
   "cell_type": "markdown",
   "metadata": {},
   "source": [
    "### Transposing across multiple axes\n",
    "\n",
    "Pass in the correct axes to the transpose function. For example, to transpose the first and second axes of a 3D tensor, pass in (1, 0, 2) to the transpose function."
   ]
  },
  {
   "cell_type": "code",
   "execution_count": 5,
   "metadata": {},
   "outputs": [
    {
     "name": "stdout",
     "output_type": "stream",
     "text": [
      "Shape of a_t: (10, 20, 40, 30, 50)\n"
     ]
    }
   ],
   "source": [
    "a_t=np.transpose(a, (0, 1, 3, 2, 4))\n",
    "print(f\"Shape of a_t: {a_t.shape}\")"
   ]
  },
  {
   "cell_type": "code",
   "execution_count": null,
   "metadata": {},
   "outputs": [],
   "source": []
  },
  {
   "attachments": {},
   "cell_type": "markdown",
   "metadata": {},
   "source": [
    "### Dot product\n",
    "\n",
    "Depending on the shapes of the tensors, the dot product can be performed in different ways. The dot product of two vectors is the sum of the element-wise product of the two vectors. The dot product of a matrix and a vector is the sum of the element-wise product of the matrix and the vector. The dot product of two matrices is the sum of the element-wise product of the two matrices. The dot product of a tensor and a vector is the sum of the element-wise product of the tensor and the vector. The dot product of two tensors is the sum of the element-wise product of the two tensors."
   ]
  },
  {
   "attachments": {},
   "cell_type": "markdown",
   "metadata": {},
   "source": [
    "**Dot Product Examples**"
   ]
  },
  {
   "cell_type": "code",
   "execution_count": null,
   "metadata": {},
   "outputs": [],
   "source": []
  }
 ],
 "metadata": {
  "kernelspec": {
   "display_name": "ase",
   "language": "python",
   "name": "python3"
  },
  "language_info": {
   "codemirror_mode": {
    "name": "ipython",
    "version": 3
   },
   "file_extension": ".py",
   "mimetype": "text/x-python",
   "name": "python",
   "nbconvert_exporter": "python",
   "pygments_lexer": "ipython3",
   "version": "3.10.8"
  },
  "orig_nbformat": 4
 },
 "nbformat": 4,
 "nbformat_minor": 2
}
