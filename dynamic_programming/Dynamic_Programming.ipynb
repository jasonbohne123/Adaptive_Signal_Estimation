{
 "cells": [
  {
   "cell_type": "markdown",
   "id": "29ee2416-dfe4-431d-b6de-f8a62e9215db",
   "metadata": {},
   "source": [
    "### Dynamic Programming Code for Optimal CP Detection\n",
    "\n",
    "Implements Levy-Leduc Code to determine optimal number of changepoints across a candidate set \n"
   ]
  },
  {
   "cell_type": "code",
   "execution_count": 1,
   "id": "e745da4a-4a44-45fe-ac81-8ebd2ae4b479",
   "metadata": {},
   "outputs": [],
   "source": [
    "import numpy as np\n",
    "import matplotlib.pyplot as plt"
   ]
  },
  {
   "cell_type": "code",
   "execution_count": 30,
   "id": "64015042",
   "metadata": {},
   "outputs": [],
   "source": [
    "def map_intervals(Y,indices):\n",
    "    \"\"\" Maps the indices of the candidate changepoints to a dictionary of intervals\n",
    "    \"\"\"\n",
    "    intervals={}\n",
    "    for i in range(len(indices)-1):\n",
    "        intervals[i]=([indices[i],indices[i+1]])\n",
    "   \n",
    "    return intervals\n"
   ]
  },
  {
   "cell_type": "code",
   "execution_count": null,
   "id": "14dbd824",
   "metadata": {},
   "outputs": [],
   "source": [
    "# TO:DO: Consider constraining continuity of the polynomial instead of mse \n",
    "\n",
    "def best_fit_polynomial(Y,interval,order=1):\n",
    "    \"\"\" Fits a polynomial of order k to the data Y across a given interval\n",
    "    \"\"\"\n",
    "    # partitions x and y of interval \n",
    "    y=Y[interval[0]:interval[1]]\n",
    "    x_range=np.arange(interval[0],interval[1],1)\n",
    "\n",
    "    # fit polynomial of order k to data\n",
    "    poly_coef=np.polyfit(x_range,y,order)\n",
    "    polynomial=poly_coef.dot(np.vstack([x_range**i for i in range(order,-1,-1)]))\n",
    "    \n",
    "    # mean squared error of fit\n",
    "    mse=np.mean((y-polynomial)**2)\n",
    "\n",
    "    return mse"
   ]
  },
  {
   "cell_type": "code",
   "execution_count": null,
   "id": "973237b5",
   "metadata": {},
   "outputs": [],
   "source": [
    "def compute_J(Y,indices,cp_mappings,order):\n",
    "    \"\"\" Evaluate cost matrix between each nested pair of changepoints\n",
    "    \"\"\"\n",
    "    \n",
    "    k=len(indices)-1\n",
    "    mapping_indices=np.arange(k)\n",
    "\n",
    "    # initialize cost matrix\n",
    "    cost_matrix=np.zeros((k,k))\n",
    "    \n",
    "    # evaluate cost matrix, looping over nested pairs of merged intervals\n",
    "    for i in range(len(mapping_indices)):\n",
    "        for j in range(i,len(mapping_indices)):\n",
    "          \n",
    "            interval=[cp_mappings[i][0],cp_mappings[j][1]]\n",
    "            cost_matrix[i,j]=best_fit_polynomial(Y,interval,order=order)\n",
    "\n",
    "    return cost_matrix"
   ]
  },
  {
   "cell_type": "code",
   "execution_count": null,
   "id": "23ff60c1",
   "metadata": {},
   "outputs": [],
   "source": [
    "def compute_V(cost_matrix,K_max,indices):\n",
    "    \"\"\" Computes the optimal cost and changepoint locations\n",
    "    \"\"\"\n",
    "   \n",
    "    k=len(indices)-1\n",
    "    \n",
    "    # initialize optimal cost and optimal location matrices\n",
    "    optimal_cost=np.zeros((K_max+1,k))\n",
    "    optimal_loc=np.zeros((K_max,k))\n",
    "    \n",
    "    \n",
    "    # no changepoints; best RSE is the sum of squared errors on interval\n",
    "    for i in range(k):\n",
    "        optimal_cost[0,i]=cost_matrix[0,i]\n",
    "  \n",
    "    # loop over number of possible changepoints calculating optimal cost and location of indices \n",
    "    # utilizes dynamic programming structure to build solution from subproblems solution \n",
    "    for k_i in range(1,K_max+1):\n",
    "        for j in range(k_i+1,k+1):\n",
    "      \n",
    "            optimal_cost[k_i,j-1]=np.min(optimal_cost[k_i-1,k_i-1:j-1]+cost_matrix[k_i:j,j-1])\n",
    "            ind=np.argmin(optimal_cost[k_i-1,k_i-1:j-1]+cost_matrix[k_i:j,j-1])\n",
    "            optimal_loc[k_i-1,j-1]=ind+k_i-1\n",
    " \n",
    "    return optimal_loc"
   ]
  },
  {
   "cell_type": "code",
   "execution_count": null,
   "id": "baa2840c",
   "metadata": {},
   "outputs": [],
   "source": [
    "def optimal_segmentation(optimal_loc,indices,K_max):\n",
    "    \"\"\" Computes the optimal segmentation based on recursive RSE\n",
    "    \"\"\"\n",
    "    \n",
    "    all_loc=optimal_loc.copy()\n",
    "    k=len(indices)-1\n",
    "\n",
    "    # dictionary keyed by potential cp, values are cps that are optimal for that k_i\n",
    "    total_loc={}\n",
    "\n",
    "    for k_i in range(1,K_max+1):\n",
    "        total_loc[k_i-1]=np.zeros(k_i)\n",
    "        total_loc[k_i-1][k_i-1]=all_loc[k_i-1,k-1]\n",
    "        for i in range(k_i-1,0,-1):\n",
    "            total_loc[k_i-1][i-1]=all_loc[i-1,int(total_loc[k_i-1][i])]\n",
    "\n",
    "    return total_loc"
   ]
  },
  {
   "cell_type": "code",
   "execution_count": null,
   "id": "87de82c7",
   "metadata": {},
   "outputs": [],
   "source": [
    "def convert_observed_cp(optimal_segment,indices):\n",
    "    \"\"\"Converts the optimal changepoints to the observed indices\n",
    "    \"\"\"\n",
    "    all_segments=optimal_segment.copy()\n",
    "    \n",
    "    # keys by number of points \n",
    "    for i in range(len(all_segments)):\n",
    "        indices_dict=dict(zip([i for i in range(0,len(indices))],indices))\n",
    "        \n",
    "        all_segments[i]=[indices_dict[int(i)+1] for i in all_segments[i]]\n",
    "    all_segments={i+1:all_segments[i] for i in range(len(all_segments))}\n",
    "    return all_segments"
   ]
  },
  {
   "cell_type": "code",
   "execution_count": 194,
   "id": "8c518e48-7e2a-4011-b90a-990095fb3ca6",
   "metadata": {},
   "outputs": [],
   "source": [
    "\n",
    "def dp_solver(Y,indices,K_max,k=1):\n",
    "    \"\"\" DP Management function to determine optimal changepoints per fixed size\n",
    "    \"\"\"\n",
    "\n",
    "    if K_max>len(indices):\n",
    "        print(\"K_max must be less than or equal to the number of candidate changepoints\")\n",
    "        K_max=len(indices)\n",
    "\n",
    "    indices=np.unique(np.concatenate([[0],indices,[len(Y)]]))\n",
    "    print(\"Indices are {}\".format(indices))\n",
    "\n",
    "    # map the indices to the intervals of the data\n",
    "    cp_mappings=map_intervals(Y,indices)\n",
    "    \n",
    "    # Initialize cost matrix\n",
    "    cost_matrix=compute_J(Y,indices,cp_mappings,k)\n",
    "\n",
    "    # Compute optimal cost and changepoint locations\n",
    "    optimal_loc=compute_V(cost_matrix,K_max,indices)\n",
    "    \n",
    "    # Compute optimal segmentation\n",
    "    optimal_segment=optimal_segmentation(optimal_loc,indices,K_max)\n",
    "\n",
    "    optimal_indices=convert_observed_cp(optimal_segment,indices)\n",
    "\n",
    "    return optimal_indices\n"
   ]
  },
  {
   "cell_type": "code",
   "execution_count": 234,
   "id": "6f4d80a0-9db8-4442-9ad0-d1e00b758f47",
   "metadata": {},
   "outputs": [],
   "source": [
    "def test_dp():\n",
    "    \"\"\" Prep dataset to test dynamic programming recursion\n",
    "    \"\"\"\n",
    "    n=250\n",
    "    k=5\n",
    "    x=np.arange(0,n,1)\n",
    "    y=np.empty(n)\n",
    "\n",
    "    sample_variance=0.5\n",
    "    \n",
    "    n1,n2,n3,n4,n5=np.arange(0,n,n/k).astype(int)\n",
    "    \n",
    "    def generate_noise(samples,sample_variance):\n",
    "        return np.random.normal(scale=sample_variance,size=n)\n",
    "    \n",
    "    y[:n2]=0.1*x[:n2]+2\n",
    "    y[n2:n3]=-0.05*x[n2:n3]+9.5\n",
    "    y[n3:n4]=0.05*x[n3:n4]-0.5\n",
    "\n",
    "    y[n4:n5]=-0.05*x[n4:n5]+14.5\n",
    "    y[n5:]=0.25*x[n5:]-45.5\n",
    "\n",
    "    true_cp=np.array([n2,n3,n4,n5])\n",
    "    noisy_cp=np.array([35,n2,75,n3,125,130,135,141,n4,167,n5])\n",
    "    \n",
    "    return x,y+0.5*generate_noise(n,sample_variance),noisy_cp,true_cp"
   ]
  },
  {
   "cell_type": "markdown",
   "id": "e02f447d",
   "metadata": {},
   "source": [
    "### Test Cases\n",
    "\n",
    "1. Pass in K_max=n where n is number of changepoints. Optimal solution for k_i=K_max should be original CP set"
   ]
  },
  {
   "cell_type": "code",
   "execution_count": 235,
   "id": "932fa47d",
   "metadata": {},
   "outputs": [
    {
     "name": "stdout",
     "output_type": "stream",
     "text": [
      "Indices are [  0  35  50  75 100 125 130 135 141 150 167 200 250]\n"
     ]
    },
    {
     "data": {
      "text/plain": [
       "{1: [200],\n",
       " 2: [35, 200],\n",
       " 3: [35, 135, 200],\n",
       " 4: [50, 100, 150, 200],\n",
       " 5: [50, 100, 150, 167, 200],\n",
       " 6: [50, 100, 125, 130, 150, 200],\n",
       " 7: [50, 100, 125, 130, 135, 150, 200],\n",
       " 8: [50, 100, 125, 130, 135, 150, 167, 200],\n",
       " 9: [50, 75, 100, 125, 130, 135, 150, 167, 200],\n",
       " 10: [50, 75, 100, 125, 130, 135, 141, 150, 167, 200],\n",
       " 11: [35, 50, 75, 100, 125, 130, 135, 141, 150, 167, 200]}"
      ]
     },
     "execution_count": 235,
     "metadata": {},
     "output_type": "execute_result"
    }
   ],
   "source": [
    "x,y,noisy_cp,true_cp=test_dp()\n",
    "n=len(noisy_cp)\n",
    "\n",
    "optimal_indices=dp_solver(y,noisy_cp,K_max=n,k=1)\n",
    "optimal_indices"
   ]
  },
  {
   "cell_type": "code",
   "execution_count": 236,
   "id": "0fc5d184",
   "metadata": {},
   "outputs": [
    {
     "data": {
      "text/plain": [
       "<matplotlib.legend.Legend at 0x7f63f39df250>"
      ]
     },
     "execution_count": 236,
     "metadata": {},
     "output_type": "execute_result"
    },
    {
     "data": {
      "image/png": "[encoded data removed]",
      "text/plain": [
       "<Figure size 720x576 with 1 Axes>"
      ]
     },
     "metadata": {
      "needs_background": "light"
     },
     "output_type": "display_data"
    }
   ],
   "source": [
    "fig,ax=plt.subplots(1,1,figsize=(10,8))\n",
    "ax.plot(x,y)\n",
    "ax.scatter(x[noisy_cp],y[noisy_cp],c='r',s=100,label='Original CPs')\n",
    "ax.scatter(x[optimal_indices[n]],y[optimal_indices[n]],c='g',s=100,label='Optimal CPs')\n",
    "ax.legend()"
   ]
  },
  {
   "cell_type": "markdown",
   "id": "3d1a8d4c",
   "metadata": {},
   "source": [
    "### Model Selection"
   ]
  },
  {
   "cell_type": "code",
   "execution_count": 237,
   "id": "52ab2137",
   "metadata": {},
   "outputs": [],
   "source": [
    "def generalized_cross_validation(optimal_indices,Y,order=1):\n",
    "    \"\"\" Determines optimal number of changepoints based on generalized cross validation \"\"\"\n",
    "\n",
    "    mse_dict={}\n",
    "    gcv_dict={}\n",
    "    \n",
    "    # confirm below params are optimal\n",
    "    c=3\n",
    "    r=order+2\n",
    "\n",
    "    for k_i, cps in optimal_indices.items():\n",
    "\n",
    "        # pad cps\n",
    "        cps=np.unique(np.concatenate([[0],cps,[len(Y)]]))\n",
    "\n",
    "        fixed_intervals=map_intervals(Y,cps)\n",
    "      \n",
    "        \n",
    "\n",
    "        K=len(cps)\n",
    "        M=r+c*K\n",
    "\n",
    "        fixed_mse=0\n",
    "        # compute the sum of squared errors of best fitted polynomial each interval\n",
    "        \n",
    "        for inter in list(fixed_intervals.values()):\n",
    "            mse=best_fit_polynomial(Y,inter)\n",
    "            fixed_mse+=mse\n",
    "        \n",
    "        mse_dict[k_i]=fixed_mse\n",
    "        gcv_dict[k_i]=fixed_mse/(1-(M/len(Y))**2)\n",
    "\n",
    "    sorted_mse=sorted(mse_dict.items(),key=lambda x: x[1])\n",
    "    sorted_gcv=sorted(gcv_dict.items(),key=lambda x: x[1])\n",
    "    return sorted_mse, sorted_gcv"
   ]
  },
  {
   "cell_type": "code",
   "execution_count": 238,
   "id": "301c87e6",
   "metadata": {},
   "outputs": [
    {
     "data": {
      "text/plain": [
       "([(4, 0.30370377884604144),\n",
       "  (5, 0.34770445541810957),\n",
       "  (6, 0.3890628648494881),\n",
       "  (7, 0.42661559565381046),\n",
       "  (8, 0.47061627222587854),\n",
       "  (9, 0.5188942574492225),\n",
       "  (10, 0.5912307553340956),\n",
       "  (3, 0.6063325569421415),\n",
       "  (2, 0.6403051153194597),\n",
       "  (11, 0.680007527164374),\n",
       "  (1, 1.150166741836451)],\n",
       " [(4, 0.3058619406996179),\n",
       "  (5, 0.3509387065375597),\n",
       "  (6, 0.3936544503584693),\n",
       "  (7, 0.4328486157201811),\n",
       "  (8, 0.478961700902402),\n",
       "  (9, 0.5298818882846938),\n",
       "  (10, 0.6059778318499972),\n",
       "  (3, 0.6094921643219866),\n",
       "  (2, 0.642618542070915),\n",
       "  (11, 0.6997574823461106),\n",
       "  (1, 1.1528228456728813)])"
      ]
     },
     "execution_count": 238,
     "metadata": {},
     "output_type": "execute_result"
    }
   ],
   "source": [
    "generalized_cross_validation(optimal_indices,y)"
   ]
  },
  {
   "cell_type": "markdown",
   "id": "5e976b8a",
   "metadata": {},
   "source": [
    "### Optimal Selected CP"
   ]
  },
  {
   "cell_type": "code",
   "execution_count": 245,
   "id": "04ab3f37",
   "metadata": {},
   "outputs": [
    {
     "data": {
      "text/plain": [
       "<matplotlib.collections.PathCollection at 0x7f63f23a3b80>"
      ]
     },
     "execution_count": 245,
     "metadata": {},
     "output_type": "execute_result"
    },
    {
     "data": {
      "image/png": "[encoded data removed]",
      "text/plain": [
       "<Figure size 720x576 with 1 Axes>"
      ]
     },
     "metadata": {
      "needs_background": "light"
     },
     "output_type": "display_data"
    }
   ],
   "source": [
    "fig,ax=plt.subplots(1,1,figsize=(10,8))\n",
    "ax.plot(x,y)\n",
    "ax.scatter(x[true_cp],y[true_cp],c='r',s=100,label='True CPs')\n",
    "ax.scatter(x[noisy_cp],y[noisy_cp],c='g',s=100,label='Noisy CPs')\n",
    "ax.scatter(x[optimal_indices[4]],y[optimal_indices[4]],c='b',s=100,label='Optimally Selected CPs')"
   ]
  },
  {
   "cell_type": "markdown",
   "id": "3a793082",
   "metadata": {},
   "source": [
    "### Able to Recover all of the original CP"
   ]
  },
  {
   "cell_type": "code",
   "execution_count": 246,
   "id": "25dd57c3",
   "metadata": {},
   "outputs": [
    {
     "data": {
      "text/plain": [
       "array([ 50, 100, 150, 200])"
      ]
     },
     "execution_count": 246,
     "metadata": {},
     "output_type": "execute_result"
    }
   ],
   "source": [
    "true_cp"
   ]
  },
  {
   "cell_type": "code",
   "execution_count": 247,
   "id": "fa47cc01",
   "metadata": {},
   "outputs": [
    {
     "data": {
      "text/plain": [
       "[50, 100, 150, 200]"
      ]
     },
     "execution_count": 247,
     "metadata": {},
     "output_type": "execute_result"
    }
   ],
   "source": [
    "optimal_indices[4]"
   ]
  },
  {
   "cell_type": "code",
   "execution_count": null,
   "id": "ab2d403b",
   "metadata": {},
   "outputs": [],
   "source": []
  }
 ],
 "metadata": {
  "kernelspec": {
   "display_name": "Python 3.10.4 ('research')",
   "language": "python",
   "name": "python3"
  },
  "language_info": {
   "codemirror_mode": {
    "name": "ipython",
    "version": 3
   },
   "file_extension": ".py",
   "mimetype": "text/x-python",
   "name": "python",
   "nbconvert_exporter": "python",
   "pygments_lexer": "ipython3",
   "version": "3.10.4"
  },
  "vscode": {
   "interpreter": {
    "hash": "8fefc22b81b58a95d090389e6427ac7414ba2434182c3be0d4e0279b8ec28ded"
   }
  }
 },
 "nbformat": 4,
 "nbformat_minor": 5
}
