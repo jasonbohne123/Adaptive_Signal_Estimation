{
 "cells": [
  {
   "cell_type": "code",
   "execution_count": 3,
   "metadata": {},
   "outputs": [],
   "source": [
    "import sys\n",
    "\n",
    "sys.path.append(\"../\")\n",
    "sys.path.append(\"../../\")\n",
    "\n",
    "from difference_matrix import Difference_Matrix\n",
    "\n",
    "from matrix_sequence import Matrix_Sequence\n",
    "\n",
    "import numpy as np\n",
    "\n",
    "from prior_models import normal_prior"
   ]
  },
  {
   "attachments": {},
   "cell_type": "markdown",
   "metadata": {},
   "source": [
    "### General Performance tests for matrix inversion algorithms\n",
    "\n",
    "Let's create a second order difference matrix"
   ]
  },
  {
   "cell_type": "code",
   "execution_count": 4,
   "metadata": {},
   "outputs": [],
   "source": [
    "D=Difference_Matrix(n=100,k=1)"
   ]
  },
  {
   "cell_type": "code",
   "execution_count": 5,
   "metadata": {},
   "outputs": [
    {
     "data": {
      "text/plain": [
       "array([[ 1., -2.,  1., ...,  0.,  0.,  0.],\n",
       "       [ 0.,  1., -2., ...,  0.,  0.,  0.],\n",
       "       [ 0.,  0.,  1., ...,  0.,  0.,  0.],\n",
       "       ...,\n",
       "       [ 0.,  0.,  0., ...,  1.,  0.,  0.],\n",
       "       [ 0.,  0.,  0., ..., -2.,  1.,  0.],\n",
       "       [ 0.,  0.,  0., ...,  1., -2.,  1.]])"
      ]
     },
     "execution_count": 5,
     "metadata": {},
     "output_type": "execute_result"
    }
   ],
   "source": [
    "D.D"
   ]
  },
  {
   "cell_type": "code",
   "execution_count": 6,
   "metadata": {},
   "outputs": [
    {
     "data": {
      "text/plain": [
       "array([[-1.,  1.,  0., ...,  0.,  0.,  0.],\n",
       "       [ 0., -1.,  1., ...,  0.,  0.,  0.],\n",
       "       [ 0.,  0., -1., ...,  0.,  0.,  0.],\n",
       "       ...,\n",
       "       [ 0.,  0.,  0., ...,  1.,  0.,  0.],\n",
       "       [ 0.,  0.,  0., ..., -1.,  1.,  0.],\n",
       "       [ 0.,  0.,  0., ...,  0., -1.,  1.]])"
      ]
     },
     "execution_count": 6,
     "metadata": {},
     "output_type": "execute_result"
    }
   ],
   "source": [
    "D.compute_k_difference(0)"
   ]
  },
  {
   "cell_type": "code",
   "execution_count": 7,
   "metadata": {},
   "outputs": [
    {
     "data": {
      "text/plain": [
       "(98, 100)"
      ]
     },
     "execution_count": 7,
     "metadata": {},
     "output_type": "execute_result"
    }
   ],
   "source": [
    "D.D.shape"
   ]
  },
  {
   "attachments": {},
   "cell_type": "markdown",
   "metadata": {},
   "source": [
    "### Large computations of Difference Matrix\n"
   ]
  },
  {
   "cell_type": "code",
   "execution_count": 8,
   "metadata": {},
   "outputs": [],
   "source": [
    "D=Difference_Matrix(1000,1)"
   ]
  },
  {
   "cell_type": "code",
   "execution_count": 9,
   "metadata": {},
   "outputs": [
    {
     "data": {
      "text/plain": [
       "array([[ 1., -3.,  3., -1.,  0.,  0.,  0.,  0.,  0.,  0.],\n",
       "       [ 0.,  1., -3.,  3., -1.,  0.,  0.,  0.,  0.,  0.],\n",
       "       [ 0.,  0.,  1., -3.,  3., -1.,  0.,  0.,  0.,  0.],\n",
       "       [ 0.,  0.,  0.,  1., -3.,  3., -1.,  0.,  0.,  0.],\n",
       "       [ 0.,  0.,  0.,  0.,  1., -3.,  3., -1.,  0.,  0.],\n",
       "       [ 0.,  0.,  0.,  0.,  0.,  1., -3.,  3., -1.,  0.],\n",
       "       [ 0.,  0.,  0.,  0.,  0.,  0.,  1., -3.,  3., -1.]])"
      ]
     },
     "execution_count": 9,
     "metadata": {},
     "output_type": "execute_result"
    }
   ],
   "source": [
    "D=Difference_Matrix(10,2)\n",
    "D.D"
   ]
  },
  {
   "attachments": {},
   "cell_type": "markdown",
   "metadata": {},
   "source": [
    "### High order difference matrix"
   ]
  },
  {
   "cell_type": "code",
   "execution_count": 10,
   "metadata": {},
   "outputs": [
    {
     "data": {
      "text/plain": [
       "array([[ 1., -4.,  6., ...,  0.,  0.,  0.],\n",
       "       [ 0.,  1., -4., ...,  0.,  0.,  0.],\n",
       "       [ 0.,  0.,  1., ...,  0.,  0.,  0.],\n",
       "       ...,\n",
       "       [ 0.,  0.,  0., ...,  1.,  0.,  0.],\n",
       "       [ 0.,  0.,  0., ..., -4.,  1.,  0.],\n",
       "       [ 0.,  0.,  0., ...,  6., -4.,  1.]])"
      ]
     },
     "execution_count": 10,
     "metadata": {},
     "output_type": "execute_result"
    }
   ],
   "source": [
    "D=Difference_Matrix(100,3)\n",
    "D.D"
   ]
  },
  {
   "attachments": {},
   "cell_type": "markdown",
   "metadata": {},
   "source": [
    "### Confirm Difference Matrix Recursion works"
   ]
  },
  {
   "cell_type": "code",
   "execution_count": 11,
   "metadata": {},
   "outputs": [
    {
     "data": {
      "text/plain": [
       "array([[  1., -22., 231., ...,   0.,   0.,   0.],\n",
       "       [  0.,   1., -22., ...,   0.,   0.,   0.],\n",
       "       [  0.,   0.,   1., ...,   0.,   0.,   0.],\n",
       "       ...,\n",
       "       [  0.,   0.,   0., ...,   1.,   0.,   0.],\n",
       "       [  0.,   0.,   0., ..., -22.,   1.,   0.],\n",
       "       [  0.,   0.,   0., ..., 231., -22.,   1.]])"
      ]
     },
     "execution_count": 11,
     "metadata": {},
     "output_type": "execute_result"
    }
   ],
   "source": [
    "D=Difference_Matrix(2500,1)\n",
    "d_21=D.compute_k_difference(21)\n",
    "d_21"
   ]
  },
  {
   "cell_type": "code",
   "execution_count": 12,
   "metadata": {},
   "outputs": [
    {
     "name": "stdout",
     "output_type": "stream",
     "text": [
      " WARNING Condition number is large: 8.874296950555368e+17\n"
     ]
    }
   ],
   "source": [
    "D=Difference_Matrix(2500,21)\n"
   ]
  },
  {
   "cell_type": "code",
   "execution_count": 13,
   "metadata": {},
   "outputs": [],
   "source": [
    "assert (np.allclose(d_21,D.D))"
   ]
  },
  {
   "attachments": {},
   "cell_type": "markdown",
   "metadata": {},
   "source": [
    "### Time Difference Matrix Computation"
   ]
  },
  {
   "cell_type": "code",
   "execution_count": 14,
   "metadata": {},
   "outputs": [],
   "source": [
    "D=Difference_Matrix(100,1)\n",
    "\n",
    "T=Difference_Matrix(100,k=1,t=np.linspace(0,1,100))"
   ]
  },
  {
   "cell_type": "code",
   "execution_count": 15,
   "metadata": {},
   "outputs": [],
   "source": [
    "D=Difference_Matrix(100,2)\n",
    "\n"
   ]
  },
  {
   "cell_type": "code",
   "execution_count": 16,
   "metadata": {},
   "outputs": [],
   "source": [
    "D=Difference_Matrix(100,1)\n",
    "\n",
    "T=Difference_Matrix(100,k=1,t=np.linspace(0,1,100))"
   ]
  },
  {
   "cell_type": "code",
   "execution_count": 17,
   "metadata": {},
   "outputs": [
    {
     "data": {
      "text/plain": [
       "array([[ 6., -4.,  1., ...,  0.,  0.,  0.],\n",
       "       [-4.,  6., -4., ...,  0.,  0.,  0.],\n",
       "       [ 1., -4.,  6., ...,  0.,  0.,  0.],\n",
       "       ...,\n",
       "       [ 0.,  0.,  0., ...,  6., -4.,  1.],\n",
       "       [ 0.,  0.,  0., ..., -4.,  6., -4.],\n",
       "       [ 0.,  0.,  0., ...,  1., -4.,  6.]])"
      ]
     },
     "execution_count": 17,
     "metadata": {},
     "output_type": "execute_result"
    }
   ],
   "source": [
    "D.DDT"
   ]
  },
  {
   "attachments": {},
   "cell_type": "markdown",
   "metadata": {},
   "source": [
    "### Edge Cases"
   ]
  },
  {
   "cell_type": "code",
   "execution_count": 16,
   "metadata": {},
   "outputs": [
    {
     "name": "stdout",
     "output_type": "stream",
     "text": [
      "Condition number of D is 63.65674116287194\n"
     ]
    }
   ],
   "source": [
    "D=Difference_Matrix(100,0)\n",
    "\n"
   ]
  },
  {
   "cell_type": "code",
   "execution_count": 17,
   "metadata": {},
   "outputs": [
    {
     "name": "stdout",
     "output_type": "stream",
     "text": [
      "Condition number of D is 63.65674116287194\n",
      "Condition number of D is 63.65674116287194\n"
     ]
    }
   ],
   "source": [
    "T=Difference_Matrix(100,k=0,t=np.linspace(0,1,100))"
   ]
  },
  {
   "cell_type": "code",
   "execution_count": 18,
   "metadata": {},
   "outputs": [
    {
     "name": "stdout",
     "output_type": "stream",
     "text": [
      "Condition number of D is 63.65674116287194\n"
     ]
    },
    {
     "data": {
      "text/plain": [
       "array([[-1.,  1.,  0., ...,  0.,  0.,  0.],\n",
       "       [ 0., -1.,  1., ...,  0.,  0.,  0.],\n",
       "       [ 0.,  0., -1., ...,  0.,  0.,  0.],\n",
       "       ...,\n",
       "       [ 0.,  0.,  0., ...,  1.,  0.,  0.],\n",
       "       [ 0.,  0.,  0., ..., -1.,  1.,  0.],\n",
       "       [ 0.,  0.,  0., ...,  0., -1.,  1.]])"
      ]
     },
     "execution_count": 18,
     "metadata": {},
     "output_type": "execute_result"
    }
   ],
   "source": [
    "D=Difference_Matrix(100,0)\n",
    "D.D"
   ]
  },
  {
   "cell_type": "code",
   "execution_count": 19,
   "metadata": {},
   "outputs": [
    {
     "name": "stdout",
     "output_type": "stream",
     "text": [
      "Condition number of D is 63.02006849910265\n"
     ]
    },
    {
     "data": {
      "text/plain": [
       "array([[-1.,  1.,  0., ...,  0.,  0.,  0.],\n",
       "       [ 0., -1.,  1., ...,  0.,  0.,  0.],\n",
       "       [ 0.,  0., -1., ...,  0.,  0.,  0.],\n",
       "       ...,\n",
       "       [ 0.,  0.,  0., ...,  1.,  0.,  0.],\n",
       "       [ 0.,  0.,  0., ..., -1.,  1.,  0.],\n",
       "       [ 0.,  0.,  0., ...,  0., -1.,  1.]])"
      ]
     },
     "execution_count": 19,
     "metadata": {},
     "output_type": "execute_result"
    }
   ],
   "source": [
    "truncated_D=Difference_Matrix(99,0)\n",
    "truncated_D.D\n"
   ]
  },
  {
   "cell_type": "code",
   "execution_count": 20,
   "metadata": {},
   "outputs": [
    {
     "data": {
      "text/plain": [
       "array([[ 1., -2.,  1., ...,  0.,  0.,  0.],\n",
       "       [ 0.,  1., -2., ...,  0.,  0.,  0.],\n",
       "       [ 0.,  0.,  1., ...,  0.,  0.,  0.],\n",
       "       ...,\n",
       "       [ 0.,  0.,  0., ...,  1.,  0.,  0.],\n",
       "       [ 0.,  0.,  0., ..., -2.,  1.,  0.],\n",
       "       [ 0.,  0.,  0., ...,  1., -2.,  1.]])"
      ]
     },
     "execution_count": 20,
     "metadata": {},
     "output_type": "execute_result"
    }
   ],
   "source": [
    "truncated_D.D.dot(D.D)"
   ]
  },
  {
   "cell_type": "code",
   "execution_count": null,
   "metadata": {},
   "outputs": [],
   "source": []
  },
  {
   "cell_type": "code",
   "execution_count": null,
   "metadata": {},
   "outputs": [],
   "source": []
  }
 ],
 "metadata": {
  "kernelspec": {
   "display_name": "ase",
   "language": "python",
   "name": "python3"
  },
  "language_info": {
   "codemirror_mode": {
    "name": "ipython",
    "version": 3
   },
   "file_extension": ".py",
   "mimetype": "text/x-python",
   "name": "python",
   "nbconvert_exporter": "python",
   "pygments_lexer": "ipython3",
   "version": "3.10.8"
  },
  "orig_nbformat": 4,
  "vscode": {
   "interpreter": {
    "hash": "f880ac9d36dd8462f8cf8081c09c888c51fa7a43daa2149ff4d41fe709a61fa7"
   }
  }
 },
 "nbformat": 4,
 "nbformat_minor": 2
}
