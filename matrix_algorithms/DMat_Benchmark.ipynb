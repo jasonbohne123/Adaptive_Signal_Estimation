{
 "cells": [
  {
   "cell_type": "code",
   "execution_count": 1,
   "id": "75ba37fa-e15a-4f90-9157-c4bce929ddc6",
   "metadata": {},
   "outputs": [],
   "source": [
    "import numpy as np\n",
    "from scipy.sparse import dia_matrix, csc_matrix\n",
    "import time\n",
    "import matplotlib.pyplot as plt"
   ]
  },
  {
   "cell_type": "code",
   "execution_count": 2,
   "id": "d5ea7d59-1f5c-400f-a764-faf867c6abc7",
   "metadata": {},
   "outputs": [],
   "source": [
    "def new_Dmat(n,k):\n",
    "    \"\"\"\n",
    "        Optimized difference matrix computation using scipy sparse matrices \n",
    "        \n",
    "        Parameters\n",
    "        ----------\n",
    "        n : int\n",
    "        k: int\n",
    "        \n",
    "        Returns\n",
    "        -------\n",
    "        D : Array\n",
    "    \"\"\"\n",
    "    tic=time.time()\n",
    "    def pascals(k):\n",
    "        pas=[0,1,0]\n",
    "        counter=k\n",
    "        while counter>0:\n",
    "            pas.insert(0,0)\n",
    "            pas=[np.sum(pas[i:i+2]) for i in range (0,len(pas))]\n",
    "            counter-=1    \n",
    "        return pas\n",
    "            \n",
    "            \n",
    "    coeff=pascals(k)\n",
    "    coeff=[i for i in coeff if i!=0]\n",
    "    coeff=[coeff[i] if i%2==0 else -coeff[i] for i in range(0,len(coeff))]\n",
    "    \n",
    "    if k == 0:\n",
    "        D=dia_matrix((np.ones(n),0),shape=(n-2,n))\n",
    "    elif k == 1:\n",
    "        D=dia_matrix((np.vstack([i*np.ones(n) for i in coeff]),range(0,k+1)),shape=(n-2,n))\n",
    "    else:\n",
    "        D=dia_matrix((np.vstack([i*np.ones(n) for i in coeff]),range(0,k+1)),shape=(n-2,n))\n",
    "    toc=time.time()\n",
    "    return D,(toc-tic)"
   ]
  },
  {
   "cell_type": "code",
   "execution_count": 3,
   "id": "749a0742-5377-4b9b-90f8-a4e50ac143af",
   "metadata": {},
   "outputs": [],
   "source": [
    "def Dmat(n,k):\n",
    "    \"\"\"\n",
    "        function reform a matrix for assets with order\n",
    "        \n",
    "        Parameters\n",
    "        ----------\n",
    "        n : int\n",
    "        k: int\n",
    "        \n",
    "        Returns\n",
    "        -------\n",
    "        D : Array\n",
    "    \"\"\"\n",
    "    if k == 0:\n",
    "        D = np.eye(n)\n",
    "    elif k == 1:\n",
    "        D = np.eye(n-1,n)\n",
    "        for i in range(n-1):\n",
    "            D[i, i+1] = -1\n",
    "    else:\n",
    "        D = Dmat(n,1)\n",
    "        for i in range(k-1):\n",
    "            Dn = Dmat(n-i-1, 1)\n",
    "            D = np.dot(Dn, D)\n",
    "    return D"
   ]
  },
  {
   "cell_type": "code",
   "execution_count": null,
   "id": "10663596-3fcb-46f1-8d93-2a7c245d2c06",
   "metadata": {},
   "outputs": [],
   "source": []
  },
  {
   "cell_type": "markdown",
   "id": "acf0696b-11a6-4a74-a5a6-d484c3ce000b",
   "metadata": {},
   "source": [
    "### Comparisons"
   ]
  },
  {
   "cell_type": "code",
   "execution_count": 8,
   "id": "e2395d1e-1b19-478e-9d71-67931ceffaab",
   "metadata": {},
   "outputs": [
    {
     "data": {
      "text/plain": [
       "array([[ 1., -4.,  6., -4.,  1.,  0.,  0.,  0.,  0.,  0.],\n",
       "       [ 0.,  1., -4.,  6., -4.,  1.,  0.,  0.,  0.,  0.],\n",
       "       [ 0.,  0.,  1., -4.,  6., -4.,  1.,  0.,  0.,  0.],\n",
       "       [ 0.,  0.,  0.,  1., -4.,  6., -4.,  1.,  0.,  0.],\n",
       "       [ 0.,  0.,  0.,  0.,  1., -4.,  6., -4.,  1.,  0.],\n",
       "       [ 0.,  0.,  0.,  0.,  0.,  1., -4.,  6., -4.,  1.]])"
      ]
     },
     "execution_count": 8,
     "metadata": {},
     "output_type": "execute_result"
    }
   ],
   "source": [
    "Dmat(10,4)\n"
   ]
  },
  {
   "cell_type": "code",
   "execution_count": 9,
   "id": "8eaa5195-d7ba-4d63-85a3-fa0c6342fb8d",
   "metadata": {},
   "outputs": [
    {
     "data": {
      "text/plain": [
       "array([[ 1., -4.,  6., -4.,  1.,  0.,  0.,  0.,  0.,  0.],\n",
       "       [ 0.,  1., -4.,  6., -4.,  1.,  0.,  0.,  0.,  0.],\n",
       "       [ 0.,  0.,  1., -4.,  6., -4.,  1.,  0.,  0.,  0.],\n",
       "       [ 0.,  0.,  0.,  1., -4.,  6., -4.,  1.,  0.,  0.],\n",
       "       [ 0.,  0.,  0.,  0.,  1., -4.,  6., -4.,  1.,  0.],\n",
       "       [ 0.,  0.,  0.,  0.,  0.,  1., -4.,  6., -4.,  1.],\n",
       "       [ 0.,  0.,  0.,  0.,  0.,  0.,  1., -4.,  6., -4.],\n",
       "       [ 0.,  0.,  0.,  0.,  0.,  0.,  0.,  1., -4.,  6.]])"
      ]
     },
     "execution_count": 9,
     "metadata": {},
     "output_type": "execute_result"
    }
   ],
   "source": [
    "new=new_Dmat(10,4)[0].toarray()\n",
    "new"
   ]
  },
  {
   "cell_type": "markdown",
   "id": "696a3ccc-ebab-4120-9b0b-add86377c45a",
   "metadata": {},
   "source": [
    "### Performance Tests"
   ]
  },
  {
   "cell_type": "code",
   "execution_count": 79,
   "id": "50c4567b-0b2b-49d5-9fa9-39944b6e6cc8",
   "metadata": {},
   "outputs": [],
   "source": [
    "dim=[10,100,500,1000,2500]\n",
    "\n",
    "results={}\n",
    "results[0]=[]\n",
    "results[1]=[]\n",
    "for i in dim:\n",
    "    new_D,new_time=new_Dmat(i,2)\n",
    "    \n",
    "    tic=time.time()\n",
    "    old_D=Dmat(i,2)\n",
    "    toc=time.time()\n",
    "    old_time=toc-tic\n",
    "    \n",
    "\n",
    "    if not results[0]: \n",
    "        results[0]=[old_time]\n",
    "    else:\n",
    "        results[0].append(old_time)\n",
    "    if not results[1]: \n",
    "        results[1]=[new_time]\n",
    "    else:\n",
    "        results[1].append(new_time)\n",
    "\n",
    "    "
   ]
  },
  {
   "cell_type": "code",
   "execution_count": 80,
   "id": "1ac11d18-6b15-4612-bb8b-961f6ee55bad",
   "metadata": {},
   "outputs": [
    {
     "data": {
      "text/plain": [
       "<matplotlib.legend.Legend at 0x7f83677469d0>"
      ]
     },
     "execution_count": 80,
     "metadata": {},
     "output_type": "execute_result"
    },
    {
     "data": {
      "image/png": "[encoded data removed]",
      "text/plain": [
       "<Figure size 640x480 with 1 Axes>"
      ]
     },
     "metadata": {},
     "output_type": "display_data"
    }
   ],
   "source": [
    "plt.title(\"K=2\")\n",
    "plt.plot(dim,results[0],label='Old')\n",
    "plt.plot(dim,results[1],label='New')\n",
    "plt.legend()\n",
    "\n"
   ]
  },
  {
   "cell_type": "code",
   "execution_count": 81,
   "id": "c59de7c1-b846-457b-b04c-16c875d59d0a",
   "metadata": {},
   "outputs": [],
   "source": [
    "dim=[10,100,500,1000,2500]\n",
    "\n",
    "results={}\n",
    "results[0]=[]\n",
    "results[1]=[]\n",
    "for i in dim:\n",
    "    new_D,new_time=new_Dmat(i,3)\n",
    "    \n",
    "    tic=time.time()\n",
    "    old_D=Dmat(i,3)\n",
    "    toc=time.time()\n",
    "    old_time=toc-tic\n",
    "    \n",
    "\n",
    "    if not results[0]: \n",
    "        results[0]=[old_time]\n",
    "    else:\n",
    "        results[0].append(old_time)\n",
    "    if not results[1]: \n",
    "        results[1]=[new_time]\n",
    "    else:\n",
    "        results[1].append(new_time)\n"
   ]
  },
  {
   "cell_type": "code",
   "execution_count": 82,
   "id": "3173af0f-a694-4b91-82d5-1abc38aebcf3",
   "metadata": {},
   "outputs": [
    {
     "data": {
      "text/plain": [
       "<matplotlib.legend.Legend at 0x7f835f403e80>"
      ]
     },
     "execution_count": 82,
     "metadata": {},
     "output_type": "execute_result"
    },
    {
     "data": {
      "image/png": "[encoded data removed]",
      "text/plain": [
       "<Figure size 640x480 with 1 Axes>"
      ]
     },
     "metadata": {},
     "output_type": "display_data"
    }
   ],
   "source": [
    "plt.title(\"K=3\")\n",
    "plt.plot(dim,results[0],label='Old')\n",
    "plt.plot(dim,results[1],label='New')\n",
    "plt.legend()"
   ]
  },
  {
   "cell_type": "code",
   "execution_count": 83,
   "id": "9c86e76d-cde9-474c-9f54-fbb23a254a02",
   "metadata": {},
   "outputs": [
    {
     "data": {
      "text/plain": [
       "{0: [0.0016438961029052734,\n",
       "  0.02194070816040039,\n",
       "  0.025998353958129883,\n",
       "  0.06081080436706543,\n",
       "  0.5329716205596924],\n",
       " 1: [0.0007753372192382812,\n",
       "  0.0010728836059570312,\n",
       "  0.00039577484130859375,\n",
       "  0.000492095947265625,\n",
       "  0.00042319297790527344]}"
      ]
     },
     "execution_count": 83,
     "metadata": {},
     "output_type": "execute_result"
    }
   ],
   "source": [
    "results"
   ]
  },
  {
   "cell_type": "code",
   "execution_count": null,
   "id": "d7143a6e-7ee3-4d16-b4cb-769dba06aff5",
   "metadata": {},
   "outputs": [],
   "source": []
  }
 ],
 "metadata": {
  "kernelspec": {
   "display_name": "research",
   "language": "python",
   "name": "python3"
  },
  "language_info": {
   "codemirror_mode": {
    "name": "ipython",
    "version": 3
   },
   "file_extension": ".py",
   "mimetype": "text/x-python",
   "name": "python",
   "nbconvert_exporter": "python",
   "pygments_lexer": "ipython3",
   "version": "3.10.8"
  },
  "vscode": {
   "interpreter": {
    "hash": "26f42ea4bce81807e1b23992547f371b1e33d381b9f340aba543485328461627"
   }
  }
 },
 "nbformat": 4,
 "nbformat_minor": 5
}
