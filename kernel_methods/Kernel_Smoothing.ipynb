{
 "cells": [
  {
   "cell_type": "markdown",
   "metadata": {},
   "source": [
    "### Nonparametric Kernel Smoothing on Penalty"
   ]
  },
  {
   "cell_type": "code",
   "execution_count": 1,
   "metadata": {},
   "outputs": [],
   "source": [
    "import pandas as pd \n",
    "import numpy as np\n",
    "from scipy.sparse import dia_matrix, csc_matrix\n",
    "from scipy.sparse.linalg import inv\n",
    "import matplotlib.pyplot as plt\n",
    "from datetime import datetime\n",
    "from matplotlib.dates import DateFormatter\n",
    "import sys\n",
    "from scipy.interpolate import interp1d\n",
    "from scipy.stats import iqr\n",
    "import ruptures as rpt\n",
    "from sklearn.model_selection import train_test_split\n",
    "import time\n",
    "\n",
    "from itertools import chain\n",
    "\n",
    "\n",
    "path='/home/jbohn/jupyter/personal/'\n",
    "sys.path.append(f'{path}TAQ-Query-Scripts/data')\n",
    "sys.path.append(f'{path}Adaptive_Signal_Estimation_Private/')\n",
    "from trend_filtering.adaptive_tf_ir import adaptive_tf, Dmat\n",
    "from kernel_smoother import KernelSmoother"
   ]
  },
  {
   "cell_type": "markdown",
   "metadata": {},
   "source": [
    "### TAQ Data AAPL\n",
    "\n",
    "Snippet of AAPL trades on NYSE for 1 hour"
   ]
  },
  {
   "cell_type": "code",
   "execution_count": 2,
   "metadata": {},
   "outputs": [
    {
     "data": {
      "text/html": [
       "<div>\n",
       "<style scoped>\n",
       "    .dataframe tbody tr th:only-of-type {\n",
       "        vertical-align: middle;\n",
       "    }\n",
       "\n",
       "    .dataframe tbody tr th {\n",
       "        vertical-align: top;\n",
       "    }\n",
       "\n",
       "    .dataframe thead th {\n",
       "        text-align: right;\n",
       "    }\n",
       "</style>\n",
       "<table border=\"1\" class=\"dataframe\">\n",
       "  <thead>\n",
       "    <tr style=\"text-align: right;\">\n",
       "      <th></th>\n",
       "      <th>SIP_Timestamp</th>\n",
       "      <th>Exchange</th>\n",
       "      <th>Symbol</th>\n",
       "      <th>Trade_Volume</th>\n",
       "      <th>Trade_Price</th>\n",
       "      <th>Sale_Condition</th>\n",
       "      <th>Source_of_Trade</th>\n",
       "      <th>Trade_Correction_Indicator</th>\n",
       "      <th>Sequence_Number</th>\n",
       "      <th>Trade_Id</th>\n",
       "      <th>Trade_Reporting_Facility</th>\n",
       "      <th>Trade_Through_Exempt_Indicator</th>\n",
       "      <th>date</th>\n",
       "    </tr>\n",
       "  </thead>\n",
       "  <tbody>\n",
       "    <tr>\n",
       "      <th>2020-01-02 15:59:00.001618</th>\n",
       "      <td>2020-01-02 15:59:00.001638</td>\n",
       "      <td>Q</td>\n",
       "      <td>AAPL</td>\n",
       "      <td>100</td>\n",
       "      <td>5.705115</td>\n",
       "      <td>@F</td>\n",
       "      <td>N</td>\n",
       "      <td>0</td>\n",
       "      <td>3048096</td>\n",
       "      <td>66973</td>\n",
       "      <td></td>\n",
       "      <td>1</td>\n",
       "      <td>2020-01-02</td>\n",
       "    </tr>\n",
       "    <tr>\n",
       "      <th>2020-01-02 15:59:00.005779</th>\n",
       "      <td>2020-01-02 15:59:00.005800</td>\n",
       "      <td>Q</td>\n",
       "      <td>AAPL</td>\n",
       "      <td>200</td>\n",
       "      <td>5.705115</td>\n",
       "      <td>@</td>\n",
       "      <td>N</td>\n",
       "      <td>0</td>\n",
       "      <td>3048100</td>\n",
       "      <td>66974</td>\n",
       "      <td></td>\n",
       "      <td>0</td>\n",
       "      <td>2020-01-02</td>\n",
       "    </tr>\n",
       "    <tr>\n",
       "      <th>2020-01-02 15:59:00.013466</th>\n",
       "      <td>2020-01-02 15:59:00.013843</td>\n",
       "      <td>P</td>\n",
       "      <td>AAPL</td>\n",
       "      <td>100</td>\n",
       "      <td>5.705115</td>\n",
       "      <td>@F</td>\n",
       "      <td>N</td>\n",
       "      <td>0</td>\n",
       "      <td>3048117</td>\n",
       "      <td>27428</td>\n",
       "      <td></td>\n",
       "      <td>1</td>\n",
       "      <td>2020-01-02</td>\n",
       "    </tr>\n",
       "    <tr>\n",
       "      <th>2020-01-02 15:59:00.017512</th>\n",
       "      <td>2020-01-02 15:59:00.017737</td>\n",
       "      <td>K</td>\n",
       "      <td>AAPL</td>\n",
       "      <td>99</td>\n",
       "      <td>5.705115</td>\n",
       "      <td>@  I</td>\n",
       "      <td>N</td>\n",
       "      <td>0</td>\n",
       "      <td>3048127</td>\n",
       "      <td>18316</td>\n",
       "      <td></td>\n",
       "      <td>0</td>\n",
       "      <td>2020-01-02</td>\n",
       "    </tr>\n",
       "    <tr>\n",
       "      <th>2020-01-02 15:59:00.017641</th>\n",
       "      <td>2020-01-02 15:59:00.018016</td>\n",
       "      <td>P</td>\n",
       "      <td>AAPL</td>\n",
       "      <td>1</td>\n",
       "      <td>5.705115</td>\n",
       "      <td>@  I</td>\n",
       "      <td>N</td>\n",
       "      <td>0</td>\n",
       "      <td>3048130</td>\n",
       "      <td>27429</td>\n",
       "      <td></td>\n",
       "      <td>0</td>\n",
       "      <td>2020-01-02</td>\n",
       "    </tr>\n",
       "    <tr>\n",
       "      <th>...</th>\n",
       "      <td>...</td>\n",
       "      <td>...</td>\n",
       "      <td>...</td>\n",
       "      <td>...</td>\n",
       "      <td>...</td>\n",
       "      <td>...</td>\n",
       "      <td>...</td>\n",
       "      <td>...</td>\n",
       "      <td>...</td>\n",
       "      <td>...</td>\n",
       "      <td>...</td>\n",
       "      <td>...</td>\n",
       "      <td>...</td>\n",
       "    </tr>\n",
       "    <tr>\n",
       "      <th>2020-01-02 15:59:29.865972</th>\n",
       "      <td>2020-01-02 15:59:29.866183</td>\n",
       "      <td>K</td>\n",
       "      <td>AAPL</td>\n",
       "      <td>100</td>\n",
       "      <td>5.705181</td>\n",
       "      <td>@F</td>\n",
       "      <td>N</td>\n",
       "      <td>0</td>\n",
       "      <td>3073605</td>\n",
       "      <td>18411</td>\n",
       "      <td></td>\n",
       "      <td>1</td>\n",
       "      <td>2020-01-02</td>\n",
       "    </tr>\n",
       "    <tr>\n",
       "      <th>2020-01-02 15:59:29.866298</th>\n",
       "      <td>2020-01-02 15:59:29.866316</td>\n",
       "      <td>Q</td>\n",
       "      <td>AAPL</td>\n",
       "      <td>200</td>\n",
       "      <td>5.705215</td>\n",
       "      <td>@F</td>\n",
       "      <td>N</td>\n",
       "      <td>0</td>\n",
       "      <td>3073606</td>\n",
       "      <td>67525</td>\n",
       "      <td></td>\n",
       "      <td>1</td>\n",
       "      <td>2020-01-02</td>\n",
       "    </tr>\n",
       "    <tr>\n",
       "      <th>2020-01-02 15:59:29.866298</th>\n",
       "      <td>2020-01-02 15:59:29.866320</td>\n",
       "      <td>Q</td>\n",
       "      <td>AAPL</td>\n",
       "      <td>99</td>\n",
       "      <td>5.705215</td>\n",
       "      <td>@F I</td>\n",
       "      <td>N</td>\n",
       "      <td>0</td>\n",
       "      <td>3073607</td>\n",
       "      <td>67526</td>\n",
       "      <td></td>\n",
       "      <td>1</td>\n",
       "      <td>2020-01-02</td>\n",
       "    </tr>\n",
       "    <tr>\n",
       "      <th>2020-01-02 15:59:29.896744</th>\n",
       "      <td>2020-01-02 15:59:29.896763</td>\n",
       "      <td>Q</td>\n",
       "      <td>AAPL</td>\n",
       "      <td>35</td>\n",
       "      <td>5.705148</td>\n",
       "      <td>@F I</td>\n",
       "      <td>N</td>\n",
       "      <td>0</td>\n",
       "      <td>3073623</td>\n",
       "      <td>67527</td>\n",
       "      <td></td>\n",
       "      <td>1</td>\n",
       "      <td>2020-01-02</td>\n",
       "    </tr>\n",
       "    <tr>\n",
       "      <th>2020-01-02 15:59:29.939411</th>\n",
       "      <td>2020-01-02 15:59:29.939429</td>\n",
       "      <td>Q</td>\n",
       "      <td>AAPL</td>\n",
       "      <td>7</td>\n",
       "      <td>5.705181</td>\n",
       "      <td>@  I</td>\n",
       "      <td>N</td>\n",
       "      <td>0</td>\n",
       "      <td>3073672</td>\n",
       "      <td>67528</td>\n",
       "      <td></td>\n",
       "      <td>0</td>\n",
       "      <td>2020-01-02</td>\n",
       "    </tr>\n",
       "  </tbody>\n",
       "</table>\n",
       "<p>1076 rows × 13 columns</p>\n",
       "</div>"
      ],
      "text/plain": [
       "                                         SIP_Timestamp Exchange Symbol  \\\n",
       "2020-01-02 15:59:00.001618  2020-01-02 15:59:00.001638        Q   AAPL   \n",
       "2020-01-02 15:59:00.005779  2020-01-02 15:59:00.005800        Q   AAPL   \n",
       "2020-01-02 15:59:00.013466  2020-01-02 15:59:00.013843        P   AAPL   \n",
       "2020-01-02 15:59:00.017512  2020-01-02 15:59:00.017737        K   AAPL   \n",
       "2020-01-02 15:59:00.017641  2020-01-02 15:59:00.018016        P   AAPL   \n",
       "...                                                ...      ...    ...   \n",
       "2020-01-02 15:59:29.865972  2020-01-02 15:59:29.866183        K   AAPL   \n",
       "2020-01-02 15:59:29.866298  2020-01-02 15:59:29.866316        Q   AAPL   \n",
       "2020-01-02 15:59:29.866298  2020-01-02 15:59:29.866320        Q   AAPL   \n",
       "2020-01-02 15:59:29.896744  2020-01-02 15:59:29.896763        Q   AAPL   \n",
       "2020-01-02 15:59:29.939411  2020-01-02 15:59:29.939429        Q   AAPL   \n",
       "\n",
       "                            Trade_Volume  Trade_Price Sale_Condition  \\\n",
       "2020-01-02 15:59:00.001618           100     5.705115           @F     \n",
       "2020-01-02 15:59:00.005779           200     5.705115           @      \n",
       "2020-01-02 15:59:00.013466           100     5.705115           @F     \n",
       "2020-01-02 15:59:00.017512            99     5.705115           @  I   \n",
       "2020-01-02 15:59:00.017641             1     5.705115           @  I   \n",
       "...                                  ...          ...            ...   \n",
       "2020-01-02 15:59:29.865972           100     5.705181           @F     \n",
       "2020-01-02 15:59:29.866298           200     5.705215           @F     \n",
       "2020-01-02 15:59:29.866298            99     5.705215           @F I   \n",
       "2020-01-02 15:59:29.896744            35     5.705148           @F I   \n",
       "2020-01-02 15:59:29.939411             7     5.705181           @  I   \n",
       "\n",
       "                           Source_of_Trade  Trade_Correction_Indicator  \\\n",
       "2020-01-02 15:59:00.001618               N                           0   \n",
       "2020-01-02 15:59:00.005779               N                           0   \n",
       "2020-01-02 15:59:00.013466               N                           0   \n",
       "2020-01-02 15:59:00.017512               N                           0   \n",
       "2020-01-02 15:59:00.017641               N                           0   \n",
       "...                                    ...                         ...   \n",
       "2020-01-02 15:59:29.865972               N                           0   \n",
       "2020-01-02 15:59:29.866298               N                           0   \n",
       "2020-01-02 15:59:29.866298               N                           0   \n",
       "2020-01-02 15:59:29.896744               N                           0   \n",
       "2020-01-02 15:59:29.939411               N                           0   \n",
       "\n",
       "                            Sequence_Number  Trade_Id  \\\n",
       "2020-01-02 15:59:00.001618          3048096     66973   \n",
       "2020-01-02 15:59:00.005779          3048100     66974   \n",
       "2020-01-02 15:59:00.013466          3048117     27428   \n",
       "2020-01-02 15:59:00.017512          3048127     18316   \n",
       "2020-01-02 15:59:00.017641          3048130     27429   \n",
       "...                                     ...       ...   \n",
       "2020-01-02 15:59:29.865972          3073605     18411   \n",
       "2020-01-02 15:59:29.866298          3073606     67525   \n",
       "2020-01-02 15:59:29.866298          3073607     67526   \n",
       "2020-01-02 15:59:29.896744          3073623     67527   \n",
       "2020-01-02 15:59:29.939411          3073672     67528   \n",
       "\n",
       "                           Trade_Reporting_Facility  \\\n",
       "2020-01-02 15:59:00.001618                            \n",
       "2020-01-02 15:59:00.005779                            \n",
       "2020-01-02 15:59:00.013466                            \n",
       "2020-01-02 15:59:00.017512                            \n",
       "2020-01-02 15:59:00.017641                            \n",
       "...                                             ...   \n",
       "2020-01-02 15:59:29.865972                            \n",
       "2020-01-02 15:59:29.866298                            \n",
       "2020-01-02 15:59:29.866298                            \n",
       "2020-01-02 15:59:29.896744                            \n",
       "2020-01-02 15:59:29.939411                            \n",
       "\n",
       "                            Trade_Through_Exempt_Indicator         date  \n",
       "2020-01-02 15:59:00.001618                               1  2020-01-02   \n",
       "2020-01-02 15:59:00.005779                               0  2020-01-02   \n",
       "2020-01-02 15:59:00.013466                               1  2020-01-02   \n",
       "2020-01-02 15:59:00.017512                               0  2020-01-02   \n",
       "2020-01-02 15:59:00.017641                               0  2020-01-02   \n",
       "...                                                    ...          ...  \n",
       "2020-01-02 15:59:29.865972                               1  2020-01-02   \n",
       "2020-01-02 15:59:29.866298                               1  2020-01-02   \n",
       "2020-01-02 15:59:29.866298                               1  2020-01-02   \n",
       "2020-01-02 15:59:29.896744                               1  2020-01-02   \n",
       "2020-01-02 15:59:29.939411                               0  2020-01-02   \n",
       "\n",
       "[1076 rows x 13 columns]"
      ]
     },
     "execution_count": 2,
     "metadata": {},
     "output_type": "execute_result"
    }
   ],
   "source": [
    "trades=pd.read_csv(f'{path}TAQ-Query-Scripts/data/cleaned_trades.csv',index_col=0)\n",
    "trades=trades[trades.index < \"2020-01-02 15:59:30\"]\n",
    "trades=trades[trades.index> \"2020-01-02 15:59:00\"]\n",
    "trades['Trade_Price']=np.log(trades['Trade_Price'])\n",
    "trades.index=pd.to_datetime(trades.index)\n",
    "trades"
   ]
  },
  {
   "cell_type": "code",
   "execution_count": 3,
   "metadata": {},
   "outputs": [
    {
     "data": {
      "text/plain": [
       "Text(0.5, 1.0, 'APPL Trade Price 01/15/2020')"
      ]
     },
     "execution_count": 3,
     "metadata": {},
     "output_type": "execute_result"
    },
    {
     "data": {
      "image/png": "[encoded data removed]",
      "text/plain": [
       "<Figure size 432x288 with 1 Axes>"
      ]
     },
     "metadata": {
      "needs_background": "light"
     },
     "output_type": "display_data"
    }
   ],
   "source": [
    "fig,ax=plt.subplots()\n",
    "ax.plot(trades['Trade_Price'],label='Trade Price')\n",
    "ax.legend()\n",
    "ax.xaxis.set_major_formatter(DateFormatter('%S'))\n",
    "ax.set_title(\"APPL Trade Price 01/15/2020\")"
   ]
  },
  {
   "cell_type": "code",
   "execution_count": 4,
   "metadata": {},
   "outputs": [],
   "source": [
    "vol=trades['Trade_Volume']"
   ]
  },
  {
   "cell_type": "code",
   "execution_count": 5,
   "metadata": {},
   "outputs": [
    {
     "data": {
      "text/plain": [
       "<matplotlib.legend.Legend at 0x7fe56970fee0>"
      ]
     },
     "execution_count": 5,
     "metadata": {},
     "output_type": "execute_result"
    },
    {
     "data": {
      "image/png": "[encoded data removed]",
      "text/plain": [
       "<Figure size 432x288 with 1 Axes>"
      ]
     },
     "metadata": {
      "needs_background": "light"
     },
     "output_type": "display_data"
    }
   ],
   "source": [
    "fig,ax=plt.subplots()\n",
    "ax.set_title(\"APPL Log Trade Volume 01/02/2020\")\n",
    "ax.xaxis.set_major_formatter(DateFormatter('%S'))\n",
    "ax.plot(vol,color='red',label='Volume')\n",
    "ax.legend()"
   ]
  },
  {
   "cell_type": "markdown",
   "metadata": {},
   "source": [
    "### Compute Max Lambda \n",
    "\n",
    "As denoted in L1 Trend Filtering, smallest maximum for which $\\forall \\lambda \\geq \\lambda_{max}$ the L1 trend filtering returns the best linear affine fit\n",
    "$$\\lambda_{max}=||(DD^T)^{-1}Dy||_\\infty$$\n",
    "\n",
    "For adaptiveness; one idea to show that the max of each component corresponds to the max of that single partition is that the trivial example of the best affine fit between two points simplify to linear interpolation"
   ]
  },
  {
   "cell_type": "code",
   "execution_count": 6,
   "metadata": {},
   "outputs": [],
   "source": [
    "def max_norm(y,k=2,adaptive=False,verbose=True):\n",
    "    \"\"\" Computes smallest max norm via scipy sparse matrices for efficiency\n",
    "    \"\"\"\n",
    "    D=Dmat(len(y),k)\n",
    "    \n",
    "    D=D.tocsc()\n",
    "   \n",
    "    D_DT=inv(D@D.T)\n",
    "    \n",
    "    \n",
    "    if adaptive is False:\n",
    "        max_lam=abs(D_DT@D@y).max()\n",
    "    else:\n",
    "        max_lam=abs(D_DT@D@y)\n",
    "        \n",
    "    if verbose:\n",
    "        print(\"Condition Number is \",np.linalg.cond((D@D.T).toarray()))\n",
    "    return max_lam"
   ]
  },
  {
   "cell_type": "code",
   "execution_count": 7,
   "metadata": {},
   "outputs": [
    {
     "name": "stdout",
     "output_type": "stream",
     "text": [
      "Condition Number is  42845647317.21987\n"
     ]
    },
    {
     "data": {
      "text/plain": [
       "5.643879641426906"
      ]
     },
     "execution_count": 7,
     "metadata": {},
     "output_type": "execute_result"
    }
   ],
   "source": [
    "lambda_val=max_norm(trades['Trade_Price'].values,k=2)\n",
    "lambda_val"
   ]
  },
  {
   "cell_type": "code",
   "execution_count": 8,
   "metadata": {},
   "outputs": [
    {
     "name": "stdout",
     "output_type": "stream",
     "text": [
      "Condition Number is  42845647317.21987\n"
     ]
    },
    {
     "data": {
      "text/plain": [
       "<matplotlib.legend.Legend at 0x7fe56976d360>"
      ]
     },
     "execution_count": 8,
     "metadata": {},
     "output_type": "execute_result"
    },
    {
     "data": {
      "image/png": "[encoded data removed]",
      "text/plain": [
       "<Figure size 432x288 with 1 Axes>"
      ]
     },
     "metadata": {
      "needs_background": "light"
     },
     "output_type": "display_data"
    }
   ],
   "source": [
    "lambda_val=max_norm(trades['Trade_Price'].values,2,True)\n",
    "plt.title(\"Adaptive Penalty Bound\")\n",
    "\n",
    "plt.plot(trades['Trade_Price'].index[1:-1],lambda_val,label='Max Norm')\n",
    "plt.legend()"
   ]
  },
  {
   "cell_type": "markdown",
   "metadata": {},
   "source": [
    "### Apply Kernel Smoothing on Volume Time Series\n",
    "\n",
    "Applies Kernel Spatial Smoothing s.t. \n",
    "\n",
    "$$\\hat{Y}(x_j)=\\frac{\\sum_{t=1}^T K_\\sigma(x_i,x_j)Y(x_i)}{\\sum_{t=1}^T K_\\sigma(x_i,x_j)}$$ \n",
    "\n",
    "Where our kernel function is the Gaussian Kernel\n",
    "\n",
    "Or we can default to silvermans/scotts (however these have parametric assumptions)"
   ]
  },
  {
   "cell_type": "code",
   "execution_count": 9,
   "metadata": {},
   "outputs": [],
   "source": [
    "index=(trades['Trade_Volume'].index-trades['Trade_Volume'].index[0]).total_seconds() # reindexed time from [0, last]\n",
    "    \n",
    "prior=trades['Trade_Volume'].values\n",
    "\n",
    "kernel=KernelSmoother(prior,index,0)\n",
    "\n",
    "kernel.fit()\n"
   ]
  },
  {
   "cell_type": "code",
   "execution_count": 10,
   "metadata": {},
   "outputs": [
    {
     "data": {
      "text/plain": [
       "array([[1.80171088e-002, 1.79913538e-002, 1.79437261e-002, ...,\n",
       "        3.99660320e-110, 2.45896253e-110, 1.24463660e-110],\n",
       "       [1.80170222e-002, 1.79914403e-002, 1.79441310e-002, ...,\n",
       "        4.28204534e-110, 2.63476986e-110, 1.33375527e-110],\n",
       "       [1.80164068e-002, 1.79911452e-002, 1.79444254e-002, ...,\n",
       "        4.86394421e-110, 2.99320485e-110, 1.51547572e-110],\n",
       "       ...,\n",
       "       [5.39076312e-110, 5.76754921e-110, 6.53419747e-110, ...,\n",
       "        1.33575216e-002, 1.36150981e-002, 1.39812433e-002],\n",
       "       [3.25315300e-110, 3.48077615e-110, 3.94396880e-110, ...,\n",
       "        1.33540849e-002, 1.36186019e-002, 1.39949309e-002],\n",
       "       [1.60153871e-110, 1.71376730e-110, 1.94217477e-110, ...,\n",
       "        1.33377155e-002, 1.36117215e-002, 1.40020050e-002]])"
      ]
     },
     "execution_count": 10,
     "metadata": {},
     "output_type": "execute_result"
    }
   ],
   "source": [
    "kernel.fitted_kernel_matrix"
   ]
  },
  {
   "cell_type": "code",
   "execution_count": 11,
   "metadata": {},
   "outputs": [
    {
     "data": {
      "text/plain": [
       "array([92.11871316, 92.22808102, 92.42868102, ..., 83.82490993,\n",
       "       82.34688365, 80.26591727])"
      ]
     },
     "execution_count": 11,
     "metadata": {},
     "output_type": "execute_result"
    }
   ],
   "source": [
    "kernel.smooth_series()\n",
    "\n",
    "kernel.smooth_prior\n"
   ]
  },
  {
   "cell_type": "code",
   "execution_count": 12,
   "metadata": {},
   "outputs": [
    {
     "data": {
      "text/plain": [
       "<matplotlib.legend.Legend at 0x7fe5741dbb50>"
      ]
     },
     "execution_count": 12,
     "metadata": {},
     "output_type": "execute_result"
    },
    {
     "data": {
      "image/png": "[encoded data removed]",
      "text/plain": [
       "<Figure size 720x576 with 2 Axes>"
      ]
     },
     "metadata": {
      "needs_background": "light"
     },
     "output_type": "display_data"
    }
   ],
   "source": [
    "fig,ax=plt.subplots(figsize=(10,8))\n",
    "ax.plot(index,kernel.smooth_prior,label='Kernel Smoothed Volume',color='green')\n",
    "\n",
    "ax.set_title(\"Smoothed Volume\")\n",
    "ax2=ax.twinx()\n",
    "ax2.plot(index,vol,color='red',label='Original Volume')\n",
    "ax.legend()\n",
    "ax2.legend(loc='upper left')"
   ]
  },
  {
   "cell_type": "markdown",
   "metadata": {},
   "source": [
    "### Arbitrary Evaluation"
   ]
  },
  {
   "cell_type": "code",
   "execution_count": 13,
   "metadata": {},
   "outputs": [
    {
     "data": {
      "text/plain": [
       "88.37863605228713"
      ]
     },
     "execution_count": 13,
     "metadata": {},
     "output_type": "execute_result"
    }
   ],
   "source": [
    "kernel.evaluate_kernel(2.3)"
   ]
  },
  {
   "cell_type": "code",
   "execution_count": 14,
   "metadata": {},
   "outputs": [
    {
     "data": {
      "text/plain": [
       "176.6430230516272"
      ]
     },
     "execution_count": 14,
     "metadata": {},
     "output_type": "execute_result"
    }
   ],
   "source": [
    "kernel.evaluate_kernel(8.9)"
   ]
  }
 ],
 "metadata": {
  "kernelspec": {
   "display_name": "research",
   "language": "python",
   "name": "python3"
  },
  "language_info": {
   "codemirror_mode": {
    "name": "ipython",
    "version": 3
   },
   "file_extension": ".py",
   "mimetype": "text/x-python",
   "name": "python",
   "nbconvert_exporter": "python",
   "pygments_lexer": "ipython3",
   "version": "3.10.4"
  },
  "vscode": {
   "interpreter": {
    "hash": "8fefc22b81b58a95d090389e6427ac7414ba2434182c3be0d4e0279b8ec28ded"
   }
  }
 },
 "nbformat": 4,
 "nbformat_minor": 4
}
