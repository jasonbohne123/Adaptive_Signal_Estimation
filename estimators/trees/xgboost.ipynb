{
 "cells": [
  {
   "attachments": {},
   "cell_type": "markdown",
   "metadata": {},
   "source": [
    "### XGBoost Tutorial\n",
    "\n",
    "Overview on XGBoost; High-dimensional regression and classification tree models\n",
    "\n",
    "Reasons for implementation\n",
    "- Popular across multiple languages\n",
    "- Allows for distrubution with both Apache Spark and Pyspark\n",
    "- Support for model inference across a variety of data types (arrays, dataframes)"
   ]
  },
  {
   "cell_type": "code",
   "execution_count": 2,
   "metadata": {},
   "outputs": [],
   "source": [
    "import xgboost as xgb\n",
    "import numpy as np"
   ]
  },
  {
   "attachments": {},
   "cell_type": "markdown",
   "metadata": {},
   "source": [
    "### Splitting Data\n",
    "\n",
    "Given our set of observations, let's generate train-test splits using hold-one-out cross validation. One can use the train_test_split function in scikit learn to do this\n",
    "\n"
   ]
  },
  {
   "cell_type": "code",
   "execution_count": 3,
   "metadata": {},
   "outputs": [],
   "source": [
    "data = np.random.rand(5, 10)  # 5 entities, each contains 10 features\n",
    "label = np.random.randint(2, size=5)  # binary target\n"
   ]
  },
  {
   "attachments": {},
   "cell_type": "markdown",
   "metadata": {},
   "source": [
    "We need to create an instance of DMatrix for each train-test split. These are xgboost specific data structures; optimized for the task at hand"
   ]
  },
  {
   "cell_type": "code",
   "execution_count": 4,
   "metadata": {},
   "outputs": [
    {
     "data": {
      "text/plain": [
       "array([[0.28431508, 0.28683263, 0.20217617, 0.28254538, 0.25608215,\n",
       "        0.80456018, 0.59100851, 0.90657822, 0.34999947, 0.66811695],\n",
       "       [0.48179547, 0.98085121, 0.58507306, 0.71301614, 0.07395093,\n",
       "        0.10818143, 0.09168387, 0.57739787, 0.53345759, 0.49890587],\n",
       "       [0.34311117, 0.79279597, 0.45381072, 0.80826824, 0.95939382,\n",
       "        0.80803174, 0.79325094, 0.98760777, 0.84828737, 0.2745148 ],\n",
       "       [0.43117076, 0.62000763, 0.09584611, 0.45536008, 0.02126448,\n",
       "        0.25107378, 0.17018281, 0.77229535, 0.95354187, 0.77518453],\n",
       "       [0.38378566, 0.49475906, 0.5087447 , 0.7828558 , 0.90374019,\n",
       "        0.45839864, 0.25924966, 0.36963579, 0.623325  , 0.64791987]])"
      ]
     },
     "execution_count": 4,
     "metadata": {},
     "output_type": "execute_result"
    }
   ],
   "source": [
    "dtrain = xgb.DMatrix(data, label=label)\n",
    "\n",
    "data"
   ]
  },
  {
   "cell_type": "code",
   "execution_count": 5,
   "metadata": {},
   "outputs": [],
   "source": [
    "targets=np.random.rand(5, 10) # features in evaluation set \n",
    "label=np.random.randint(2, size=5) # targets in evaluation set \n",
    "\n",
    "dtest=xgb.DMatrix(data, label=label)"
   ]
  },
  {
   "attachments": {},
   "cell_type": "markdown",
   "metadata": {},
   "source": [
    "### Specifying Parameters\n",
    "\n"
   ]
  },
  {
   "cell_type": "code",
   "execution_count": 6,
   "metadata": {},
   "outputs": [],
   "source": [
    "param = {'max_depth': 2, 'eta': 1, 'objective': 'binary:logistic'}\n",
    "param['nthread'] = 4\n",
    "param['eval_metric'] = 'auc'\n",
    "\n",
    "evallist = [(dtrain, 'train'), (dtest, 'eval')]"
   ]
  },
  {
   "cell_type": "code",
   "execution_count": 7,
   "metadata": {},
   "outputs": [
    {
     "name": "stdout",
     "output_type": "stream",
     "text": [
      "[0]\ttrain-auc:0.50000\teval-auc:0.50000\n",
      "[1]\ttrain-auc:0.50000\teval-auc:0.50000\n",
      "[2]\ttrain-auc:0.50000\teval-auc:0.50000\n",
      "[3]\ttrain-auc:0.50000\teval-auc:0.50000\n",
      "[4]\ttrain-auc:0.50000\teval-auc:0.50000\n",
      "[5]\ttrain-auc:0.50000\teval-auc:0.50000\n",
      "[6]\ttrain-auc:0.50000\teval-auc:0.50000\n",
      "[7]\ttrain-auc:0.50000\teval-auc:0.50000\n",
      "[8]\ttrain-auc:0.50000\teval-auc:0.50000\n",
      "[9]\ttrain-auc:0.50000\teval-auc:0.50000\n"
     ]
    },
    {
     "name": "stderr",
     "output_type": "stream",
     "text": [
      "/home/jbohne/anaconda3/envs/ase/lib/python3.10/site-packages/xgboost/core.py:617: FutureWarning: Pass `evals` as keyword args.\n",
      "  warnings.warn(msg, FutureWarning)\n"
     ]
    }
   ],
   "source": [
    "num_round = 10\n",
    "bst = xgb.train(param, dtrain, num_round, evallist)"
   ]
  },
  {
   "cell_type": "code",
   "execution_count": null,
   "metadata": {},
   "outputs": [],
   "source": []
  }
 ],
 "metadata": {
  "kernelspec": {
   "display_name": "ase",
   "language": "python",
   "name": "python3"
  },
  "language_info": {
   "codemirror_mode": {
    "name": "ipython",
    "version": 3
   },
   "file_extension": ".py",
   "mimetype": "text/x-python",
   "name": "python",
   "nbconvert_exporter": "python",
   "pygments_lexer": "ipython3",
   "version": "3.10.10"
  },
  "orig_nbformat": 4
 },
 "nbformat": 4,
 "nbformat_minor": 2
}
